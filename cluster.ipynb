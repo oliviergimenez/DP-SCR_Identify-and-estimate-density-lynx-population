{
 "cells": [
  {
   "cell_type": "markdown",
   "id": "1bf42ffd-99c2-4ab1-b7b5-1cfb29b4d46d",
   "metadata": {},
   "source": [
    "# Clustering lynx"
   ]
  },
  {
   "cell_type": "code",
   "execution_count": 1,
   "id": "c78db62c-59d1-4202-aefe-edc7e760218e",
   "metadata": {
    "tags": []
   },
   "outputs": [
    {
     "name": "stderr",
     "output_type": "stream",
     "text": [
      "/gpfslocalsup/pub/anaconda-py3/2023.03/envs/pytorch-gpu-2.0.1+py3.10.12/lib/python3.10/site-packages/paramiko/transport.py:219: CryptographyDeprecationWarning: Blowfish has been deprecated\n",
      "  \"class\": algorithms.Blowfish,\n"
     ]
    }
   ],
   "source": [
    "import random\n",
    "import torch\n",
    "import re\n",
    "\n",
    "import pandas as pd\n",
    "import matplotlib.pyplot as plt\n",
    "import numpy as np\n",
    "\n",
    "from scipy.stats import norm\n",
    "from gensim.models import Word2Vec\n",
    "from sklearn.neighbors import NearestNeighbors\n",
    "from oml.functional.metrics import calc_cmc, calc_map, calc_precision"
   ]
  },
  {
   "cell_type": "code",
   "execution_count": 2,
   "id": "a598f168-1e00-418f-a575-d55e2ef52fd1",
   "metadata": {
    "tags": []
   },
   "outputs": [],
   "source": [
    "random.seed(42)"
   ]
  },
  {
   "cell_type": "code",
   "execution_count": 3,
   "id": "1bb2ce6e-f798-418e-a66f-798de64723d1",
   "metadata": {
    "tags": []
   },
   "outputs": [],
   "source": [
    "# !pip install -U open-metric-learning --user --no-cache-dir\n",
    "# !pip install gensim --user --no-cache-dir"
   ]
  },
  {
   "cell_type": "markdown",
   "id": "862b969b-d0a0-4cc0-aefc-f4b0d16a5cd2",
   "metadata": {},
   "source": [
    "## Load data"
   ]
  },
  {
   "cell_type": "code",
   "execution_count": 4,
   "id": "ef78cd90-c804-4657-becc-ce6e093af132",
   "metadata": {
    "tags": []
   },
   "outputs": [
    {
     "data": {
      "text/html": [
       "<div>\n",
       "<style scoped>\n",
       "    .dataframe tbody tr th:only-of-type {\n",
       "        vertical-align: middle;\n",
       "    }\n",
       "\n",
       "    .dataframe tbody tr th {\n",
       "        vertical-align: top;\n",
       "    }\n",
       "\n",
       "    .dataframe thead th {\n",
       "        text-align: right;\n",
       "    }\n",
       "</style>\n",
       "<table border=\"1\" class=\"dataframe\">\n",
       "  <thead>\n",
       "    <tr style=\"text-align: right;\">\n",
       "      <th></th>\n",
       "      <th>filepath</th>\n",
       "      <th>lynx_id</th>\n",
       "      <th>source</th>\n",
       "      <th>pattern</th>\n",
       "      <th>date</th>\n",
       "      <th>location</th>\n",
       "      <th>image_number</th>\n",
       "      <th>conf</th>\n",
       "      <th>x</th>\n",
       "      <th>y</th>\n",
       "      <th>width</th>\n",
       "      <th>height</th>\n",
       "    </tr>\n",
       "  </thead>\n",
       "  <tbody>\n",
       "    <tr>\n",
       "      <th>0</th>\n",
       "      <td>/gpfsscratch/rech/ads/commun/datasets/extracte...</td>\n",
       "      <td>Van-Gogh</td>\n",
       "      <td>OCS</td>\n",
       "      <td>NaN</td>\n",
       "      <td>2012-04-27</td>\n",
       "      <td>NaN</td>\n",
       "      <td>1</td>\n",
       "      <td>0.938</td>\n",
       "      <td>854.8416</td>\n",
       "      <td>1054.8000</td>\n",
       "      <td>558.8352</td>\n",
       "      <td>289.0000</td>\n",
       "    </tr>\n",
       "    <tr>\n",
       "      <th>1</th>\n",
       "      <td>/gpfsscratch/rech/ads/commun/datasets/extracte...</td>\n",
       "      <td>Van-Gogh</td>\n",
       "      <td>OCS</td>\n",
       "      <td>NaN</td>\n",
       "      <td>2012-05-05</td>\n",
       "      <td>NaN</td>\n",
       "      <td>2</td>\n",
       "      <td>0.894</td>\n",
       "      <td>906.8544</td>\n",
       "      <td>948.9312</td>\n",
       "      <td>997.7472</td>\n",
       "      <td>1628.8128</td>\n",
       "    </tr>\n",
       "    <tr>\n",
       "      <th>2</th>\n",
       "      <td>/gpfsscratch/rech/ads/commun/datasets/extracte...</td>\n",
       "      <td>Van-Gogh</td>\n",
       "      <td>OCS</td>\n",
       "      <td>NaN</td>\n",
       "      <td>2012-03-17</td>\n",
       "      <td>NaN</td>\n",
       "      <td>3</td>\n",
       "      <td>0.939</td>\n",
       "      <td>1192.8384</td>\n",
       "      <td>821.8000</td>\n",
       "      <td>743.9040</td>\n",
       "      <td>465.8000</td>\n",
       "    </tr>\n",
       "    <tr>\n",
       "      <th>3</th>\n",
       "      <td>/gpfsscratch/rech/ads/commun/datasets/extracte...</td>\n",
       "      <td>Van-Gogh</td>\n",
       "      <td>OCS</td>\n",
       "      <td>NaN</td>\n",
       "      <td>2012-03-16</td>\n",
       "      <td>NaN</td>\n",
       "      <td>4</td>\n",
       "      <td>0.965</td>\n",
       "      <td>834.8832</td>\n",
       "      <td>673.8000</td>\n",
       "      <td>594.8640</td>\n",
       "      <td>518.8000</td>\n",
       "    </tr>\n",
       "    <tr>\n",
       "      <th>4</th>\n",
       "      <td>/gpfsscratch/rech/ads/commun/datasets/extracte...</td>\n",
       "      <td>Van-Gogh</td>\n",
       "      <td>OCS</td>\n",
       "      <td>NaN</td>\n",
       "      <td>2012-03-05</td>\n",
       "      <td>NaN</td>\n",
       "      <td>5</td>\n",
       "      <td>0.970</td>\n",
       "      <td>765.9080</td>\n",
       "      <td>315.9860</td>\n",
       "      <td>568.8540</td>\n",
       "      <td>392.9500</td>\n",
       "    </tr>\n",
       "    <tr>\n",
       "      <th>...</th>\n",
       "      <td>...</td>\n",
       "      <td>...</td>\n",
       "      <td>...</td>\n",
       "      <td>...</td>\n",
       "      <td>...</td>\n",
       "      <td>...</td>\n",
       "      <td>...</td>\n",
       "      <td>...</td>\n",
       "      <td>...</td>\n",
       "      <td>...</td>\n",
       "      <td>...</td>\n",
       "      <td>...</td>\n",
       "    </tr>\n",
       "    <tr>\n",
       "      <th>3108</th>\n",
       "      <td>/gpfsscratch/rech/ads/commun/datasets/extracte...</td>\n",
       "      <td>679=L192</td>\n",
       "      <td>OFB</td>\n",
       "      <td>SPOTS</td>\n",
       "      <td>2015-07-21</td>\n",
       "      <td>Goumois</td>\n",
       "      <td>2</td>\n",
       "      <td>0.925</td>\n",
       "      <td>668.7360</td>\n",
       "      <td>1152.9216</td>\n",
       "      <td>3805.5744</td>\n",
       "      <td>2295.8208</td>\n",
       "    </tr>\n",
       "    <tr>\n",
       "      <th>3109</th>\n",
       "      <td>/gpfsscratch/rech/ads/commun/datasets/extracte...</td>\n",
       "      <td>679=L192</td>\n",
       "      <td>OFB</td>\n",
       "      <td>SPOTS</td>\n",
       "      <td>2015-07-21</td>\n",
       "      <td>Goumois</td>\n",
       "      <td>3</td>\n",
       "      <td>0.949</td>\n",
       "      <td>1276.8192</td>\n",
       "      <td>880.9344</td>\n",
       "      <td>3906.6624</td>\n",
       "      <td>2475.8784</td>\n",
       "    </tr>\n",
       "    <tr>\n",
       "      <th>3110</th>\n",
       "      <td>/gpfsscratch/rech/ads/commun/datasets/extracte...</td>\n",
       "      <td>679=L192</td>\n",
       "      <td>OFB</td>\n",
       "      <td>SPOTS</td>\n",
       "      <td>2015-07-21</td>\n",
       "      <td>Goumois</td>\n",
       "      <td>4</td>\n",
       "      <td>0.902</td>\n",
       "      <td>615.8804</td>\n",
       "      <td>767.9859</td>\n",
       "      <td>1334.8447</td>\n",
       "      <td>828.8511</td>\n",
       "    </tr>\n",
       "    <tr>\n",
       "      <th>3111</th>\n",
       "      <td>/gpfsscratch/rech/ads/commun/datasets/extracte...</td>\n",
       "      <td>1017</td>\n",
       "      <td>OFB</td>\n",
       "      <td>SPOTS</td>\n",
       "      <td>2017-08-08</td>\n",
       "      <td>Chaux-Neuve</td>\n",
       "      <td>1</td>\n",
       "      <td>0.959</td>\n",
       "      <td>1797.7904</td>\n",
       "      <td>835.8592</td>\n",
       "      <td>470.8928</td>\n",
       "      <td>251.9680</td>\n",
       "    </tr>\n",
       "    <tr>\n",
       "      <th>3112</th>\n",
       "      <td>/gpfsscratch/rech/ads/commun/datasets/extracte...</td>\n",
       "      <td>1017</td>\n",
       "      <td>OFB</td>\n",
       "      <td>SPOTS</td>\n",
       "      <td>2017-08-08</td>\n",
       "      <td>Chaux-Neuve</td>\n",
       "      <td>2</td>\n",
       "      <td>0.964</td>\n",
       "      <td>869.9152</td>\n",
       "      <td>1065.8048</td>\n",
       "      <td>345.9568</td>\n",
       "      <td>380.9280</td>\n",
       "    </tr>\n",
       "  </tbody>\n",
       "</table>\n",
       "<p>3113 rows × 12 columns</p>\n",
       "</div>"
      ],
      "text/plain": [
       "                                               filepath   lynx_id source  \\\n",
       "0     /gpfsscratch/rech/ads/commun/datasets/extracte...  Van-Gogh    OCS   \n",
       "1     /gpfsscratch/rech/ads/commun/datasets/extracte...  Van-Gogh    OCS   \n",
       "2     /gpfsscratch/rech/ads/commun/datasets/extracte...  Van-Gogh    OCS   \n",
       "3     /gpfsscratch/rech/ads/commun/datasets/extracte...  Van-Gogh    OCS   \n",
       "4     /gpfsscratch/rech/ads/commun/datasets/extracte...  Van-Gogh    OCS   \n",
       "...                                                 ...       ...    ...   \n",
       "3108  /gpfsscratch/rech/ads/commun/datasets/extracte...  679=L192    OFB   \n",
       "3109  /gpfsscratch/rech/ads/commun/datasets/extracte...  679=L192    OFB   \n",
       "3110  /gpfsscratch/rech/ads/commun/datasets/extracte...  679=L192    OFB   \n",
       "3111  /gpfsscratch/rech/ads/commun/datasets/extracte...      1017    OFB   \n",
       "3112  /gpfsscratch/rech/ads/commun/datasets/extracte...      1017    OFB   \n",
       "\n",
       "     pattern        date     location  image_number   conf          x  \\\n",
       "0        NaN  2012-04-27          NaN             1  0.938   854.8416   \n",
       "1        NaN  2012-05-05          NaN             2  0.894   906.8544   \n",
       "2        NaN  2012-03-17          NaN             3  0.939  1192.8384   \n",
       "3        NaN  2012-03-16          NaN             4  0.965   834.8832   \n",
       "4        NaN  2012-03-05          NaN             5  0.970   765.9080   \n",
       "...      ...         ...          ...           ...    ...        ...   \n",
       "3108   SPOTS  2015-07-21      Goumois             2  0.925   668.7360   \n",
       "3109   SPOTS  2015-07-21      Goumois             3  0.949  1276.8192   \n",
       "3110   SPOTS  2015-07-21      Goumois             4  0.902   615.8804   \n",
       "3111   SPOTS  2017-08-08  Chaux-Neuve             1  0.959  1797.7904   \n",
       "3112   SPOTS  2017-08-08  Chaux-Neuve             2  0.964   869.9152   \n",
       "\n",
       "              y      width     height  \n",
       "0     1054.8000   558.8352   289.0000  \n",
       "1      948.9312   997.7472  1628.8128  \n",
       "2      821.8000   743.9040   465.8000  \n",
       "3      673.8000   594.8640   518.8000  \n",
       "4      315.9860   568.8540   392.9500  \n",
       "...         ...        ...        ...  \n",
       "3108  1152.9216  3805.5744  2295.8208  \n",
       "3109   880.9344  3906.6624  2475.8784  \n",
       "3110   767.9859  1334.8447   828.8511  \n",
       "3111   835.8592   470.8928   251.9680  \n",
       "3112  1065.8048   345.9568   380.9280  \n",
       "\n",
       "[3113 rows x 12 columns]"
      ]
     },
     "execution_count": 4,
     "metadata": {},
     "output_type": "execute_result"
    }
   ],
   "source": [
    "data = pd.read_csv(\"/gpfsscratch/rech/ads/commun/datasets/extracted/lynx_dataset_france.csv\")\n",
    "data"
   ]
  },
  {
   "cell_type": "markdown",
   "id": "303d418d-f644-45f6-a50c-e160eb5c1a34",
   "metadata": {},
   "source": [
    "### Selection of individuals\n",
    "\n",
    "We are looking for individuals with around 10 images to test the evaluation metrics."
   ]
  },
  {
   "cell_type": "code",
   "execution_count": 5,
   "id": "903f1f8d-de64-48a3-8a6e-426faa506be3",
   "metadata": {
    "tags": []
   },
   "outputs": [
    {
     "data": {
      "text/plain": [
       "F25-069=J1-2019-1388    16\n",
       "1342                    16\n",
       "F25-030=B324            15\n",
       "704                     15\n",
       "1504                    14\n",
       "2208                    14\n",
       "1509                    14\n",
       "F25-059=1196=1385       14\n",
       "2446                    14\n",
       "F39-091=1724            13\n",
       "1350=B2011              13\n",
       "1324                    13\n",
       "F01-055=1363            13\n",
       "F25-037                 13\n",
       "1914                    12\n",
       "2358                    12\n",
       "2637                    12\n",
       "Oslo                    12\n",
       "2778                    12\n",
       "F25-039                 11\n",
       "Name: lynx_id, dtype: int64"
      ]
     },
     "execution_count": 5,
     "metadata": {},
     "output_type": "execute_result"
    }
   ],
   "source": [
    "lynx_id_counts = data['lynx_id'].value_counts()\n",
    "lynx_id_counts[50:70]"
   ]
  },
  {
   "cell_type": "code",
   "execution_count": 6,
   "id": "4ab3ca31-fae5-4db8-98a5-70dd57da6f90",
   "metadata": {
    "tags": []
   },
   "outputs": [],
   "source": [
    "selected_individuals = [\"Oslo\", \"2778\", \"1914\"]"
   ]
  },
  {
   "cell_type": "code",
   "execution_count": 7,
   "id": "56156d93-3295-447b-a765-13803be51571",
   "metadata": {
    "tags": []
   },
   "outputs": [],
   "source": [
    "data_selected_individuals = data[data[\"lynx_id\"].isin(selected_individuals)]\n",
    "data_selected_individuals = data_selected_individuals.copy()"
   ]
  },
  {
   "cell_type": "markdown",
   "id": "c6982b56-0b78-4337-8287-f4a8f7ca937d",
   "metadata": {},
   "source": [
    "### Generation of fake 2D image embeddings"
   ]
  },
  {
   "cell_type": "code",
   "execution_count": 8,
   "id": "f220ac94-b8d5-44bd-959f-e51818502b2b",
   "metadata": {
    "tags": []
   },
   "outputs": [],
   "source": [
    "def generate_embedding(lynx_id):\n",
    "    if lynx_id == \"Oslo\":\n",
    "        x = random.randint(0, 4)\n",
    "        y = random.randint(0, 4)\n",
    "    elif lynx_id == \"1914\":\n",
    "        x = random.randint(6, 10)\n",
    "        y = random.randint(6, 10)\n",
    "    else:\n",
    "        x = random.randint(0, 5)\n",
    "        y = random.randint(5, 10)\n",
    "        \n",
    "    return [x, y]"
   ]
  },
  {
   "cell_type": "code",
   "execution_count": 9,
   "id": "2755671c-cfa5-4486-b8db-57e31c148e41",
   "metadata": {
    "tags": []
   },
   "outputs": [],
   "source": [
    "data_selected_individuals[\"embedding\"] = data_selected_individuals[\"lynx_id\"].apply(generate_embedding)"
   ]
  },
  {
   "cell_type": "code",
   "execution_count": 10,
   "id": "5d9cd5dc-7e5f-4a90-8edd-b3acbdfd776a",
   "metadata": {
    "tags": []
   },
   "outputs": [],
   "source": [
    "data_selected_individuals[['embedding_x', 'embedding_y']] = pd.DataFrame(data_selected_individuals['embedding'].tolist(), index=data_selected_individuals.index)"
   ]
  },
  {
   "cell_type": "code",
   "execution_count": 11,
   "id": "cf893a3f-5a5d-4222-94dd-fdf343c933d1",
   "metadata": {
    "tags": []
   },
   "outputs": [
    {
     "data": {
      "text/html": [
       "<div>\n",
       "<style scoped>\n",
       "    .dataframe tbody tr th:only-of-type {\n",
       "        vertical-align: middle;\n",
       "    }\n",
       "\n",
       "    .dataframe tbody tr th {\n",
       "        vertical-align: top;\n",
       "    }\n",
       "\n",
       "    .dataframe thead th {\n",
       "        text-align: right;\n",
       "    }\n",
       "</style>\n",
       "<table border=\"1\" class=\"dataframe\">\n",
       "  <thead>\n",
       "    <tr style=\"text-align: right;\">\n",
       "      <th></th>\n",
       "      <th>filepath</th>\n",
       "      <th>lynx_id</th>\n",
       "      <th>source</th>\n",
       "      <th>pattern</th>\n",
       "      <th>date</th>\n",
       "      <th>location</th>\n",
       "      <th>image_number</th>\n",
       "      <th>conf</th>\n",
       "      <th>x</th>\n",
       "      <th>y</th>\n",
       "      <th>width</th>\n",
       "      <th>height</th>\n",
       "      <th>embedding</th>\n",
       "      <th>embedding_x</th>\n",
       "      <th>embedding_y</th>\n",
       "      <th>lynx_id_int</th>\n",
       "    </tr>\n",
       "  </thead>\n",
       "  <tbody>\n",
       "    <tr>\n",
       "      <th>0</th>\n",
       "      <td>/gpfsscratch/rech/ads/commun/datasets/extracte...</td>\n",
       "      <td>Oslo</td>\n",
       "      <td>OCS</td>\n",
       "      <td>NaN</td>\n",
       "      <td>2018-11-24</td>\n",
       "      <td>NaN</td>\n",
       "      <td>1</td>\n",
       "      <td>0.918</td>\n",
       "      <td>528.90</td>\n",
       "      <td>522.9640</td>\n",
       "      <td>295.95</td>\n",
       "      <td>168.9220</td>\n",
       "      <td>[0, 0]</td>\n",
       "      <td>0</td>\n",
       "      <td>0</td>\n",
       "      <td>0</td>\n",
       "    </tr>\n",
       "    <tr>\n",
       "      <th>1</th>\n",
       "      <td>/gpfsscratch/rech/ads/commun/datasets/extracte...</td>\n",
       "      <td>Oslo</td>\n",
       "      <td>OCS</td>\n",
       "      <td>NaN</td>\n",
       "      <td>2020-10-03</td>\n",
       "      <td>NaN</td>\n",
       "      <td>2</td>\n",
       "      <td>0.962</td>\n",
       "      <td>851.85</td>\n",
       "      <td>532.9170</td>\n",
       "      <td>255.90</td>\n",
       "      <td>171.9795</td>\n",
       "      <td>[2, 1]</td>\n",
       "      <td>2</td>\n",
       "      <td>1</td>\n",
       "      <td>0</td>\n",
       "    </tr>\n",
       "    <tr>\n",
       "      <th>2</th>\n",
       "      <td>/gpfsscratch/rech/ads/commun/datasets/extracte...</td>\n",
       "      <td>Oslo</td>\n",
       "      <td>OCS</td>\n",
       "      <td>NaN</td>\n",
       "      <td>2018-11-29</td>\n",
       "      <td>NaN</td>\n",
       "      <td>3</td>\n",
       "      <td>0.977</td>\n",
       "      <td>435.90</td>\n",
       "      <td>486.9813</td>\n",
       "      <td>378.00</td>\n",
       "      <td>244.9369</td>\n",
       "      <td>[1, 1]</td>\n",
       "      <td>1</td>\n",
       "      <td>1</td>\n",
       "      <td>0</td>\n",
       "    </tr>\n",
       "    <tr>\n",
       "      <th>3</th>\n",
       "      <td>/gpfsscratch/rech/ads/commun/datasets/extracte...</td>\n",
       "      <td>Oslo</td>\n",
       "      <td>OCS</td>\n",
       "      <td>NaN</td>\n",
       "      <td>2019-12-25</td>\n",
       "      <td>NaN</td>\n",
       "      <td>4</td>\n",
       "      <td>0.947</td>\n",
       "      <td>673.95</td>\n",
       "      <td>508.9643</td>\n",
       "      <td>277.95</td>\n",
       "      <td>147.9803</td>\n",
       "      <td>[0, 4]</td>\n",
       "      <td>0</td>\n",
       "      <td>4</td>\n",
       "      <td>0</td>\n",
       "    </tr>\n",
       "    <tr>\n",
       "      <th>4</th>\n",
       "      <td>/gpfsscratch/rech/ads/commun/datasets/extracte...</td>\n",
       "      <td>Oslo</td>\n",
       "      <td>OCS</td>\n",
       "      <td>NaN</td>\n",
       "      <td>2020-08-31</td>\n",
       "      <td>NaN</td>\n",
       "      <td>5</td>\n",
       "      <td>0.945</td>\n",
       "      <td>158.88</td>\n",
       "      <td>238.9500</td>\n",
       "      <td>181.92</td>\n",
       "      <td>99.9675</td>\n",
       "      <td>[0, 4]</td>\n",
       "      <td>0</td>\n",
       "      <td>4</td>\n",
       "      <td>0</td>\n",
       "    </tr>\n",
       "  </tbody>\n",
       "</table>\n",
       "</div>"
      ],
      "text/plain": [
       "                                            filepath lynx_id source pattern  \\\n",
       "0  /gpfsscratch/rech/ads/commun/datasets/extracte...    Oslo    OCS     NaN   \n",
       "1  /gpfsscratch/rech/ads/commun/datasets/extracte...    Oslo    OCS     NaN   \n",
       "2  /gpfsscratch/rech/ads/commun/datasets/extracte...    Oslo    OCS     NaN   \n",
       "3  /gpfsscratch/rech/ads/commun/datasets/extracte...    Oslo    OCS     NaN   \n",
       "4  /gpfsscratch/rech/ads/commun/datasets/extracte...    Oslo    OCS     NaN   \n",
       "\n",
       "         date location  image_number   conf       x         y   width  \\\n",
       "0  2018-11-24      NaN             1  0.918  528.90  522.9640  295.95   \n",
       "1  2020-10-03      NaN             2  0.962  851.85  532.9170  255.90   \n",
       "2  2018-11-29      NaN             3  0.977  435.90  486.9813  378.00   \n",
       "3  2019-12-25      NaN             4  0.947  673.95  508.9643  277.95   \n",
       "4  2020-08-31      NaN             5  0.945  158.88  238.9500  181.92   \n",
       "\n",
       "     height embedding  embedding_x  embedding_y  lynx_id_int  \n",
       "0  168.9220    [0, 0]            0            0            0  \n",
       "1  171.9795    [2, 1]            2            1            0  \n",
       "2  244.9369    [1, 1]            1            1            0  \n",
       "3  147.9803    [0, 4]            0            4            0  \n",
       "4   99.9675    [0, 4]            0            4            0  "
      ]
     },
     "execution_count": 11,
     "metadata": {},
     "output_type": "execute_result"
    }
   ],
   "source": [
    "data_selected_individuals.reset_index(drop=True, inplace=True)\n",
    "data_selected_individuals['lynx_id_int'], _ = pd.factorize(data_selected_individuals[\"lynx_id\"])\n",
    "\n",
    "data_selected_individuals.head()"
   ]
  },
  {
   "cell_type": "code",
   "execution_count": 12,
   "id": "3a00084c-ffa9-44ee-a0ce-27234a63234b",
   "metadata": {
    "tags": []
   },
   "outputs": [
    {
     "name": "stdout",
     "output_type": "stream",
     "text": [
      "{0: 'Oslo', 1: '1914', 2: '2778'}\n",
      "{'Oslo': 0, '1914': 1, '2778': 2}\n"
     ]
    }
   ],
   "source": [
    "lynx_int_to_str = pd.Series(data_selected_individuals['lynx_id'].values, index=data_selected_individuals['lynx_id_int'].values).to_dict()\n",
    "print(lynx_int_to_str)\n",
    "\n",
    "lynx_str_to_int = {v: k for k, v in lynx_int_to_str.items()}\n",
    "print(lynx_str_to_int)"
   ]
  },
  {
   "cell_type": "markdown",
   "id": "83b1cbc6-47c4-48c1-a039-5b680c6eb03a",
   "metadata": {},
   "source": [
    "## Reception of the image of new candidates\n",
    "\n",
    "The image is passed to the model and then we obtain an embedding (here 2D). Now, let's run a search using candidates and a NearestNeighbors."
   ]
  },
  {
   "cell_type": "code",
   "execution_count": 13,
   "id": "4e53f285-be91-4582-a035-25f5693a700b",
   "metadata": {
    "tags": []
   },
   "outputs": [],
   "source": [
    "candidates = [\n",
    "    ([2, 3], \"Oslo\"),\n",
    "    ([2, 6], \"2778\"),\n",
    "    ([8, 3], \"New\"),\n",
    "    ([9, 6], \"1914\"),\n",
    "    ([4, 8], \"2778\"),\n",
    "    ([4, 2], \"Oslo\"),\n",
    "    ([6, 7], \"1914\")\n",
    "]"
   ]
  },
  {
   "cell_type": "code",
   "execution_count": 14,
   "id": "467e3ed6-c9af-4c65-b95e-426b05c2d66b",
   "metadata": {
    "tags": []
   },
   "outputs": [
    {
     "data": {
      "text/plain": [
       "(([2, 3], [2, 6], [8, 3], [9, 6], [4, 8], [4, 2], [6, 7]),\n",
       " ('Oslo', '2778', 'New', '1914', '2778', 'Oslo', '1914'))"
      ]
     },
     "execution_count": 14,
     "metadata": {},
     "output_type": "execute_result"
    }
   ],
   "source": [
    "candidates_dots, candidates_id = zip(*candidates)\n",
    "candidates_dots, candidates_id"
   ]
  },
  {
   "cell_type": "code",
   "execution_count": 15,
   "id": "45bbc1bf-07e8-45d5-9949-6552a2edf4f2",
   "metadata": {
    "tags": []
   },
   "outputs": [
    {
     "data": {
      "text/plain": [
       "((2, 2, 8, 9, 4, 4, 6), (3, 6, 3, 6, 8, 2, 7))"
      ]
     },
     "execution_count": 15,
     "metadata": {},
     "output_type": "execute_result"
    }
   ],
   "source": [
    "candidates_dots_x, candidates_dots_y = zip(*candidates_dots)\n",
    "\n",
    "candidates_dots_x, candidates_dots_y"
   ]
  },
  {
   "cell_type": "markdown",
   "id": "ee2db95a-8e5e-4e79-8e9c-d8c802e10d1c",
   "metadata": {},
   "source": [
    "### Viewing individuals with their embeddings"
   ]
  },
  {
   "cell_type": "code",
   "execution_count": 16,
   "id": "6f9ff862-0801-4dd7-b438-cdc2184dde8c",
   "metadata": {
    "tags": []
   },
   "outputs": [
    {
     "data": {
      "text/plain": [
       "Text(0.5, 1.0, 'Scatter plot of embeddings with colouring by lynx_id')"
      ]
     },
     "execution_count": 16,
     "metadata": {},
     "output_type": "execute_result"
    },
    {
     "data": {
      "image/png": "[encoded data removed]",
      "text/plain": [
       "<Figure size 640x480 with 2 Axes>"
      ]
     },
     "metadata": {},
     "output_type": "display_data"
    }
   ],
   "source": [
    "fig, ax = plt.subplots()\n",
    "\n",
    "scatter = plt.scatter(data_selected_individuals['embedding_x'], data_selected_individuals['embedding_y'], c=data_selected_individuals['lynx_id_int'])\n",
    "ax.scatter(candidates_dots_x, candidates_dots_y, c='red', marker='o', label='New data')\n",
    "\n",
    "\n",
    "handles, labels = scatter.legend_elements()\n",
    "handles.append(ax.scatter([], [], c='red', marker='o'))\n",
    "labels.append('Candidate')\n",
    "labels = [re.search(r'\\d+', key).group() + ' - ' + lynx_int_to_str[int(re.search(r'\\d+', key).group())] if re.search(r'\\d+', key) else key for key in labels]\n",
    "legend = ax.legend(handles, labels, loc=\"center right\", title=\"lynx_id\",  bbox_to_anchor=(-0.2, 0.5))\n",
    "\n",
    "plt.colorbar(label=\"Lynx ID\")\n",
    "plt.xlabel(\"X\")\n",
    "plt.ylabel(\"Y\")\n",
    "plt.title(\"Scatter plot of embeddings with colouring by lynx_id\")"
   ]
  },
  {
   "cell_type": "markdown",
   "id": "5eebbb5f-5da4-4b5c-a764-3a13c6de1f29",
   "metadata": {},
   "source": [
    "### Nearest Neighbors"
   ]
  },
  {
   "cell_type": "code",
   "execution_count": 17,
   "id": "b3ede5ff-033d-4573-897e-1c53eff0a24c",
   "metadata": {
    "tags": []
   },
   "outputs": [],
   "source": [
    "neighbors = NearestNeighbors(n_neighbors=5, algorithm='brute', metric=\"minkowski\").fit(data_selected_individuals[\"embedding\"].values.tolist())"
   ]
  },
  {
   "cell_type": "code",
   "execution_count": 18,
   "id": "bc212c4e-8dc5-4733-a63b-951dd32eda51",
   "metadata": {
    "tags": []
   },
   "outputs": [
    {
     "data": {
      "text/plain": [
       "(array([[1.41421356, 2.        , 2.23606798, 2.23606798, 2.23606798],\n",
       "        [1.41421356, 1.41421356, 2.        , 2.        , 2.        ],\n",
       "        [3.        , 3.        , 3.        , 3.60555128, 4.12310563],\n",
       "        [1.        , 1.        , 1.        , 2.23606798, 2.23606798],\n",
       "        [1.        , 1.41421356, 2.        , 2.        , 2.        ],\n",
       "        [1.41421356, 2.        , 2.23606798, 2.23606798, 3.16227766],\n",
       "        [1.        , 1.        , 1.        , 2.        , 2.        ]]),\n",
       " array([[10,  1, 11,  8,  9],\n",
       "        [30, 35, 27, 33, 31],\n",
       "        [21, 13, 17, 28,  8],\n",
       "        [21, 17, 13, 15, 16],\n",
       "        [26, 34, 19, 27, 33],\n",
       "        [11,  8,  5,  1,  7],\n",
       "        [16, 34, 19, 23, 18]]))"
      ]
     },
     "execution_count": 18,
     "metadata": {},
     "output_type": "execute_result"
    }
   ],
   "source": [
    "distances, indices = neighbors.kneighbors(candidates_dots)\n",
    "distances, indices"
   ]
  },
  {
   "cell_type": "code",
   "execution_count": 19,
   "id": "002e5d0c-33b9-4958-a13d-b43ccc0e13e5",
   "metadata": {
    "tags": []
   },
   "outputs": [
    {
     "data": {
      "text/plain": [
       "[10    Oslo\n",
       " 1     Oslo\n",
       " 11    Oslo\n",
       " 8     Oslo\n",
       " 9     Oslo\n",
       " Name: lynx_id, dtype: object,\n",
       " 30    2778\n",
       " 35    2778\n",
       " 27    2778\n",
       " 33    2778\n",
       " 31    2778\n",
       " Name: lynx_id, dtype: object,\n",
       " 21    1914\n",
       " 13    1914\n",
       " 17    1914\n",
       " 28    2778\n",
       " 8     Oslo\n",
       " Name: lynx_id, dtype: object,\n",
       " 21    1914\n",
       " 17    1914\n",
       " 13    1914\n",
       " 15    1914\n",
       " 16    1914\n",
       " Name: lynx_id, dtype: object,\n",
       " 26    2778\n",
       " 34    2778\n",
       " 19    1914\n",
       " 27    2778\n",
       " 33    2778\n",
       " Name: lynx_id, dtype: object,\n",
       " 11    Oslo\n",
       " 8     Oslo\n",
       " 5     Oslo\n",
       " 1     Oslo\n",
       " 7     Oslo\n",
       " Name: lynx_id, dtype: object,\n",
       " 16    1914\n",
       " 34    2778\n",
       " 19    1914\n",
       " 23    1914\n",
       " 18    1914\n",
       " Name: lynx_id, dtype: object]"
      ]
     },
     "execution_count": 19,
     "metadata": {},
     "output_type": "execute_result"
    }
   ],
   "source": [
    "candidates_nearest_neighbors = [\n",
    "    data_selected_individuals.loc[candidate_indices, \"lynx_id\"]\n",
    "    for candidate_indices in indices\n",
    "]\n",
    "\n",
    "candidates_nearest_neighbors"
   ]
  },
  {
   "cell_type": "code",
   "execution_count": 20,
   "id": "e330b96d-7b13-45a1-8af5-9bfe73afd964",
   "metadata": {},
   "outputs": [
    {
     "data": {
      "text/plain": [
       "['Oslo', '2778', '1914', '1914', '2778', 'Oslo', '1914']"
      ]
     },
     "execution_count": 20,
     "metadata": {},
     "output_type": "execute_result"
    }
   ],
   "source": [
    "candidates_predicted_n_knn = [\n",
    "    candidate.value_counts().idxmax() for candidate in candidates_nearest_neighbors\n",
    "]\n",
    "\n",
    "candidates_predicted_n_knn"
   ]
  },
  {
   "cell_type": "code",
   "execution_count": 21,
   "id": "dd33d098-5012-4364-9de8-ea03c94c858a",
   "metadata": {
    "tags": []
   },
   "outputs": [
    {
     "data": {
      "text/plain": [
       "['Oslo', '2778', '1914', '1914', '2778', 'Oslo', '1914']"
      ]
     },
     "execution_count": 21,
     "metadata": {},
     "output_type": "execute_result"
    }
   ],
   "source": [
    "candidates_predicted_1_knn = [\n",
    "    candidate.iloc[0] for candidate in candidates_nearest_neighbors\n",
    "]\n",
    "\n",
    "candidates_predicted_1_knn"
   ]
  },
  {
   "cell_type": "markdown",
   "id": "1aa81588-dc9a-4fce-81d6-17d869c56fda",
   "metadata": {},
   "source": [
    "#### Should we reject the individual prediction? Is it a new individual?"
   ]
  },
  {
   "cell_type": "code",
   "execution_count": 22,
   "id": "04a654ef-c422-4fde-a469-fa9241bdcbc9",
   "metadata": {
    "tags": []
   },
   "outputs": [
    {
     "data": {
      "text/plain": [
       "{0: array([1.85416667, 3.        ]),\n",
       " 1: array([1.08333333, 2.30555556]),\n",
       " 2: array([3.66666667, 2.25      ])}"
      ]
     },
     "execution_count": 22,
     "metadata": {},
     "output_type": "execute_result"
    }
   ],
   "source": [
    "cluster_variances = {cluster_indices: np.var(data_selected_individuals[data_selected_individuals['lynx_id_int'] == cluster_indices]['embedding'].to_list(), axis=0) for cluster_indices in [0, 1, 2]}\n",
    "cluster_variances"
   ]
  },
  {
   "cell_type": "code",
   "execution_count": 23,
   "id": "058fcd8e-d474-455e-bcbe-b4d39e8a8c9a",
   "metadata": {
    "tags": []
   },
   "outputs": [
    {
     "data": {
      "text/plain": [
       "{0: array([1.25, 2.  ]),\n",
       " 1: array([7.5       , 8.16666667]),\n",
       " 2: array([2. , 7.5])}"
      ]
     },
     "execution_count": 23,
     "metadata": {},
     "output_type": "execute_result"
    }
   ],
   "source": [
    "cluster_means = {cluster_indices: np.mean(data_selected_individuals[data_selected_individuals['lynx_id_int'] == cluster_indices]['embedding'].to_list(), axis=0) for cluster_indices in [0, 1, 2]}\n",
    "cluster_means"
   ]
  },
  {
   "cell_type": "markdown",
   "id": "2989c178-95a7-41aa-b89c-f872c2560fc3",
   "metadata": {},
   "source": [
    "To **find the best value for sigma**, we can try to **find the value which maximises the true positives (rate of well classified known individuals) and the true negatives (rate of well classified unknown individuals)**."
   ]
  },
  {
   "cell_type": "code",
   "execution_count": 24,
   "id": "1e94b429-dfbb-4f63-b9e0-9adfccf88f9e",
   "metadata": {
    "tags": []
   },
   "outputs": [],
   "source": [
    "confidence_levels = [0.68, 0.95, 0.99]"
   ]
  },
  {
   "cell_type": "code",
   "execution_count": 25,
   "id": "ac1e5bc5-f7e2-4554-a12c-0a329ac8e65e",
   "metadata": {
    "tags": []
   },
   "outputs": [],
   "source": [
    "def compute_confidence_intervals(confidence, means, variances):\n",
    "    intervals = []\n",
    "    for mean, variance in zip(means.values(), variances.values()):\n",
    "        interval = norm.interval(confidence, loc=mean, scale=np.sqrt(variance))\n",
    "        intervals.append((np.array([interval[0][0], interval[1][0]]), np.array([interval[0][1], interval[1][1]])))\n",
    "    \n",
    "    return intervals"
   ]
  },
  {
   "cell_type": "code",
   "execution_count": 26,
   "id": "d67d9edf-f328-47b2-a197-1cd37ee5c49b",
   "metadata": {
    "tags": []
   },
   "outputs": [],
   "source": [
    "def check_new_individual(candidates_dots, candidates_predicted, candidates_id):\n",
    "    candidates_predicted_local = candidates_predicted.copy()\n",
    "    for index, (candidate_dot, candidate_predicted, candidate_id) in enumerate(zip(candidates_dots, candidates_predicted, candidates_id)):\n",
    "        confidence_intervals_for_candidate = confidence_intervals[lynx_str_to_int[candidate_predicted]]\n",
    "\n",
    "        in_confidence_interval = all(\n",
    "            interval[0] <= dot <= interval[1]\n",
    "            for dot, interval in zip(candidate_dot, confidence_intervals_for_candidate)\n",
    "        )\n",
    "\n",
    "        if in_confidence_interval:\n",
    "            print(f\"Candidate {candidate_dot} | Prediction: {candidate_predicted} | True label: {candidate_id}\")\n",
    "        else:\n",
    "            print(f\"Candidate {candidate_dot} | Prediction: new individual | True label: {candidate_id}\")\n",
    "            candidates_predicted_local[index] = \"New\"\n",
    "        \n",
    "    return candidates_predicted_local"
   ]
  },
  {
   "cell_type": "code",
   "execution_count": 27,
   "id": "601b34f4-6302-4dd5-8c13-a47719d83c92",
   "metadata": {
    "tags": []
   },
   "outputs": [],
   "source": [
    "def compute_accuracy(candidates_predicted, candidates_refs):\n",
    "    correct_predictions = sum(p == r for p, r in zip(candidates_predicted, candidates_refs))\n",
    "\n",
    "    total_predictions = len(candidates_predicted)\n",
    "    accuracy = correct_predictions/total_predictions\n",
    "    \n",
    "    return accuracy"
   ]
  },
  {
   "cell_type": "code",
   "execution_count": 28,
   "id": "6b10d626-5ad0-41fd-b8a8-27043ab8c76d",
   "metadata": {
    "tags": []
   },
   "outputs": [
    {
     "name": "stdout",
     "output_type": "stream",
     "text": [
      "************************************************** 0.68 **************************************************\n",
      "Candidate [2, 3] | Prediction: Oslo | True label: Oslo\n",
      "Candidate [2, 6] | Prediction: new individual | True label: 2778\n",
      "Candidate [8, 3] | Prediction: new individual | True label: New\n",
      "Candidate [9, 6] | Prediction: new individual | True label: 1914\n",
      "Candidate [4, 8] | Prediction: new individual | True label: 2778\n",
      "Candidate [4, 2] | Prediction: new individual | True label: Oslo\n",
      "Candidate [6, 7] | Prediction: new individual | True label: 1914\n",
      "Accuracy: 0.2857142857142857\n",
      "************************************************** 0.95 **************************************************\n",
      "Candidate [2, 3] | Prediction: Oslo | True label: Oslo\n",
      "Candidate [2, 6] | Prediction: 2778 | True label: 2778\n",
      "Candidate [8, 3] | Prediction: new individual | True label: New\n",
      "Candidate [9, 6] | Prediction: 1914 | True label: 1914\n",
      "Candidate [4, 8] | Prediction: 2778 | True label: 2778\n",
      "Candidate [4, 2] | Prediction: new individual | True label: Oslo\n",
      "Candidate [6, 7] | Prediction: 1914 | True label: 1914\n",
      "Accuracy: 0.8571428571428571\n",
      "************************************************** 0.99 **************************************************\n",
      "Candidate [2, 3] | Prediction: Oslo | True label: Oslo\n",
      "Candidate [2, 6] | Prediction: 2778 | True label: 2778\n",
      "Candidate [8, 3] | Prediction: new individual | True label: New\n",
      "Candidate [9, 6] | Prediction: 1914 | True label: 1914\n",
      "Candidate [4, 8] | Prediction: 2778 | True label: 2778\n",
      "Candidate [4, 2] | Prediction: Oslo | True label: Oslo\n",
      "Candidate [6, 7] | Prediction: 1914 | True label: 1914\n",
      "Accuracy: 1.0\n"
     ]
    }
   ],
   "source": [
    "accuracy_list = []\n",
    "\n",
    "for confidence in confidence_levels:\n",
    "    print(\"*\"*50, confidence, \"*\"*50)\n",
    "    confidence_intervals = compute_confidence_intervals(confidence, cluster_means, cluster_variances)\n",
    "    candidates_predicted_check = check_new_individual(candidates_dots, candidates_predicted_1_knn, candidates_id)\n",
    "    accuracy = compute_accuracy(candidates_predicted_check, candidates_id)\n",
    "    print(f\"Accuracy: {accuracy}\")\n",
    "    accuracy_list.append(accuracy)"
   ]
  },
  {
   "cell_type": "code",
   "execution_count": 29,
   "id": "43602f99-27f4-459f-a57d-c2a5d945768b",
   "metadata": {
    "tags": []
   },
   "outputs": [
    {
     "data": {
      "image/png": "[encoded data removed]",
      "text/plain": [
       "<Figure size 640x480 with 1 Axes>"
      ]
     },
     "metadata": {},
     "output_type": "display_data"
    }
   ],
   "source": [
    "plt.bar([str(conf) for conf in confidence_levels], accuracy_list)\n",
    "plt.xlabel('Indices')\n",
    "plt.ylabel('Accuracy')\n",
    "plt.title('Accuracy as a function of sigma standard deviations')\n",
    "plt.show()"
   ]
  },
  {
   "cell_type": "markdown",
   "id": "f35c39c6-4001-43fb-9085-a57678be69db",
   "metadata": {},
   "source": [
    "### Compute the other metrics\n",
    "\n",
    "Now let's calculate the metrics. To do this, we use the `open-metric-learning` module, which offers ready-made implementations of **CMC@k**, **mAP@k** and **Precision@k**. \n",
    "\n",
    "Before calculating the metrics, we need to **adapt `candidates_nearest_neighbors` to the detection of new individuals after our calculation with confidence intervals**. Candidate i, if detected as New, will see its neighbours as \"New\" from now on."
   ]
  },
  {
   "cell_type": "code",
   "execution_count": 30,
   "id": "1bcfa83b-164f-4c13-b76d-d5b910e49d8b",
   "metadata": {
    "tags": []
   },
   "outputs": [
    {
     "data": {
      "text/plain": [
       "[10    Oslo\n",
       " 1     Oslo\n",
       " 11    Oslo\n",
       " 8     Oslo\n",
       " 9     Oslo\n",
       " Name: lynx_id, dtype: object,\n",
       " 30    2778\n",
       " 35    2778\n",
       " 27    2778\n",
       " 33    2778\n",
       " 31    2778\n",
       " Name: lynx_id, dtype: object,\n",
       " 21    New\n",
       " 13    New\n",
       " 17    New\n",
       " 28    New\n",
       " 8     New\n",
       " Name: lynx_id, dtype: object,\n",
       " 21    1914\n",
       " 17    1914\n",
       " 13    1914\n",
       " 15    1914\n",
       " 16    1914\n",
       " Name: lynx_id, dtype: object,\n",
       " 26    2778\n",
       " 34    2778\n",
       " 19    1914\n",
       " 27    2778\n",
       " 33    2778\n",
       " Name: lynx_id, dtype: object,\n",
       " 11    Oslo\n",
       " 8     Oslo\n",
       " 5     Oslo\n",
       " 1     Oslo\n",
       " 7     Oslo\n",
       " Name: lynx_id, dtype: object,\n",
       " 16    1914\n",
       " 34    2778\n",
       " 19    1914\n",
       " 23    1914\n",
       " 18    1914\n",
       " Name: lynx_id, dtype: object]"
      ]
     },
     "execution_count": 30,
     "metadata": {},
     "output_type": "execute_result"
    }
   ],
   "source": [
    "for index, value in enumerate(candidates_predicted_check):\n",
    "    if value == \"New\":\n",
    "        candidates_nearest_neighbors[index] = candidates_nearest_neighbors[index].apply(lambda x: \"New\")\n",
    "        \n",
    "candidates_nearest_neighbors"
   ]
  },
  {
   "cell_type": "code",
   "execution_count": 31,
   "id": "1e8f1c09-7899-4df3-be82-2c38c6d2b9f0",
   "metadata": {
    "tags": []
   },
   "outputs": [],
   "source": [
    "top_k = (1, 2, 3, 4, 5)"
   ]
  },
  {
   "cell_type": "code",
   "execution_count": 32,
   "id": "4be554c3-21c1-456d-a52e-31ade864a38c",
   "metadata": {
    "tags": []
   },
   "outputs": [],
   "source": [
    "def acc_k_list(nearest_individuals, true_individual):\n",
    "    return nearest_individuals.apply(lambda x: x == true_individual).tolist()"
   ]
  },
  {
   "cell_type": "code",
   "execution_count": 33,
   "id": "b2556409-c01c-4bbc-8a87-4409d4804712",
   "metadata": {
    "tags": []
   },
   "outputs": [
    {
     "data": {
      "text/plain": [
       "tensor([[ True,  True,  True,  True,  True],\n",
       "        [ True,  True,  True,  True,  True],\n",
       "        [ True,  True,  True,  True,  True],\n",
       "        [ True,  True,  True,  True,  True],\n",
       "        [ True,  True, False,  True,  True],\n",
       "        [ True,  True,  True,  True,  True],\n",
       "        [ True, False,  True,  True,  True]])"
      ]
     },
     "execution_count": 33,
     "metadata": {},
     "output_type": "execute_result"
    }
   ],
   "source": [
    "candidates_acc_k_list = [acc_k_list(neighbors, candidate_id) for neighbors, candidate_id in zip(candidates_nearest_neighbors, candidates_id)]\n",
    "candidates_acc_k_tensor = torch.tensor(candidates_acc_k_list, dtype=torch.bool)\n",
    "\n",
    "candidates_acc_k_tensor"
   ]
  },
  {
   "cell_type": "markdown",
   "id": "eda7928c-9f49-4646-b8e1-a301b59318ab",
   "metadata": {},
   "source": [
    "#### CMC@k (Cumulative Matching Characteristics) "
   ]
  },
  {
   "cell_type": "code",
   "execution_count": 34,
   "id": "be290c03-eb33-4086-b742-251eacdca4ee",
   "metadata": {
    "tags": []
   },
   "outputs": [
    {
     "data": {
      "text/plain": [
       "[tensor([1., 1., 1., 1., 1., 1., 1.]),\n",
       " tensor([1., 1., 1., 1., 1., 1., 1.]),\n",
       " tensor([1., 1., 1., 1., 1., 1., 1.]),\n",
       " tensor([1., 1., 1., 1., 1., 1., 1.]),\n",
       " tensor([1., 1., 1., 1., 1., 1., 1.])]"
      ]
     },
     "execution_count": 34,
     "metadata": {},
     "output_type": "execute_result"
    }
   ],
   "source": [
    "calc_cmc(candidates_acc_k_tensor, top_k)"
   ]
  },
  {
   "cell_type": "markdown",
   "id": "45a5c1a8-5fb9-438a-b55f-a5d0f08d1d12",
   "metadata": {},
   "source": [
    "#### mAP@k (mean Average Precision)"
   ]
  },
  {
   "cell_type": "code",
   "execution_count": 35,
   "id": "1aa15d41-9efd-44ae-b9ca-3f3a85127149",
   "metadata": {
    "tags": []
   },
   "outputs": [],
   "source": [
    "n_gt = torch.tensor([5])"
   ]
  },
  {
   "cell_type": "code",
   "execution_count": 36,
   "id": "021a0bde-b95d-4ee5-9d04-07a496cd3191",
   "metadata": {
    "tags": []
   },
   "outputs": [
    {
     "data": {
      "text/plain": [
       "[tensor([1., 1., 1., 1., 1., 1., 1.]),\n",
       " tensor([1., 1., 1., 1., 1., 1., 1.]),\n",
       " tensor([1.0000, 1.0000, 1.0000, 1.0000, 1.0000, 1.0000, 0.8333]),\n",
       " tensor([1.0000, 1.0000, 1.0000, 1.0000, 0.9167, 1.0000, 0.8056]),\n",
       " tensor([1.0000, 1.0000, 1.0000, 1.0000, 0.8875, 1.0000, 0.8042])]"
      ]
     },
     "execution_count": 36,
     "metadata": {},
     "output_type": "execute_result"
    }
   ],
   "source": [
    "calc_map(candidates_acc_k_tensor, n_gt=n_gt, top_k=top_k)"
   ]
  },
  {
   "cell_type": "markdown",
   "id": "320d12c0-3089-4480-bf0b-05c9f13115e1",
   "metadata": {},
   "source": [
    "#### Precision@k"
   ]
  },
  {
   "cell_type": "code",
   "execution_count": 37,
   "id": "56ddfa71-92e4-400c-936a-53ebe413b3fa",
   "metadata": {
    "tags": []
   },
   "outputs": [
    {
     "data": {
      "text/plain": [
       "[tensor([1., 1., 1., 1., 1., 1., 1.]),\n",
       " tensor([1.0000, 1.0000, 1.0000, 1.0000, 1.0000, 1.0000, 0.5000]),\n",
       " tensor([1.0000, 1.0000, 1.0000, 1.0000, 0.6667, 1.0000, 0.6667]),\n",
       " tensor([1.0000, 1.0000, 1.0000, 1.0000, 0.7500, 1.0000, 0.7500]),\n",
       " tensor([1.0000, 1.0000, 1.0000, 1.0000, 0.8000, 1.0000, 0.8000])]"
      ]
     },
     "execution_count": 37,
     "metadata": {},
     "output_type": "execute_result"
    }
   ],
   "source": [
    "calc_precision(candidates_acc_k_tensor, n_gt=n_gt, top_k=top_k)"
   ]
  }
 ],
 "metadata": {
  "kernelspec": {
   "display_name": "pytorch-gpu-2.0.1_py3.10.12",
   "language": "python",
   "name": "module-conda-env-pytorch-gpu-2.0.1_py3.10.12"
  },
  "language_info": {
   "codemirror_mode": {
    "name": "ipython",
    "version": 3
   },
   "file_extension": ".py",
   "mimetype": "text/x-python",
   "name": "python",
   "nbconvert_exporter": "python",
   "pygments_lexer": "ipython3",
   "version": "3.10.12"
  }
 },
 "nbformat": 4,
 "nbformat_minor": 5
}
