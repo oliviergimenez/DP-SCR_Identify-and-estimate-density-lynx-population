{
 "cells": [
  {
   "cell_type": "markdown",
   "id": "1bf42ffd-99c2-4ab1-b7b5-1cfb29b4d46d",
   "metadata": {},
   "source": [
    "# Clustering lynx"
   ]
  },
  {
   "cell_type": "code",
   "execution_count": 1,
   "id": "2791c1a5-f797-406e-899a-2b08a4e7ca95",
   "metadata": {
    "tags": []
   },
   "outputs": [],
   "source": [
    "# Allow reloading of libraries without restarting the kernel\n",
    "%load_ext autoreload\n",
    "%autoreload 2"
   ]
  },
  {
   "cell_type": "code",
   "execution_count": 2,
   "id": "c78db62c-59d1-4202-aefe-edc7e760218e",
   "metadata": {
    "tags": []
   },
   "outputs": [
    {
     "name": "stderr",
     "output_type": "stream",
     "text": [
      "/gpfslocalsup/pub/anaconda-py3/2023.03/envs/pytorch-gpu-2.0.1+py3.10.12/lib/python3.10/site-packages/torchvision-0.15.2a0+fa99a53-py3.10-linux-x86_64.egg/torchvision/io/image.py:13: UserWarning: Failed to load image Python extension: '/gpfs7kro/gpfslocalsup/pub/anaconda-py3/2023.03/envs/pytorch-gpu-2.0.1+py3.10.12/lib/python3.10/site-packages/torchvision-0.15.2a0+fa99a53-py3.10-linux-x86_64.egg/torchvision/image.so: undefined symbol: _ZN5torch3jit17parseSchemaOrNameERKNSt7__cxx1112basic_stringIcSt11char_traitsIcESaIcEEE'If you don't plan on using image functionality from `torchvision.io`, you can ignore this warning. Otherwise, there might be something wrong with your environment. Did you have `libjpeg` or `libpng` installed before building `torchvision` from source?\n",
      "  warn(\n",
      "/gpfslocalsup/pub/anaconda-py3/2023.03/envs/pytorch-gpu-2.0.1+py3.10.12/lib/python3.10/site-packages/paramiko/transport.py:219: CryptographyDeprecationWarning: Blowfish has been deprecated\n",
      "  \"class\": algorithms.Blowfish,\n"
     ]
    }
   ],
   "source": [
    "import random\n",
    "import torch\n",
    "import re\n",
    "\n",
    "import pandas as pd\n",
    "import matplotlib.pyplot as plt\n",
    "import numpy as np\n",
    "import torch.nn as nn\n",
    "\n",
    "from tqdm import tqdm\n",
    "from torchvision import models\n",
    "from scipy.stats import norm\n",
    "from gensim.models import Word2Vec\n",
    "from sklearn.neighbors import NearestNeighbors\n",
    "from oml.functional.metrics import calc_cmc, calc_map, calc_precision"
   ]
  },
  {
   "cell_type": "code",
   "execution_count": 3,
   "id": "a598f168-1e00-418f-a575-d55e2ef52fd1",
   "metadata": {
    "tags": []
   },
   "outputs": [],
   "source": [
    "random.seed(42)"
   ]
  },
  {
   "cell_type": "code",
   "execution_count": 4,
   "id": "6e6637fd-79b8-48e2-9da7-b534918a3d6d",
   "metadata": {
    "tags": []
   },
   "outputs": [],
   "source": [
    "# !pip install -U open-metric-learning --user --no-cache-dir\n",
    "# !pip install gensim --user --no-cache-dir"
   ]
  },
  {
   "cell_type": "markdown",
   "id": "862b969b-d0a0-4cc0-aefc-f4b0d16a5cd2",
   "metadata": {},
   "source": [
    "## Load data"
   ]
  },
  {
   "cell_type": "code",
   "execution_count": 5,
   "id": "ef78cd90-c804-4657-becc-ce6e093af132",
   "metadata": {
    "tags": []
   },
   "outputs": [
    {
     "data": {
      "text/html": [
       "<div>\n",
       "<style scoped>\n",
       "    .dataframe tbody tr th:only-of-type {\n",
       "        vertical-align: middle;\n",
       "    }\n",
       "\n",
       "    .dataframe tbody tr th {\n",
       "        vertical-align: top;\n",
       "    }\n",
       "\n",
       "    .dataframe thead th {\n",
       "        text-align: right;\n",
       "    }\n",
       "</style>\n",
       "<table border=\"1\" class=\"dataframe\">\n",
       "  <thead>\n",
       "    <tr style=\"text-align: right;\">\n",
       "      <th></th>\n",
       "      <th>filepath</th>\n",
       "      <th>lynx_id</th>\n",
       "      <th>source</th>\n",
       "      <th>pattern</th>\n",
       "      <th>date</th>\n",
       "      <th>location</th>\n",
       "      <th>image_number</th>\n",
       "      <th>conf</th>\n",
       "      <th>x</th>\n",
       "      <th>y</th>\n",
       "      <th>width</th>\n",
       "      <th>height</th>\n",
       "    </tr>\n",
       "  </thead>\n",
       "  <tbody>\n",
       "    <tr>\n",
       "      <th>0</th>\n",
       "      <td>/gpfsscratch/rech/ads/commun/datasets/extracte...</td>\n",
       "      <td>Van-Gogh</td>\n",
       "      <td>OCS</td>\n",
       "      <td>NaN</td>\n",
       "      <td>2012-04-27</td>\n",
       "      <td>NaN</td>\n",
       "      <td>1</td>\n",
       "      <td>0.938</td>\n",
       "      <td>854.8416</td>\n",
       "      <td>1054.8000</td>\n",
       "      <td>558.8352</td>\n",
       "      <td>289.0000</td>\n",
       "    </tr>\n",
       "    <tr>\n",
       "      <th>1</th>\n",
       "      <td>/gpfsscratch/rech/ads/commun/datasets/extracte...</td>\n",
       "      <td>Van-Gogh</td>\n",
       "      <td>OCS</td>\n",
       "      <td>NaN</td>\n",
       "      <td>2012-05-05</td>\n",
       "      <td>NaN</td>\n",
       "      <td>2</td>\n",
       "      <td>0.894</td>\n",
       "      <td>906.8544</td>\n",
       "      <td>948.9312</td>\n",
       "      <td>997.7472</td>\n",
       "      <td>1628.8128</td>\n",
       "    </tr>\n",
       "    <tr>\n",
       "      <th>2</th>\n",
       "      <td>/gpfsscratch/rech/ads/commun/datasets/extracte...</td>\n",
       "      <td>Van-Gogh</td>\n",
       "      <td>OCS</td>\n",
       "      <td>NaN</td>\n",
       "      <td>2012-03-17</td>\n",
       "      <td>NaN</td>\n",
       "      <td>3</td>\n",
       "      <td>0.939</td>\n",
       "      <td>1192.8384</td>\n",
       "      <td>821.8000</td>\n",
       "      <td>743.9040</td>\n",
       "      <td>465.8000</td>\n",
       "    </tr>\n",
       "    <tr>\n",
       "      <th>3</th>\n",
       "      <td>/gpfsscratch/rech/ads/commun/datasets/extracte...</td>\n",
       "      <td>Van-Gogh</td>\n",
       "      <td>OCS</td>\n",
       "      <td>NaN</td>\n",
       "      <td>2012-03-16</td>\n",
       "      <td>NaN</td>\n",
       "      <td>4</td>\n",
       "      <td>0.965</td>\n",
       "      <td>834.8832</td>\n",
       "      <td>673.8000</td>\n",
       "      <td>594.8640</td>\n",
       "      <td>518.8000</td>\n",
       "    </tr>\n",
       "    <tr>\n",
       "      <th>4</th>\n",
       "      <td>/gpfsscratch/rech/ads/commun/datasets/extracte...</td>\n",
       "      <td>Van-Gogh</td>\n",
       "      <td>OCS</td>\n",
       "      <td>NaN</td>\n",
       "      <td>2012-03-05</td>\n",
       "      <td>NaN</td>\n",
       "      <td>5</td>\n",
       "      <td>0.970</td>\n",
       "      <td>765.9080</td>\n",
       "      <td>315.9860</td>\n",
       "      <td>568.8540</td>\n",
       "      <td>392.9500</td>\n",
       "    </tr>\n",
       "    <tr>\n",
       "      <th>...</th>\n",
       "      <td>...</td>\n",
       "      <td>...</td>\n",
       "      <td>...</td>\n",
       "      <td>...</td>\n",
       "      <td>...</td>\n",
       "      <td>...</td>\n",
       "      <td>...</td>\n",
       "      <td>...</td>\n",
       "      <td>...</td>\n",
       "      <td>...</td>\n",
       "      <td>...</td>\n",
       "      <td>...</td>\n",
       "    </tr>\n",
       "    <tr>\n",
       "      <th>3075</th>\n",
       "      <td>/gpfsscratch/rech/ads/commun/datasets/extracte...</td>\n",
       "      <td>679=L192</td>\n",
       "      <td>OFB</td>\n",
       "      <td>SPOTS</td>\n",
       "      <td>2015-07-21</td>\n",
       "      <td>Goumois</td>\n",
       "      <td>2</td>\n",
       "      <td>0.925</td>\n",
       "      <td>668.7360</td>\n",
       "      <td>1152.9216</td>\n",
       "      <td>3805.5744</td>\n",
       "      <td>2295.8208</td>\n",
       "    </tr>\n",
       "    <tr>\n",
       "      <th>3076</th>\n",
       "      <td>/gpfsscratch/rech/ads/commun/datasets/extracte...</td>\n",
       "      <td>679=L192</td>\n",
       "      <td>OFB</td>\n",
       "      <td>SPOTS</td>\n",
       "      <td>2015-07-21</td>\n",
       "      <td>Goumois</td>\n",
       "      <td>3</td>\n",
       "      <td>0.949</td>\n",
       "      <td>1276.8192</td>\n",
       "      <td>880.9344</td>\n",
       "      <td>3906.6624</td>\n",
       "      <td>2475.8784</td>\n",
       "    </tr>\n",
       "    <tr>\n",
       "      <th>3077</th>\n",
       "      <td>/gpfsscratch/rech/ads/commun/datasets/extracte...</td>\n",
       "      <td>679=L192</td>\n",
       "      <td>OFB</td>\n",
       "      <td>SPOTS</td>\n",
       "      <td>2015-07-21</td>\n",
       "      <td>Goumois</td>\n",
       "      <td>4</td>\n",
       "      <td>0.902</td>\n",
       "      <td>615.8804</td>\n",
       "      <td>767.9859</td>\n",
       "      <td>1334.8447</td>\n",
       "      <td>828.8511</td>\n",
       "    </tr>\n",
       "    <tr>\n",
       "      <th>3078</th>\n",
       "      <td>/gpfsscratch/rech/ads/commun/datasets/extracte...</td>\n",
       "      <td>1017</td>\n",
       "      <td>OFB</td>\n",
       "      <td>SPOTS</td>\n",
       "      <td>2017-08-08</td>\n",
       "      <td>Chaux-Neuve</td>\n",
       "      <td>1</td>\n",
       "      <td>0.959</td>\n",
       "      <td>1797.7904</td>\n",
       "      <td>835.8592</td>\n",
       "      <td>470.8928</td>\n",
       "      <td>251.9680</td>\n",
       "    </tr>\n",
       "    <tr>\n",
       "      <th>3079</th>\n",
       "      <td>/gpfsscratch/rech/ads/commun/datasets/extracte...</td>\n",
       "      <td>1017</td>\n",
       "      <td>OFB</td>\n",
       "      <td>SPOTS</td>\n",
       "      <td>2017-08-08</td>\n",
       "      <td>Chaux-Neuve</td>\n",
       "      <td>2</td>\n",
       "      <td>0.964</td>\n",
       "      <td>869.9152</td>\n",
       "      <td>1065.8048</td>\n",
       "      <td>345.9568</td>\n",
       "      <td>380.9280</td>\n",
       "    </tr>\n",
       "  </tbody>\n",
       "</table>\n",
       "<p>3080 rows × 12 columns</p>\n",
       "</div>"
      ],
      "text/plain": [
       "                                               filepath   lynx_id source  \\\n",
       "0     /gpfsscratch/rech/ads/commun/datasets/extracte...  Van-Gogh    OCS   \n",
       "1     /gpfsscratch/rech/ads/commun/datasets/extracte...  Van-Gogh    OCS   \n",
       "2     /gpfsscratch/rech/ads/commun/datasets/extracte...  Van-Gogh    OCS   \n",
       "3     /gpfsscratch/rech/ads/commun/datasets/extracte...  Van-Gogh    OCS   \n",
       "4     /gpfsscratch/rech/ads/commun/datasets/extracte...  Van-Gogh    OCS   \n",
       "...                                                 ...       ...    ...   \n",
       "3075  /gpfsscratch/rech/ads/commun/datasets/extracte...  679=L192    OFB   \n",
       "3076  /gpfsscratch/rech/ads/commun/datasets/extracte...  679=L192    OFB   \n",
       "3077  /gpfsscratch/rech/ads/commun/datasets/extracte...  679=L192    OFB   \n",
       "3078  /gpfsscratch/rech/ads/commun/datasets/extracte...      1017    OFB   \n",
       "3079  /gpfsscratch/rech/ads/commun/datasets/extracte...      1017    OFB   \n",
       "\n",
       "     pattern        date     location  image_number   conf          x  \\\n",
       "0        NaN  2012-04-27          NaN             1  0.938   854.8416   \n",
       "1        NaN  2012-05-05          NaN             2  0.894   906.8544   \n",
       "2        NaN  2012-03-17          NaN             3  0.939  1192.8384   \n",
       "3        NaN  2012-03-16          NaN             4  0.965   834.8832   \n",
       "4        NaN  2012-03-05          NaN             5  0.970   765.9080   \n",
       "...      ...         ...          ...           ...    ...        ...   \n",
       "3075   SPOTS  2015-07-21      Goumois             2  0.925   668.7360   \n",
       "3076   SPOTS  2015-07-21      Goumois             3  0.949  1276.8192   \n",
       "3077   SPOTS  2015-07-21      Goumois             4  0.902   615.8804   \n",
       "3078   SPOTS  2017-08-08  Chaux-Neuve             1  0.959  1797.7904   \n",
       "3079   SPOTS  2017-08-08  Chaux-Neuve             2  0.964   869.9152   \n",
       "\n",
       "              y      width     height  \n",
       "0     1054.8000   558.8352   289.0000  \n",
       "1      948.9312   997.7472  1628.8128  \n",
       "2      821.8000   743.9040   465.8000  \n",
       "3      673.8000   594.8640   518.8000  \n",
       "4      315.9860   568.8540   392.9500  \n",
       "...         ...        ...        ...  \n",
       "3075  1152.9216  3805.5744  2295.8208  \n",
       "3076   880.9344  3906.6624  2475.8784  \n",
       "3077   767.9859  1334.8447   828.8511  \n",
       "3078   835.8592   470.8928   251.9680  \n",
       "3079  1065.8048   345.9568   380.9280  \n",
       "\n",
       "[3080 rows x 12 columns]"
      ]
     },
     "execution_count": 5,
     "metadata": {},
     "output_type": "execute_result"
    }
   ],
   "source": [
    "data = pd.read_csv(\"/gpfsscratch/rech/ads/commun/datasets/extracted/lynx_dataset_france.csv\")\n",
    "data"
   ]
  },
  {
   "cell_type": "markdown",
   "id": "29e7a651-b20d-4bd4-8489-9af46c0ebbb9",
   "metadata": {
    "tags": []
   },
   "source": [
    "### Load our best model to get embeddings from image"
   ]
  },
  {
   "cell_type": "code",
   "execution_count": 6,
   "id": "b183ea1b-8ef6-4551-b1a0-fbd0c4bb2e3d",
   "metadata": {
    "tags": []
   },
   "outputs": [
    {
     "name": "stderr",
     "output_type": "stream",
     "text": [
      "/gpfslocalsup/pub/anaconda-py3/2023.03/envs/pytorch-gpu-2.0.1+py3.10.12/lib/python3.10/site-packages/torchvision-0.15.2a0+fa99a53-py3.10-linux-x86_64.egg/torchvision/models/_utils.py:208: UserWarning: The parameter 'pretrained' is deprecated since 0.13 and may be removed in the future, please use 'weights' instead.\n",
      "  warnings.warn(\n",
      "/gpfslocalsup/pub/anaconda-py3/2023.03/envs/pytorch-gpu-2.0.1+py3.10.12/lib/python3.10/site-packages/torchvision-0.15.2a0+fa99a53-py3.10-linux-x86_64.egg/torchvision/models/_utils.py:223: UserWarning: Arguments other than a weight enum or `None` for 'weights' are deprecated since 0.13 and may be removed in the future. The current behavior is equivalent to passing `weights=None`.\n",
      "  warnings.warn(msg)\n"
     ]
    },
    {
     "data": {
      "text/plain": [
       "<All keys matched successfully>"
      ]
     },
     "execution_count": 6,
     "metadata": {},
     "output_type": "execute_result"
    }
   ],
   "source": [
    "model_weights = torch.load(\"/gpfswork/rech/ads/commun/kg_tests/model_best_0.512.pth\", map_location=torch.device('cpu'))\n",
    "model = models.resnet50(pretrained=False)\n",
    "model.fc = nn.Identity()\n",
    "model.load_state_dict(model_weights)"
   ]
  },
  {
   "cell_type": "code",
   "execution_count": 7,
   "id": "312a987d-8762-40ec-8feb-3035836a2591",
   "metadata": {
    "tags": []
   },
   "outputs": [],
   "source": [
    "# load dataset\n",
    "from data_pipeline.triplets import LynxDataset\n",
    "from pathlib import Path\n",
    "from data_pipeline.transformations_and_augmentations import transforms\n",
    "\n",
    "lynxDataset = LynxDataset(dataset_csv=Path(\"/gpfsscratch/rech/ads/commun/datasets/extracted/lynx_dataset_france.csv\"), \n",
    "                      loader=\"pil\",\n",
    "                      transform=transforms,  # Define 'preprocess' earlier in your script\n",
    "                      augmentation=None,\n",
    "                      mode='single',\n",
    "                      device=\"auto\")"
   ]
  },
  {
   "cell_type": "code",
   "execution_count": 8,
   "id": "bd5b95a0-d3b7-438b-8659-a5bcb648fcae",
   "metadata": {
    "tags": []
   },
   "outputs": [
    {
     "name": "stdout",
     "output_type": "stream",
     "text": [
      "torch.Size([3, 224, 224])\n"
     ]
    },
    {
     "data": {
      "text/plain": [
       "<matplotlib.image.AxesImage at 0x7fefa1704160>"
      ]
     },
     "execution_count": 8,
     "metadata": {},
     "output_type": "execute_result"
    },
    {
     "data": {
      "image/png": "[encoded data removed]",
      "text/plain": [
       "<Figure size 640x480 with 1 Axes>"
      ]
     },
     "metadata": {},
     "output_type": "display_data"
    }
   ],
   "source": [
    "img = lynxDataset[100][0]['image']\n",
    "print(img.shape)\n",
    "plt.imshow(img.permute(1, 2, 0))"
   ]
  },
  {
   "cell_type": "markdown",
   "id": "303d418d-f644-45f6-a50c-e160eb5c1a34",
   "metadata": {},
   "source": [
    "### Selection of individuals\n",
    "\n",
    "We are looking for individuals with around 10 images to test the evaluation metrics."
   ]
  },
  {
   "cell_type": "code",
   "execution_count": 9,
   "id": "903f1f8d-de64-48a3-8a6e-426faa506be3",
   "metadata": {
    "tags": []
   },
   "outputs": [
    {
     "data": {
      "text/plain": [
       "F25-039                   11\n",
       "1277                      11\n",
       "F25-053=1247              11\n",
       "1276=1278                 11\n",
       "1528=B811                 11\n",
       "777                       11\n",
       "2620                      11\n",
       "1567                      10\n",
       "F39-043                   10\n",
       "1317                      10\n",
       "F01-021                   10\n",
       "F25-033                   10\n",
       "F74-003                   10\n",
       "1321                      10\n",
       "243                        9\n",
       "F01-008                    9\n",
       "1068                       9\n",
       "F39-025                    9\n",
       "F01-031                    9\n",
       "Leki                       9\n",
       "F25-062=1050=1102=B704     9\n",
       "1813                       9\n",
       "1320                       9\n",
       "1759                       8\n",
       "2658                       8\n",
       "2166                       8\n",
       "1942                       8\n",
       "1254                       8\n",
       "Bingo                      8\n",
       "2350                       7\n",
       "Name: lynx_id, dtype: int64"
      ]
     },
     "execution_count": 9,
     "metadata": {},
     "output_type": "execute_result"
    }
   ],
   "source": [
    "lynx_id_counts = data['lynx_id'].value_counts()\n",
    "lynx_id_counts[70:100]"
   ]
  },
  {
   "cell_type": "code",
   "execution_count": 10,
   "id": "8e963c77-c321-48a5-b4ec-754855f2c60f",
   "metadata": {
    "tags": []
   },
   "outputs": [
    {
     "data": {
      "text/plain": [
       "['F25-039',\n",
       " '1277',\n",
       " 'F25-053=1247',\n",
       " '1276=1278',\n",
       " '1528=B811',\n",
       " '777',\n",
       " '2620',\n",
       " '1567',\n",
       " 'F39-043',\n",
       " '1317',\n",
       " 'F01-021',\n",
       " 'F25-033',\n",
       " 'F74-003',\n",
       " '1321',\n",
       " '243',\n",
       " 'F01-008',\n",
       " '1068',\n",
       " 'F39-025',\n",
       " 'F01-031',\n",
       " 'Leki',\n",
       " 'F25-062=1050=1102=B704',\n",
       " '1813',\n",
       " '1320',\n",
       " '1759',\n",
       " '2658',\n",
       " '2166',\n",
       " '1942',\n",
       " '1254',\n",
       " 'Bingo',\n",
       " '2350']"
      ]
     },
     "execution_count": 10,
     "metadata": {},
     "output_type": "execute_result"
    }
   ],
   "source": [
    "lynx_id_counts[70:100].index.tolist()"
   ]
  },
  {
   "cell_type": "code",
   "execution_count": 11,
   "id": "4ab3ca31-fae5-4db8-98a5-70dd57da6f90",
   "metadata": {
    "tags": []
   },
   "outputs": [],
   "source": [
    "selected_individuals = [\"Leki\", \"1068\", \"243\"]"
   ]
  },
  {
   "cell_type": "code",
   "execution_count": 12,
   "id": "56156d93-3295-447b-a765-13803be51571",
   "metadata": {
    "tags": []
   },
   "outputs": [],
   "source": [
    "data_selected_individuals = data[data[\"lynx_id\"].isin(selected_individuals)]\n",
    "data_selected_individuals = data_selected_individuals.copy()"
   ]
  },
  {
   "cell_type": "code",
   "execution_count": 13,
   "id": "c7eaad1a-c97d-4952-b91e-e6e7541f8e44",
   "metadata": {
    "tags": []
   },
   "outputs": [],
   "source": [
    "# add an \"unknown\" candidate\n",
    "new_individual = data.iloc[100].copy()\n",
    "new_individual['lynx_id'] = \"New\"\n",
    "data_selected_individuals = pd.concat([data_selected_individuals, new_individual.to_frame().T])"
   ]
  },
  {
   "cell_type": "code",
   "execution_count": 14,
   "id": "e4eb5194-8911-4e28-b2ea-559c827d5110",
   "metadata": {
    "tags": []
   },
   "outputs": [
    {
     "name": "stdout",
     "output_type": "stream",
     "text": [
      "(28, 12)\n"
     ]
    },
    {
     "data": {
      "text/html": [
       "<div>\n",
       "<style scoped>\n",
       "    .dataframe tbody tr th:only-of-type {\n",
       "        vertical-align: middle;\n",
       "    }\n",
       "\n",
       "    .dataframe tbody tr th {\n",
       "        vertical-align: top;\n",
       "    }\n",
       "\n",
       "    .dataframe thead th {\n",
       "        text-align: right;\n",
       "    }\n",
       "</style>\n",
       "<table border=\"1\" class=\"dataframe\">\n",
       "  <thead>\n",
       "    <tr style=\"text-align: right;\">\n",
       "      <th></th>\n",
       "      <th>filepath</th>\n",
       "      <th>lynx_id</th>\n",
       "      <th>source</th>\n",
       "      <th>pattern</th>\n",
       "      <th>date</th>\n",
       "      <th>location</th>\n",
       "      <th>image_number</th>\n",
       "      <th>conf</th>\n",
       "      <th>x</th>\n",
       "      <th>y</th>\n",
       "      <th>width</th>\n",
       "      <th>height</th>\n",
       "    </tr>\n",
       "  </thead>\n",
       "  <tbody>\n",
       "    <tr>\n",
       "      <th>23</th>\n",
       "      <td>/gpfsscratch/rech/ads/commun/datasets/extracte...</td>\n",
       "      <td>Leki</td>\n",
       "      <td>OCS</td>\n",
       "      <td>NaN</td>\n",
       "      <td>NaN</td>\n",
       "      <td>NaN</td>\n",
       "      <td>1</td>\n",
       "      <td>0.866</td>\n",
       "      <td>447.951</td>\n",
       "      <td>137.9448</td>\n",
       "      <td>382.93</td>\n",
       "      <td>357.9996</td>\n",
       "    </tr>\n",
       "    <tr>\n",
       "      <th>24</th>\n",
       "      <td>/gpfsscratch/rech/ads/commun/datasets/extracte...</td>\n",
       "      <td>Leki</td>\n",
       "      <td>OCS</td>\n",
       "      <td>NaN</td>\n",
       "      <td>2018-09-27</td>\n",
       "      <td>NaN</td>\n",
       "      <td>2</td>\n",
       "      <td>0.926</td>\n",
       "      <td>765.0</td>\n",
       "      <td>442.8996</td>\n",
       "      <td>413.85</td>\n",
       "      <td>275.9445</td>\n",
       "    </tr>\n",
       "    <tr>\n",
       "      <th>25</th>\n",
       "      <td>/gpfsscratch/rech/ads/commun/datasets/extracte...</td>\n",
       "      <td>Leki</td>\n",
       "      <td>OCS</td>\n",
       "      <td>NaN</td>\n",
       "      <td>2018-10-16</td>\n",
       "      <td>NaN</td>\n",
       "      <td>3</td>\n",
       "      <td>0.951</td>\n",
       "      <td>824.85</td>\n",
       "      <td>378.9555</td>\n",
       "      <td>235.95</td>\n",
       "      <td>158.928</td>\n",
       "    </tr>\n",
       "    <tr>\n",
       "      <th>26</th>\n",
       "      <td>/gpfsscratch/rech/ads/commun/datasets/extracte...</td>\n",
       "      <td>Leki</td>\n",
       "      <td>OCS</td>\n",
       "      <td>NaN</td>\n",
       "      <td>2018-04-15</td>\n",
       "      <td>NaN</td>\n",
       "      <td>4</td>\n",
       "      <td>0.968</td>\n",
       "      <td>516.8448</td>\n",
       "      <td>988.8</td>\n",
       "      <td>791.856</td>\n",
       "      <td>625.0</td>\n",
       "    </tr>\n",
       "    <tr>\n",
       "      <th>27</th>\n",
       "      <td>/gpfsscratch/rech/ads/commun/datasets/extracte...</td>\n",
       "      <td>Leki</td>\n",
       "      <td>OCS</td>\n",
       "      <td>NaN</td>\n",
       "      <td>2022-09-05</td>\n",
       "      <td>NaN</td>\n",
       "      <td>5</td>\n",
       "      <td>0.924</td>\n",
       "      <td>821.8624</td>\n",
       "      <td>408.924</td>\n",
       "      <td>268.9024</td>\n",
       "      <td>149.9388</td>\n",
       "    </tr>\n",
       "    <tr>\n",
       "      <th>28</th>\n",
       "      <td>/gpfsscratch/rech/ads/commun/datasets/extracte...</td>\n",
       "      <td>Leki</td>\n",
       "      <td>OCS</td>\n",
       "      <td>NaN</td>\n",
       "      <td>2018-11-25</td>\n",
       "      <td>NaN</td>\n",
       "      <td>6</td>\n",
       "      <td>0.94</td>\n",
       "      <td>288.9576</td>\n",
       "      <td>335.9232</td>\n",
       "      <td>433.9992</td>\n",
       "      <td>320.976</td>\n",
       "    </tr>\n",
       "    <tr>\n",
       "      <th>29</th>\n",
       "      <td>/gpfsscratch/rech/ads/commun/datasets/extracte...</td>\n",
       "      <td>Leki</td>\n",
       "      <td>OCS</td>\n",
       "      <td>NaN</td>\n",
       "      <td>2015-02-14</td>\n",
       "      <td>NaN</td>\n",
       "      <td>7</td>\n",
       "      <td>0.92</td>\n",
       "      <td>639.9</td>\n",
       "      <td>173.9484</td>\n",
       "      <td>326.85</td>\n",
       "      <td>379.9688</td>\n",
       "    </tr>\n",
       "    <tr>\n",
       "      <th>30</th>\n",
       "      <td>/gpfsscratch/rech/ads/commun/datasets/extracte...</td>\n",
       "      <td>Leki</td>\n",
       "      <td>OCS</td>\n",
       "      <td>NaN</td>\n",
       "      <td>NaN</td>\n",
       "      <td>NaN</td>\n",
       "      <td>8</td>\n",
       "      <td>0.952</td>\n",
       "      <td>733.0</td>\n",
       "      <td>233.9571</td>\n",
       "      <td>267.875</td>\n",
       "      <td>411.9663</td>\n",
       "    </tr>\n",
       "    <tr>\n",
       "      <th>31</th>\n",
       "      <td>/gpfsscratch/rech/ads/commun/datasets/extracte...</td>\n",
       "      <td>Leki</td>\n",
       "      <td>OCS</td>\n",
       "      <td>NaN</td>\n",
       "      <td>NaN</td>\n",
       "      <td>NaN</td>\n",
       "      <td>9</td>\n",
       "      <td>0.931</td>\n",
       "      <td>462.8952</td>\n",
       "      <td>150.9624</td>\n",
       "      <td>340.9844</td>\n",
       "      <td>386.9586</td>\n",
       "    </tr>\n",
       "    <tr>\n",
       "      <th>695</th>\n",
       "      <td>/gpfsscratch/rech/ads/commun/datasets/extracte...</td>\n",
       "      <td>1068</td>\n",
       "      <td>OFB</td>\n",
       "      <td>OCELLES</td>\n",
       "      <td>2017-09-28</td>\n",
       "      <td>La-Tour-du-Meix</td>\n",
       "      <td>1</td>\n",
       "      <td>0.967</td>\n",
       "      <td>405.9776</td>\n",
       "      <td>119.99232</td>\n",
       "      <td>1122.8784</td>\n",
       "      <td>1054.8928</td>\n",
       "    </tr>\n",
       "    <tr>\n",
       "      <th>696</th>\n",
       "      <td>/gpfsscratch/rech/ads/commun/datasets/extracte...</td>\n",
       "      <td>1068</td>\n",
       "      <td>OFB</td>\n",
       "      <td>OCELLES</td>\n",
       "      <td>2017-09-28</td>\n",
       "      <td>La-Tour-du-Meix</td>\n",
       "      <td>2</td>\n",
       "      <td>0.818</td>\n",
       "      <td>1428.9072</td>\n",
       "      <td>358.9056</td>\n",
       "      <td>890.7808</td>\n",
       "      <td>532.9024</td>\n",
       "    </tr>\n",
       "    <tr>\n",
       "      <th>697</th>\n",
       "      <td>/gpfsscratch/rech/ads/commun/datasets/extracte...</td>\n",
       "      <td>1068</td>\n",
       "      <td>OFB</td>\n",
       "      <td>OCELLES</td>\n",
       "      <td>2017-09-28</td>\n",
       "      <td>La-Tour-du-Meix</td>\n",
       "      <td>3</td>\n",
       "      <td>0.972</td>\n",
       "      <td>1423.7552</td>\n",
       "      <td>348.9856</td>\n",
       "      <td>1151.9872</td>\n",
       "      <td>927.9168</td>\n",
       "    </tr>\n",
       "    <tr>\n",
       "      <th>698</th>\n",
       "      <td>/gpfsscratch/rech/ads/commun/datasets/extracte...</td>\n",
       "      <td>1068</td>\n",
       "      <td>OFB</td>\n",
       "      <td>OCELLES</td>\n",
       "      <td>2017-09-28</td>\n",
       "      <td>La-Tour-du-Meix</td>\n",
       "      <td>4</td>\n",
       "      <td>0.969</td>\n",
       "      <td>0.999746</td>\n",
       "      <td>12.999168</td>\n",
       "      <td>1565.9504</td>\n",
       "      <td>1223.9296</td>\n",
       "    </tr>\n",
       "    <tr>\n",
       "      <th>699</th>\n",
       "      <td>/gpfsscratch/rech/ads/commun/datasets/extracte...</td>\n",
       "      <td>1068</td>\n",
       "      <td>OFB</td>\n",
       "      <td>OCELLES</td>\n",
       "      <td>2017-09-28</td>\n",
       "      <td>La-Tour-du-Meix</td>\n",
       "      <td>5</td>\n",
       "      <td>0.916</td>\n",
       "      <td>1547.9184</td>\n",
       "      <td>0.999936</td>\n",
       "      <td>1027.824</td>\n",
       "      <td>1638.9824</td>\n",
       "    </tr>\n",
       "    <tr>\n",
       "      <th>700</th>\n",
       "      <td>/gpfsscratch/rech/ads/commun/datasets/extracte...</td>\n",
       "      <td>1068</td>\n",
       "      <td>OFB</td>\n",
       "      <td>OCELLES</td>\n",
       "      <td>2017-09-28</td>\n",
       "      <td>La-Tour-du-Meix</td>\n",
       "      <td>6</td>\n",
       "      <td>0.965</td>\n",
       "      <td>1528.856</td>\n",
       "      <td>0.999936</td>\n",
       "      <td>1039.9312</td>\n",
       "      <td>1424.9088</td>\n",
       "    </tr>\n",
       "    <tr>\n",
       "      <th>701</th>\n",
       "      <td>/gpfsscratch/rech/ads/commun/datasets/extracte...</td>\n",
       "      <td>1068</td>\n",
       "      <td>OFB</td>\n",
       "      <td>OCELLES</td>\n",
       "      <td>2017-09-28</td>\n",
       "      <td>La-Tour-du-Meix</td>\n",
       "      <td>7</td>\n",
       "      <td>0.947</td>\n",
       "      <td>1851.8864</td>\n",
       "      <td>439.8528</td>\n",
       "      <td>609.9968</td>\n",
       "      <td>568.8128</td>\n",
       "    </tr>\n",
       "    <tr>\n",
       "      <th>702</th>\n",
       "      <td>/gpfsscratch/rech/ads/commun/datasets/extracte...</td>\n",
       "      <td>1068</td>\n",
       "      <td>OFB</td>\n",
       "      <td>OCELLES</td>\n",
       "      <td>2017-09-28</td>\n",
       "      <td>La-Tour-du-Meix</td>\n",
       "      <td>8</td>\n",
       "      <td>0.92</td>\n",
       "      <td>2.000006</td>\n",
       "      <td>0.0</td>\n",
       "      <td>2573.9392</td>\n",
       "      <td>1510.816</td>\n",
       "    </tr>\n",
       "    <tr>\n",
       "      <th>703</th>\n",
       "      <td>/gpfsscratch/rech/ads/commun/datasets/extracte...</td>\n",
       "      <td>1068</td>\n",
       "      <td>OFB</td>\n",
       "      <td>OCELLES</td>\n",
       "      <td>2017-09-28</td>\n",
       "      <td>La-Tour-du-Meix</td>\n",
       "      <td>9</td>\n",
       "      <td>0.954</td>\n",
       "      <td>1171.8224</td>\n",
       "      <td>0.999936</td>\n",
       "      <td>1018.808</td>\n",
       "      <td>1445.9392</td>\n",
       "    </tr>\n",
       "    <tr>\n",
       "      <th>2524</th>\n",
       "      <td>/gpfsscratch/rech/ads/commun/datasets/extracte...</td>\n",
       "      <td>243</td>\n",
       "      <td>OFB</td>\n",
       "      <td>SPOTS</td>\n",
       "      <td>2012-04-20</td>\n",
       "      <td>Lezat</td>\n",
       "      <td>1</td>\n",
       "      <td>0.971</td>\n",
       "      <td>736.8704</td>\n",
       "      <td>746.9568</td>\n",
       "      <td>1306.8288</td>\n",
       "      <td>738.9696</td>\n",
       "    </tr>\n",
       "    <tr>\n",
       "      <th>2525</th>\n",
       "      <td>/gpfsscratch/rech/ads/commun/datasets/extracte...</td>\n",
       "      <td>243</td>\n",
       "      <td>OFB</td>\n",
       "      <td>SPOTS</td>\n",
       "      <td>2012-04-20</td>\n",
       "      <td>Lezat</td>\n",
       "      <td>2</td>\n",
       "      <td>0.97</td>\n",
       "      <td>872.8576</td>\n",
       "      <td>869.9904</td>\n",
       "      <td>1171.8656</td>\n",
       "      <td>616.8576</td>\n",
       "    </tr>\n",
       "    <tr>\n",
       "      <th>2526</th>\n",
       "      <td>/gpfsscratch/rech/ads/commun/datasets/extracte...</td>\n",
       "      <td>243</td>\n",
       "      <td>OFB</td>\n",
       "      <td>SPOTS</td>\n",
       "      <td>2012-04-20</td>\n",
       "      <td>Lezat</td>\n",
       "      <td>3</td>\n",
       "      <td>0.951</td>\n",
       "      <td>275.8656</td>\n",
       "      <td>544.9728</td>\n",
       "      <td>943.9232</td>\n",
       "      <td>620.8512</td>\n",
       "    </tr>\n",
       "    <tr>\n",
       "      <th>2527</th>\n",
       "      <td>/gpfsscratch/rech/ads/commun/datasets/extracte...</td>\n",
       "      <td>243</td>\n",
       "      <td>OFB</td>\n",
       "      <td>SPOTS</td>\n",
       "      <td>2012-04-20</td>\n",
       "      <td>Lezat</td>\n",
       "      <td>4</td>\n",
       "      <td>0.926</td>\n",
       "      <td>536.9856</td>\n",
       "      <td>785.9712</td>\n",
       "      <td>1051.8528</td>\n",
       "      <td>698.88</td>\n",
       "    </tr>\n",
       "    <tr>\n",
       "      <th>2528</th>\n",
       "      <td>/gpfsscratch/rech/ads/commun/datasets/extracte...</td>\n",
       "      <td>243</td>\n",
       "      <td>OFB</td>\n",
       "      <td>SPOTS</td>\n",
       "      <td>2012-04-20</td>\n",
       "      <td>Lezat</td>\n",
       "      <td>5</td>\n",
       "      <td>0.978</td>\n",
       "      <td>283.8528</td>\n",
       "      <td>633.9072</td>\n",
       "      <td>1423.9744</td>\n",
       "      <td>850.944</td>\n",
       "    </tr>\n",
       "    <tr>\n",
       "      <th>2529</th>\n",
       "      <td>/gpfsscratch/rech/ads/commun/datasets/extracte...</td>\n",
       "      <td>243</td>\n",
       "      <td>OFB</td>\n",
       "      <td>SPOTS</td>\n",
       "      <td>2012-04-20</td>\n",
       "      <td>Lezat</td>\n",
       "      <td>6</td>\n",
       "      <td>0.961</td>\n",
       "      <td>0.0</td>\n",
       "      <td>490.9056</td>\n",
       "      <td>1021.952</td>\n",
       "      <td>994.8672</td>\n",
       "    </tr>\n",
       "    <tr>\n",
       "      <th>2530</th>\n",
       "      <td>/gpfsscratch/rech/ads/commun/datasets/extracte...</td>\n",
       "      <td>243</td>\n",
       "      <td>OFB</td>\n",
       "      <td>SPOTS</td>\n",
       "      <td>2012-04-20</td>\n",
       "      <td>Lezat</td>\n",
       "      <td>7</td>\n",
       "      <td>0.801</td>\n",
       "      <td>53.98528</td>\n",
       "      <td>474.9312</td>\n",
       "      <td>1878.8352</td>\n",
       "      <td>1010.9952</td>\n",
       "    </tr>\n",
       "    <tr>\n",
       "      <th>2531</th>\n",
       "      <td>/gpfsscratch/rech/ads/commun/datasets/extracte...</td>\n",
       "      <td>243</td>\n",
       "      <td>OFB</td>\n",
       "      <td>SPOTS</td>\n",
       "      <td>2012-04-20</td>\n",
       "      <td>Lezat</td>\n",
       "      <td>8</td>\n",
       "      <td>0.627</td>\n",
       "      <td>768.8192</td>\n",
       "      <td>606.8736</td>\n",
       "      <td>1275.904</td>\n",
       "      <td>879.9744</td>\n",
       "    </tr>\n",
       "    <tr>\n",
       "      <th>2532</th>\n",
       "      <td>/gpfsscratch/rech/ads/commun/datasets/extracte...</td>\n",
       "      <td>243</td>\n",
       "      <td>OFB</td>\n",
       "      <td>SPOTS</td>\n",
       "      <td>2012-04-20</td>\n",
       "      <td>Lezat</td>\n",
       "      <td>9</td>\n",
       "      <td>0.965</td>\n",
       "      <td>803.84</td>\n",
       "      <td>611.9424</td>\n",
       "      <td>1240.8832</td>\n",
       "      <td>873.984</td>\n",
       "    </tr>\n",
       "    <tr>\n",
       "      <th>100</th>\n",
       "      <td>/gpfsscratch/rech/ads/commun/datasets/extracte...</td>\n",
       "      <td>New</td>\n",
       "      <td>OCS</td>\n",
       "      <td>NaN</td>\n",
       "      <td>2022-04-09</td>\n",
       "      <td>NaN</td>\n",
       "      <td>5</td>\n",
       "      <td>0.892</td>\n",
       "      <td>0.0</td>\n",
       "      <td>255.96</td>\n",
       "      <td>1466.88</td>\n",
       "      <td>788.94</td>\n",
       "    </tr>\n",
       "  </tbody>\n",
       "</table>\n",
       "</div>"
      ],
      "text/plain": [
       "                                               filepath lynx_id source  \\\n",
       "23    /gpfsscratch/rech/ads/commun/datasets/extracte...    Leki    OCS   \n",
       "24    /gpfsscratch/rech/ads/commun/datasets/extracte...    Leki    OCS   \n",
       "25    /gpfsscratch/rech/ads/commun/datasets/extracte...    Leki    OCS   \n",
       "26    /gpfsscratch/rech/ads/commun/datasets/extracte...    Leki    OCS   \n",
       "27    /gpfsscratch/rech/ads/commun/datasets/extracte...    Leki    OCS   \n",
       "28    /gpfsscratch/rech/ads/commun/datasets/extracte...    Leki    OCS   \n",
       "29    /gpfsscratch/rech/ads/commun/datasets/extracte...    Leki    OCS   \n",
       "30    /gpfsscratch/rech/ads/commun/datasets/extracte...    Leki    OCS   \n",
       "31    /gpfsscratch/rech/ads/commun/datasets/extracte...    Leki    OCS   \n",
       "695   /gpfsscratch/rech/ads/commun/datasets/extracte...    1068    OFB   \n",
       "696   /gpfsscratch/rech/ads/commun/datasets/extracte...    1068    OFB   \n",
       "697   /gpfsscratch/rech/ads/commun/datasets/extracte...    1068    OFB   \n",
       "698   /gpfsscratch/rech/ads/commun/datasets/extracte...    1068    OFB   \n",
       "699   /gpfsscratch/rech/ads/commun/datasets/extracte...    1068    OFB   \n",
       "700   /gpfsscratch/rech/ads/commun/datasets/extracte...    1068    OFB   \n",
       "701   /gpfsscratch/rech/ads/commun/datasets/extracte...    1068    OFB   \n",
       "702   /gpfsscratch/rech/ads/commun/datasets/extracte...    1068    OFB   \n",
       "703   /gpfsscratch/rech/ads/commun/datasets/extracte...    1068    OFB   \n",
       "2524  /gpfsscratch/rech/ads/commun/datasets/extracte...     243    OFB   \n",
       "2525  /gpfsscratch/rech/ads/commun/datasets/extracte...     243    OFB   \n",
       "2526  /gpfsscratch/rech/ads/commun/datasets/extracte...     243    OFB   \n",
       "2527  /gpfsscratch/rech/ads/commun/datasets/extracte...     243    OFB   \n",
       "2528  /gpfsscratch/rech/ads/commun/datasets/extracte...     243    OFB   \n",
       "2529  /gpfsscratch/rech/ads/commun/datasets/extracte...     243    OFB   \n",
       "2530  /gpfsscratch/rech/ads/commun/datasets/extracte...     243    OFB   \n",
       "2531  /gpfsscratch/rech/ads/commun/datasets/extracte...     243    OFB   \n",
       "2532  /gpfsscratch/rech/ads/commun/datasets/extracte...     243    OFB   \n",
       "100   /gpfsscratch/rech/ads/commun/datasets/extracte...     New    OCS   \n",
       "\n",
       "      pattern        date         location image_number   conf          x  \\\n",
       "23        NaN         NaN              NaN            1  0.866    447.951   \n",
       "24        NaN  2018-09-27              NaN            2  0.926      765.0   \n",
       "25        NaN  2018-10-16              NaN            3  0.951     824.85   \n",
       "26        NaN  2018-04-15              NaN            4  0.968   516.8448   \n",
       "27        NaN  2022-09-05              NaN            5  0.924   821.8624   \n",
       "28        NaN  2018-11-25              NaN            6   0.94   288.9576   \n",
       "29        NaN  2015-02-14              NaN            7   0.92      639.9   \n",
       "30        NaN         NaN              NaN            8  0.952      733.0   \n",
       "31        NaN         NaN              NaN            9  0.931   462.8952   \n",
       "695   OCELLES  2017-09-28  La-Tour-du-Meix            1  0.967   405.9776   \n",
       "696   OCELLES  2017-09-28  La-Tour-du-Meix            2  0.818  1428.9072   \n",
       "697   OCELLES  2017-09-28  La-Tour-du-Meix            3  0.972  1423.7552   \n",
       "698   OCELLES  2017-09-28  La-Tour-du-Meix            4  0.969   0.999746   \n",
       "699   OCELLES  2017-09-28  La-Tour-du-Meix            5  0.916  1547.9184   \n",
       "700   OCELLES  2017-09-28  La-Tour-du-Meix            6  0.965   1528.856   \n",
       "701   OCELLES  2017-09-28  La-Tour-du-Meix            7  0.947  1851.8864   \n",
       "702   OCELLES  2017-09-28  La-Tour-du-Meix            8   0.92   2.000006   \n",
       "703   OCELLES  2017-09-28  La-Tour-du-Meix            9  0.954  1171.8224   \n",
       "2524    SPOTS  2012-04-20            Lezat            1  0.971   736.8704   \n",
       "2525    SPOTS  2012-04-20            Lezat            2   0.97   872.8576   \n",
       "2526    SPOTS  2012-04-20            Lezat            3  0.951   275.8656   \n",
       "2527    SPOTS  2012-04-20            Lezat            4  0.926   536.9856   \n",
       "2528    SPOTS  2012-04-20            Lezat            5  0.978   283.8528   \n",
       "2529    SPOTS  2012-04-20            Lezat            6  0.961        0.0   \n",
       "2530    SPOTS  2012-04-20            Lezat            7  0.801   53.98528   \n",
       "2531    SPOTS  2012-04-20            Lezat            8  0.627   768.8192   \n",
       "2532    SPOTS  2012-04-20            Lezat            9  0.965     803.84   \n",
       "100       NaN  2022-04-09              NaN            5  0.892        0.0   \n",
       "\n",
       "              y      width     height  \n",
       "23     137.9448     382.93   357.9996  \n",
       "24     442.8996     413.85   275.9445  \n",
       "25     378.9555     235.95    158.928  \n",
       "26        988.8    791.856      625.0  \n",
       "27      408.924   268.9024   149.9388  \n",
       "28     335.9232   433.9992    320.976  \n",
       "29     173.9484     326.85   379.9688  \n",
       "30     233.9571    267.875   411.9663  \n",
       "31     150.9624   340.9844   386.9586  \n",
       "695   119.99232  1122.8784  1054.8928  \n",
       "696    358.9056   890.7808   532.9024  \n",
       "697    348.9856  1151.9872   927.9168  \n",
       "698   12.999168  1565.9504  1223.9296  \n",
       "699    0.999936   1027.824  1638.9824  \n",
       "700    0.999936  1039.9312  1424.9088  \n",
       "701    439.8528   609.9968   568.8128  \n",
       "702         0.0  2573.9392   1510.816  \n",
       "703    0.999936   1018.808  1445.9392  \n",
       "2524   746.9568  1306.8288   738.9696  \n",
       "2525   869.9904  1171.8656   616.8576  \n",
       "2526   544.9728   943.9232   620.8512  \n",
       "2527   785.9712  1051.8528     698.88  \n",
       "2528   633.9072  1423.9744    850.944  \n",
       "2529   490.9056   1021.952   994.8672  \n",
       "2530   474.9312  1878.8352  1010.9952  \n",
       "2531   606.8736   1275.904   879.9744  \n",
       "2532   611.9424  1240.8832    873.984  \n",
       "100      255.96    1466.88     788.94  "
      ]
     },
     "execution_count": 14,
     "metadata": {},
     "output_type": "execute_result"
    }
   ],
   "source": [
    "print(data_selected_individuals.shape)\n",
    "data_selected_individuals"
   ]
  },
  {
   "cell_type": "code",
   "execution_count": 15,
   "id": "386c833e-5d9e-4ff3-a9c7-a9f7810e5a96",
   "metadata": {
    "tags": []
   },
   "outputs": [],
   "source": [
    "indices_lynxDataset = data_selected_individuals.index.tolist()"
   ]
  },
  {
   "cell_type": "code",
   "execution_count": 22,
   "id": "36ae1e0e-bdec-4dc7-a570-20691212c8d5",
   "metadata": {
    "tags": []
   },
   "outputs": [
    {
     "data": {
      "text/plain": [
       "torch.Size([28, 3, 224, 224])"
      ]
     },
     "execution_count": 22,
     "metadata": {},
     "output_type": "execute_result"
    }
   ],
   "source": [
    "# Compute batch\n",
    "images = []\n",
    "for individual_index in indices_lynxDataset:\n",
    "    img = lynxDataset[individual_index][0]['image'].type(torch.FloatTensor)\n",
    "\n",
    "    images.append(img)\n",
    "    \n",
    "images = torch.stack(images, dim=0)\n",
    "images.shape"
   ]
  },
  {
   "cell_type": "markdown",
   "id": "c6982b56-0b78-4337-8287-f4a8f7ca937d",
   "metadata": {},
   "source": [
    "### Compute all embeddings"
   ]
  },
  {
   "cell_type": "code",
   "execution_count": 23,
   "id": "6de5bd17-1674-4b86-ab26-b1094f366321",
   "metadata": {
    "tags": []
   },
   "outputs": [
    {
     "data": {
      "text/plain": [
       "torch.Size([28, 2048])"
      ]
     },
     "execution_count": 23,
     "metadata": {},
     "output_type": "execute_result"
    }
   ],
   "source": [
    "with torch.no_grad():\n",
    "    embeddings = model(images)\n",
    "    \n",
    "embeddings.shape"
   ]
  },
  {
   "cell_type": "code",
   "execution_count": 24,
   "id": "4adeeb1a-5b38-40c8-89c1-2a6b3821b753",
   "metadata": {
    "tags": []
   },
   "outputs": [
    {
     "data": {
      "text/plain": [
       "tensor([[0.1373, 0.2307, 0.1860,  ..., 0.1111, 0.1689, 0.1179],\n",
       "        [0.2008, 0.2264, 0.1799,  ..., 0.1014, 0.1765, 0.1497],\n",
       "        [0.2081, 0.2369, 0.1711,  ..., 0.0977, 0.1852, 0.1483],\n",
       "        ...,\n",
       "        [0.2097, 0.2290, 0.1712,  ..., 0.1087, 0.1487, 0.2490],\n",
       "        [0.2179, 0.2214, 0.1687,  ..., 0.1132, 0.1479, 0.2633],\n",
       "        [0.1370, 0.2497, 0.1911,  ..., 0.1070, 0.1908, 0.1185]])"
      ]
     },
     "execution_count": 24,
     "metadata": {},
     "output_type": "execute_result"
    }
   ],
   "source": [
    "embeddings"
   ]
  },
  {
   "cell_type": "markdown",
   "id": "c954f54e-0e5e-4928-8810-ab4541a677b7",
   "metadata": {},
   "source": [
    "### Dimension reduction and choice of candidates"
   ]
  },
  {
   "cell_type": "code",
   "execution_count": 25,
   "id": "afa88048-f3c8-40df-becf-9849d626836e",
   "metadata": {
    "tags": []
   },
   "outputs": [
    {
     "name": "stdout",
     "output_type": "stream",
     "text": [
      "{'Leki': 0, '1068': 1, '243': 2}\n",
      "{0: 'Leki', 1: '1068', 2: '243'}\n"
     ]
    }
   ],
   "source": [
    "lynx_str_to_int = {}\n",
    "lynx_int_to_str = {}\n",
    "\n",
    "for index, string in enumerate(selected_individuals):\n",
    "    lynx_str_to_int[string] = index\n",
    "    lynx_int_to_str[index] = string\n",
    "    \n",
    "print(lynx_str_to_int)\n",
    "print(lynx_int_to_str)"
   ]
  },
  {
   "cell_type": "code",
   "execution_count": 26,
   "id": "108d38b5-6bdc-4299-9861-1c071870481a",
   "metadata": {
    "tags": []
   },
   "outputs": [
    {
     "name": "stdout",
     "output_type": "stream",
     "text": [
      "(28, 2)\n"
     ]
    }
   ],
   "source": [
    "from sklearn.manifold import TSNE\n",
    "\n",
    "tsne = TSNE(n_components=2, perplexity=20)\n",
    "embeddings_2d = tsne.fit_transform(embeddings)\n",
    "\n",
    "print(embeddings_2d.shape)"
   ]
  },
  {
   "cell_type": "code",
   "execution_count": 27,
   "id": "fb6d50ed-574d-4297-8f07-1da2de268fed",
   "metadata": {
    "tags": []
   },
   "outputs": [],
   "source": [
    "if 'level_0' in data_selected_individuals.columns:\n",
    "    data_selected_individuals.drop(['level_0'], axis=1, inplace=True)\n",
    "data_selected_individuals.reset_index(inplace=True)\n",
    "data_selected_individuals['embedding'] = list(map(list, embeddings_2d))\n",
    "data_selected_individuals[['embedding_x', 'embedding_y']] = pd.DataFrame(embeddings_2d)\n",
    "data_selected_individuals['lynx_id_int'], _ = pd.factorize(data_selected_individuals[\"lynx_id\"])"
   ]
  },
  {
   "cell_type": "code",
   "execution_count": 28,
   "id": "dad411e7-c68f-48ab-8cc5-de5dda03a823",
   "metadata": {
    "tags": []
   },
   "outputs": [],
   "source": [
    "def extract_random_rows(group, nb_to_extract=2):\n",
    "    if group.shape[0] < nb_to_extract:\n",
    "        return group\n",
    "    return group.sample(n=nb_to_extract, replace=False)\n",
    "\n",
    "\n",
    "data_candidates = data_selected_individuals.groupby('lynx_id', group_keys=False).apply(extract_random_rows)\n",
    "\n",
    "indices_to_remove = data_candidates.index\n",
    "data_knowledge = data_selected_individuals.drop(indices_to_remove)"
   ]
  },
  {
   "cell_type": "code",
   "execution_count": 29,
   "id": "86b7e1be-8390-4c13-aea7-879926f0ddb6",
   "metadata": {
    "tags": []
   },
   "outputs": [
    {
     "name": "stdout",
     "output_type": "stream",
     "text": [
      "(7, 2) (21, 2)\n"
     ]
    }
   ],
   "source": [
    "embeddings_2d_candidates = embeddings_2d[data_candidates.index]\n",
    "embeddings_2d_knowledge = embeddings_2d[data_knowledge.index]\n",
    "\n",
    "print(embeddings_2d_candidates.shape, embeddings_2d_knowledge.shape)"
   ]
  },
  {
   "cell_type": "code",
   "execution_count": 30,
   "id": "198c710c-640f-48c8-899a-bd6b4f673b2c",
   "metadata": {
    "tags": []
   },
   "outputs": [
    {
     "name": "stdout",
     "output_type": "stream",
     "text": [
      "torch.Size([7, 2048]) torch.Size([21, 2048])\n"
     ]
    }
   ],
   "source": [
    "embeddings_candidates = embeddings[data_candidates.index]\n",
    "embeddings_knowledge = embeddings[data_knowledge.index]\n",
    "\n",
    "print(embeddings_candidates.shape, embeddings_knowledge.shape)"
   ]
  },
  {
   "cell_type": "markdown",
   "id": "ee2db95a-8e5e-4e79-8e9c-d8c802e10d1c",
   "metadata": {},
   "source": [
    "### Viewing individuals with their embeddings"
   ]
  },
  {
   "cell_type": "code",
   "execution_count": 31,
   "id": "6f9ff862-0801-4dd7-b438-cdc2184dde8c",
   "metadata": {
    "tags": []
   },
   "outputs": [
    {
     "data": {
      "image/png": "[encoded data removed]",
      "text/plain": [
       "<Figure size 1500x800 with 2 Axes>"
      ]
     },
     "metadata": {},
     "output_type": "display_data"
    }
   ],
   "source": [
    "fig, ax = plt.subplots(figsize=(15, 8))\n",
    "\n",
    "scatter = plt.scatter(data_knowledge['embedding_x'], data_knowledge['embedding_y'], c=data_knowledge['lynx_id_int'])\n",
    "ax.scatter(data_candidates['embedding_x'], data_candidates['embedding_y'], c='red', marker='o', label='New data')\n",
    "\n",
    "handles, labels = scatter.legend_elements()\n",
    "handles.append(ax.scatter([], [], c='red', marker='o'))\n",
    "labels.append('Candidate')\n",
    "\n",
    "for i in data_knowledge.index.tolist():\n",
    "    plt.annotate(data_knowledge.loc[i]['index'], (embeddings_2d[i, 0], embeddings_2d[i, 1]))\n",
    "\n",
    "for i in data_candidates.index.tolist():\n",
    "    plt.annotate(str(data_candidates.loc[i]['index']) + \", lynx_id: \" + data_candidates.loc[i]['lynx_id'], (embeddings_2d[i, 0], embeddings_2d[i, 1]))\n",
    "    \n",
    "labels = [re.search(r'\\d+', key).group() + ' - ' + lynx_int_to_str[int(re.search(r'\\d+', key).group())] if re.search(r'\\d+', key) else key for key in labels]\n",
    "legend = ax.legend(handles, labels, loc=\"center right\", title=\"lynx_id\",  bbox_to_anchor=(-0.2, 0.5))\n",
    "\n",
    "plt.colorbar(label=\"Lynx ID\")\n",
    "plt.xlabel(\"X\")\n",
    "plt.ylabel(\"Y\")\n",
    "plt.title(\"Scatter plot of embeddings with colouring by lynx_id\")\n",
    "plt.savefig(\"embeddings.png\")"
   ]
  },
  {
   "cell_type": "markdown",
   "id": "5eebbb5f-5da4-4b5c-a764-3a13c6de1f29",
   "metadata": {},
   "source": [
    "### Nearest Neighbors\n",
    "\n",
    "Computation with real embeddings, no t-SNE"
   ]
  },
  {
   "cell_type": "code",
   "execution_count": 32,
   "id": "b3ede5ff-033d-4573-897e-1c53eff0a24c",
   "metadata": {
    "tags": []
   },
   "outputs": [],
   "source": [
    "neighbors = NearestNeighbors(n_neighbors=5, algorithm='brute', metric=\"minkowski\").fit(embeddings_knowledge)"
   ]
  },
  {
   "cell_type": "code",
   "execution_count": 33,
   "id": "bc212c4e-8dc5-4733-a63b-951dd32eda51",
   "metadata": {
    "tags": []
   },
   "outputs": [
    {
     "data": {
      "text/plain": [
       "(array([[0.20984752, 0.47638181, 1.22830295, 1.23660381, 1.50411605],\n",
       "        [0.29082684, 0.29818942, 0.99815037, 1.16206347, 1.46987053],\n",
       "        [0.27805831, 0.66721991, 0.80069148, 0.80787225, 0.82818125],\n",
       "        [0.28191575, 0.67128038, 1.06633996, 1.18397415, 1.26177709],\n",
       "        [1.15111406, 1.39266407, 1.53745275, 1.73786143, 1.99968985],\n",
       "        [1.19544668, 1.24941311, 1.25588562, 2.42961636, 2.55549501],\n",
       "        [1.54516854, 2.31366989, 2.3199366 , 2.53639311, 2.56398088]]),\n",
       " array([[11,  7,  9,  8, 12],\n",
       "        [ 7, 11,  8,  9, 12],\n",
       "        [20, 15, 14, 17, 18],\n",
       "        [19, 16, 14, 17, 18],\n",
       "        [ 1, 11,  7,  2,  8],\n",
       "        [ 0,  5,  6,  4,  1],\n",
       "        [ 4,  6,  3,  0,  5]]))"
      ]
     },
     "execution_count": 33,
     "metadata": {},
     "output_type": "execute_result"
    }
   ],
   "source": [
    "distances, indices = neighbors.kneighbors(embeddings_candidates)\n",
    "distances, indices"
   ]
  },
  {
   "cell_type": "code",
   "execution_count": 34,
   "id": "a75df990-47e8-42b5-ab29-0ed5c99518c3",
   "metadata": {
    "tags": []
   },
   "outputs": [
    {
     "name": "stdout",
     "output_type": "stream",
     "text": [
      "[11  7  9  8 12]\n"
     ]
    }
   ],
   "source": [
    "for candidate_indices in indices:\n",
    "    print(candidate_indices)\n",
    "    break"
   ]
  },
  {
   "cell_type": "code",
   "execution_count": 35,
   "id": "002e5d0c-33b9-4958-a13d-b43ccc0e13e5",
   "metadata": {
    "tags": []
   },
   "outputs": [
    {
     "data": {
      "text/plain": [
       "[15    1068\n",
       " 9     1068\n",
       " 13    1068\n",
       " 12    1068\n",
       " 16    1068\n",
       " Name: lynx_id, dtype: object,\n",
       " 9     1068\n",
       " 15    1068\n",
       " 12    1068\n",
       " 13    1068\n",
       " 16    1068\n",
       " Name: lynx_id, dtype: object,\n",
       " 26    243\n",
       " 20    243\n",
       " 18    243\n",
       " 22    243\n",
       " 23    243\n",
       " Name: lynx_id, dtype: object,\n",
       " 24    243\n",
       " 21    243\n",
       " 18    243\n",
       " 22    243\n",
       " 23    243\n",
       " Name: lynx_id, dtype: object,\n",
       " 1     Leki\n",
       " 15    1068\n",
       " 9     1068\n",
       " 2     Leki\n",
       " 12    1068\n",
       " Name: lynx_id, dtype: object,\n",
       " 0    Leki\n",
       " 7    Leki\n",
       " 8    Leki\n",
       " 6    Leki\n",
       " 1    Leki\n",
       " Name: lynx_id, dtype: object,\n",
       " 6    Leki\n",
       " 8    Leki\n",
       " 4    Leki\n",
       " 0    Leki\n",
       " 7    Leki\n",
       " Name: lynx_id, dtype: object]"
      ]
     },
     "execution_count": 35,
     "metadata": {},
     "output_type": "execute_result"
    }
   ],
   "source": [
    "candidates_nearest_neighbors = [\n",
    "    data_knowledge.iloc[candidate_indices][\"lynx_id\"]\n",
    "    for candidate_indices in indices\n",
    "]\n",
    "\n",
    "candidates_nearest_neighbors"
   ]
  },
  {
   "cell_type": "code",
   "execution_count": 36,
   "id": "e330b96d-7b13-45a1-8af5-9bfe73afd964",
   "metadata": {},
   "outputs": [
    {
     "data": {
      "text/plain": [
       "['1068', '1068', '243', '243', '1068', 'Leki', 'Leki']"
      ]
     },
     "execution_count": 36,
     "metadata": {},
     "output_type": "execute_result"
    }
   ],
   "source": [
    "candidates_predicted_n_knn = [\n",
    "    candidate.value_counts().idxmax() for candidate in candidates_nearest_neighbors\n",
    "]\n",
    "\n",
    "candidates_predicted_n_knn"
   ]
  },
  {
   "cell_type": "code",
   "execution_count": 37,
   "id": "dd33d098-5012-4364-9de8-ea03c94c858a",
   "metadata": {
    "tags": []
   },
   "outputs": [
    {
     "data": {
      "text/plain": [
       "['1068', '1068', '243', '243', 'Leki', 'Leki', 'Leki']"
      ]
     },
     "execution_count": 37,
     "metadata": {},
     "output_type": "execute_result"
    }
   ],
   "source": [
    "candidates_predicted_1_knn = [\n",
    "    candidate.iloc[0] for candidate in candidates_nearest_neighbors\n",
    "]\n",
    "\n",
    "candidates_predicted_1_knn"
   ]
  },
  {
   "cell_type": "code",
   "execution_count": 38,
   "id": "88471cfd-dbbd-4b09-b343-85a1f62fae6b",
   "metadata": {
    "tags": []
   },
   "outputs": [
    {
     "data": {
      "text/plain": [
       "['1068', '1068', '243', '243', 'Leki', 'Leki', 'New']"
      ]
     },
     "execution_count": 38,
     "metadata": {},
     "output_type": "execute_result"
    }
   ],
   "source": [
    "# True lynx_id\n",
    "candidates_id = data_candidates.lynx_id.tolist()\n",
    "candidates_id"
   ]
  },
  {
   "cell_type": "markdown",
   "id": "1aa81588-dc9a-4fce-81d6-17d869c56fda",
   "metadata": {},
   "source": [
    "#### Should we reject the individual prediction? Is it a new individual?"
   ]
  },
  {
   "cell_type": "code",
   "execution_count": 39,
   "id": "04a654ef-c422-4fde-a469-fa9241bdcbc9",
   "metadata": {
    "tags": []
   },
   "outputs": [
    {
     "data": {
      "text/plain": [
       "{0: array([350.42  , 172.9327], dtype=float32),\n",
       " 1: array([240.47621, 121.19878], dtype=float32),\n",
       " 2: array([183.54874, 122.25407], dtype=float32)}"
      ]
     },
     "execution_count": 39,
     "metadata": {},
     "output_type": "execute_result"
    }
   ],
   "source": [
    "cluster_variances = {cluster_indices: np.var(data_knowledge[data_knowledge['lynx_id_int'] == cluster_indices]['embedding'].to_list(), axis=0) for cluster_indices in [0, 1, 2]}\n",
    "cluster_variances"
   ]
  },
  {
   "cell_type": "code",
   "execution_count": 40,
   "id": "058fcd8e-d474-455e-bcbe-b4d39e8a8c9a",
   "metadata": {
    "tags": []
   },
   "outputs": [
    {
     "data": {
      "text/plain": [
       "{0: array([-16.683558,   7.731969], dtype=float32),\n",
       " 1: array([-15.97437, -38.19199], dtype=float32),\n",
       " 2: array([20.268675, 37.20141 ], dtype=float32)}"
      ]
     },
     "execution_count": 40,
     "metadata": {},
     "output_type": "execute_result"
    }
   ],
   "source": [
    "cluster_means = {cluster_indices: np.mean(data_knowledge[data_knowledge['lynx_id_int'] == cluster_indices]['embedding'].to_list(), axis=0) for cluster_indices in [0, 1, 2]}\n",
    "cluster_means"
   ]
  },
  {
   "cell_type": "markdown",
   "id": "2989c178-95a7-41aa-b89c-f872c2560fc3",
   "metadata": {},
   "source": [
    "To **find the best value for sigma**, we can try to **find the value which maximises the true positives (rate of well classified known individuals) and the true negatives (rate of well classified unknown individuals)**."
   ]
  },
  {
   "cell_type": "code",
   "execution_count": 41,
   "id": "1e94b429-dfbb-4f63-b9e0-9adfccf88f9e",
   "metadata": {
    "tags": []
   },
   "outputs": [],
   "source": [
    "confidence_levels = [0.68, 0.95, 0.99]"
   ]
  },
  {
   "cell_type": "code",
   "execution_count": 42,
   "id": "ac1e5bc5-f7e2-4554-a12c-0a329ac8e65e",
   "metadata": {
    "tags": []
   },
   "outputs": [],
   "source": [
    "def compute_confidence_intervals(confidence, means, variances):\n",
    "    intervals = []\n",
    "    for mean, variance in zip(means.values(), variances.values()):\n",
    "        interval = norm.interval(confidence, loc=mean, scale=np.sqrt(variance))\n",
    "        intervals.append((np.array([interval[0][0], interval[1][0]]), np.array([interval[0][1], interval[1][1]])))\n",
    "    \n",
    "    return intervals"
   ]
  },
  {
   "cell_type": "code",
   "execution_count": 43,
   "id": "d67d9edf-f328-47b2-a197-1cd37ee5c49b",
   "metadata": {
    "tags": []
   },
   "outputs": [],
   "source": [
    "def check_new_individual(candidates_dots, candidates_predicted, candidates_id):\n",
    "    candidates_predicted_local = candidates_predicted.copy()\n",
    "    for index, (candidate_dot, candidate_predicted, candidate_id) in enumerate(zip(candidates_dots, candidates_predicted, candidates_id)):\n",
    "        confidence_intervals_for_candidate = confidence_intervals[lynx_str_to_int[candidate_predicted]]\n",
    "\n",
    "        in_confidence_interval = all(\n",
    "            interval[0] <= dot <= interval[1]\n",
    "            for dot, interval in zip(candidate_dot, confidence_intervals_for_candidate)\n",
    "        )\n",
    "\n",
    "        if in_confidence_interval:\n",
    "            print(f\"Candidate {candidate_dot} | Prediction: {candidate_predicted} | True label: {candidate_id}\")\n",
    "        else:\n",
    "            print(f\"Candidate {candidate_dot} | Prediction: new individual | True label: {candidate_id}\")\n",
    "            candidates_predicted_local[index] = \"New\"\n",
    "        \n",
    "    return candidates_predicted_local"
   ]
  },
  {
   "cell_type": "code",
   "execution_count": 44,
   "id": "601b34f4-6302-4dd5-8c13-a47719d83c92",
   "metadata": {
    "tags": []
   },
   "outputs": [],
   "source": [
    "def compute_accuracy(candidates_predicted, candidates_refs):\n",
    "    correct_predictions = sum(p == r for p, r in zip(candidates_predicted, candidates_refs))\n",
    "\n",
    "    total_predictions = len(candidates_predicted)\n",
    "    accuracy = correct_predictions/total_predictions\n",
    "    \n",
    "    return accuracy"
   ]
  },
  {
   "cell_type": "code",
   "execution_count": 45,
   "id": "fd199144-0c32-4425-8248-558a3e92874b",
   "metadata": {
    "tags": []
   },
   "outputs": [
    {
     "data": {
      "text/plain": [
       "[[-28.74886, -24.46073],\n",
       " [-8.883934, -30.920877],\n",
       " [27.696579, 27.027657],\n",
       " [22.99476, 11.965357],\n",
       " [-0.80136406, -13.851978],\n",
       " [-36.058716, 19.957926],\n",
       " [-34.54189, -6.9797378]]"
      ]
     },
     "execution_count": 45,
     "metadata": {},
     "output_type": "execute_result"
    }
   ],
   "source": [
    "candidates_dots = data_candidates.embedding.tolist()\n",
    "candidates_dots"
   ]
  },
  {
   "cell_type": "code",
   "execution_count": 46,
   "id": "6b10d626-5ad0-41fd-b8a8-27043ab8c76d",
   "metadata": {
    "tags": []
   },
   "outputs": [
    {
     "name": "stdout",
     "output_type": "stream",
     "text": [
      "************************************************** 0.68 **************************************************\n",
      "Candidate [-28.74886, -24.46073] | Prediction: new individual | True label: 1068\n",
      "Candidate [-8.883934, -30.920877] | Prediction: 1068 | True label: 1068\n",
      "Candidate [27.696579, 27.027657] | Prediction: 243 | True label: 243\n",
      "Candidate [22.99476, 11.965357] | Prediction: new individual | True label: 243\n",
      "Candidate [-0.80136406, -13.851978] | Prediction: new individual | True label: Leki\n",
      "Candidate [-36.058716, 19.957926] | Prediction: new individual | True label: Leki\n",
      "Candidate [-34.54189, -6.9797378] | Prediction: new individual | True label: New\n",
      "Accuracy: 0.42857142857142855\n",
      "************************************************** 0.95 **************************************************\n",
      "Candidate [-28.74886, -24.46073] | Prediction: 1068 | True label: 1068\n",
      "Candidate [-8.883934, -30.920877] | Prediction: 1068 | True label: 1068\n",
      "Candidate [27.696579, 27.027657] | Prediction: 243 | True label: 243\n",
      "Candidate [22.99476, 11.965357] | Prediction: new individual | True label: 243\n",
      "Candidate [-0.80136406, -13.851978] | Prediction: Leki | True label: Leki\n",
      "Candidate [-36.058716, 19.957926] | Prediction: Leki | True label: Leki\n",
      "Candidate [-34.54189, -6.9797378] | Prediction: Leki | True label: New\n",
      "Accuracy: 0.7142857142857143\n",
      "************************************************** 0.99 **************************************************\n",
      "Candidate [-28.74886, -24.46073] | Prediction: 1068 | True label: 1068\n",
      "Candidate [-8.883934, -30.920877] | Prediction: 1068 | True label: 1068\n",
      "Candidate [27.696579, 27.027657] | Prediction: 243 | True label: 243\n",
      "Candidate [22.99476, 11.965357] | Prediction: 243 | True label: 243\n",
      "Candidate [-0.80136406, -13.851978] | Prediction: Leki | True label: Leki\n",
      "Candidate [-36.058716, 19.957926] | Prediction: Leki | True label: Leki\n",
      "Candidate [-34.54189, -6.9797378] | Prediction: Leki | True label: New\n",
      "Accuracy: 0.8571428571428571\n"
     ]
    }
   ],
   "source": [
    "accuracy_list = []\n",
    "\n",
    "for confidence in confidence_levels:\n",
    "    print(\"*\"*50, confidence, \"*\"*50)\n",
    "    confidence_intervals = compute_confidence_intervals(confidence, cluster_means, cluster_variances)\n",
    "    candidates_predicted_check = check_new_individual(candidates_dots, candidates_predicted_1_knn, candidates_id)\n",
    "    accuracy = compute_accuracy(candidates_predicted_check, candidates_id)\n",
    "    print(f\"Accuracy: {accuracy}\")\n",
    "    accuracy_list.append(accuracy)"
   ]
  },
  {
   "cell_type": "code",
   "execution_count": 47,
   "id": "43602f99-27f4-459f-a57d-c2a5d945768b",
   "metadata": {
    "tags": []
   },
   "outputs": [
    {
     "data": {
      "image/png": "[encoded data removed]",
      "text/plain": [
       "<Figure size 640x480 with 1 Axes>"
      ]
     },
     "metadata": {},
     "output_type": "display_data"
    }
   ],
   "source": [
    "plt.bar([str(conf) for conf in confidence_levels], accuracy_list)\n",
    "plt.xlabel('Indices')\n",
    "plt.ylabel('Accuracy')\n",
    "plt.title('Accuracy as a function of sigma standard deviations')\n",
    "plt.show()"
   ]
  },
  {
   "cell_type": "markdown",
   "id": "f35c39c6-4001-43fb-9085-a57678be69db",
   "metadata": {},
   "source": [
    "### Compute the other metrics\n",
    "\n",
    "Now let's calculate the metrics. To do this, we use the `open-metric-learning` module, which offers ready-made implementations of **CMC@k**, **mAP@k** and **Precision@k**. \n",
    "\n",
    "Before calculating the metrics, we need to **adapt `candidates_nearest_neighbors` to the detection of new individuals after our calculation with confidence intervals**. Candidate i, if detected as New, will see its neighbours as \"New\" from now on."
   ]
  },
  {
   "cell_type": "code",
   "execution_count": 48,
   "id": "1bcfa83b-164f-4c13-b76d-d5b910e49d8b",
   "metadata": {
    "tags": []
   },
   "outputs": [
    {
     "data": {
      "text/plain": [
       "[15    1068\n",
       " 9     1068\n",
       " 13    1068\n",
       " 12    1068\n",
       " 16    1068\n",
       " Name: lynx_id, dtype: object,\n",
       " 9     1068\n",
       " 15    1068\n",
       " 12    1068\n",
       " 13    1068\n",
       " 16    1068\n",
       " Name: lynx_id, dtype: object,\n",
       " 26    243\n",
       " 20    243\n",
       " 18    243\n",
       " 22    243\n",
       " 23    243\n",
       " Name: lynx_id, dtype: object,\n",
       " 24    243\n",
       " 21    243\n",
       " 18    243\n",
       " 22    243\n",
       " 23    243\n",
       " Name: lynx_id, dtype: object,\n",
       " 1     Leki\n",
       " 15    1068\n",
       " 9     1068\n",
       " 2     Leki\n",
       " 12    1068\n",
       " Name: lynx_id, dtype: object,\n",
       " 0    Leki\n",
       " 7    Leki\n",
       " 8    Leki\n",
       " 6    Leki\n",
       " 1    Leki\n",
       " Name: lynx_id, dtype: object,\n",
       " 6    Leki\n",
       " 8    Leki\n",
       " 4    Leki\n",
       " 0    Leki\n",
       " 7    Leki\n",
       " Name: lynx_id, dtype: object]"
      ]
     },
     "execution_count": 48,
     "metadata": {},
     "output_type": "execute_result"
    }
   ],
   "source": [
    "for index, value in enumerate(candidates_predicted_check):\n",
    "    if value == \"New\":\n",
    "        candidates_nearest_neighbors[index] = candidates_nearest_neighbors[index].apply(lambda x: \"New\")\n",
    "        \n",
    "candidates_nearest_neighbors"
   ]
  },
  {
   "cell_type": "code",
   "execution_count": 49,
   "id": "1e8f1c09-7899-4df3-be82-2c38c6d2b9f0",
   "metadata": {
    "tags": []
   },
   "outputs": [],
   "source": [
    "top_k = (1, 2, 3, 4, 5)"
   ]
  },
  {
   "cell_type": "code",
   "execution_count": 50,
   "id": "4be554c3-21c1-456d-a52e-31ade864a38c",
   "metadata": {
    "tags": []
   },
   "outputs": [],
   "source": [
    "def acc_k_list(nearest_individuals, true_individual):\n",
    "    return nearest_individuals.apply(lambda x: x == true_individual).tolist()"
   ]
  },
  {
   "cell_type": "code",
   "execution_count": 51,
   "id": "b2556409-c01c-4bbc-8a87-4409d4804712",
   "metadata": {
    "tags": []
   },
   "outputs": [
    {
     "data": {
      "text/plain": [
       "tensor([[ True,  True,  True,  True,  True],\n",
       "        [ True,  True,  True,  True,  True],\n",
       "        [ True,  True,  True,  True,  True],\n",
       "        [ True,  True,  True,  True,  True],\n",
       "        [ True, False, False,  True, False],\n",
       "        [ True,  True,  True,  True,  True],\n",
       "        [False, False, False, False, False]])"
      ]
     },
     "execution_count": 51,
     "metadata": {},
     "output_type": "execute_result"
    }
   ],
   "source": [
    "candidates_acc_k_list = [acc_k_list(neighbors, candidate_id) for neighbors, candidate_id in zip(candidates_nearest_neighbors, candidates_id)]\n",
    "candidates_acc_k_tensor = torch.tensor(candidates_acc_k_list, dtype=torch.bool)\n",
    "\n",
    "candidates_acc_k_tensor"
   ]
  },
  {
   "cell_type": "markdown",
   "id": "eda7928c-9f49-4646-b8e1-a301b59318ab",
   "metadata": {},
   "source": [
    "#### CMC@k (Cumulative Matching Characteristics) "
   ]
  },
  {
   "cell_type": "code",
   "execution_count": 52,
   "id": "be290c03-eb33-4086-b742-251eacdca4ee",
   "metadata": {
    "tags": []
   },
   "outputs": [
    {
     "data": {
      "text/plain": [
       "[tensor([1., 1., 1., 1., 1., 1., 0.]),\n",
       " tensor([1., 1., 1., 1., 1., 1., 0.]),\n",
       " tensor([1., 1., 1., 1., 1., 1., 0.]),\n",
       " tensor([1., 1., 1., 1., 1., 1., 0.]),\n",
       " tensor([1., 1., 1., 1., 1., 1., 0.])]"
      ]
     },
     "execution_count": 52,
     "metadata": {},
     "output_type": "execute_result"
    }
   ],
   "source": [
    "calc_cmc(candidates_acc_k_tensor, top_k)"
   ]
  },
  {
   "cell_type": "markdown",
   "id": "45a5c1a8-5fb9-438a-b55f-a5d0f08d1d12",
   "metadata": {},
   "source": [
    "#### mAP@k (mean Average Precision)"
   ]
  },
  {
   "cell_type": "code",
   "execution_count": 53,
   "id": "1aa15d41-9efd-44ae-b9ca-3f3a85127149",
   "metadata": {
    "tags": []
   },
   "outputs": [],
   "source": [
    "n_gt = torch.tensor([5])"
   ]
  },
  {
   "cell_type": "code",
   "execution_count": 54,
   "id": "021a0bde-b95d-4ee5-9d04-07a496cd3191",
   "metadata": {
    "tags": []
   },
   "outputs": [
    {
     "data": {
      "text/plain": [
       "[tensor([1., 1., 1., 1., 1., 1., 0.]),\n",
       " tensor([1., 1., 1., 1., 1., 1., 0.]),\n",
       " tensor([1., 1., 1., 1., 1., 1., 0.]),\n",
       " tensor([1.0000, 1.0000, 1.0000, 1.0000, 0.7500, 1.0000, 0.0000]),\n",
       " tensor([1.0000, 1.0000, 1.0000, 1.0000, 0.7500, 1.0000, 0.0000])]"
      ]
     },
     "execution_count": 54,
     "metadata": {},
     "output_type": "execute_result"
    }
   ],
   "source": [
    "calc_map(candidates_acc_k_tensor, n_gt=n_gt, top_k=top_k)"
   ]
  },
  {
   "cell_type": "markdown",
   "id": "320d12c0-3089-4480-bf0b-05c9f13115e1",
   "metadata": {},
   "source": [
    "#### Precision@k"
   ]
  },
  {
   "cell_type": "code",
   "execution_count": 55,
   "id": "56ddfa71-92e4-400c-936a-53ebe413b3fa",
   "metadata": {
    "tags": []
   },
   "outputs": [
    {
     "data": {
      "text/plain": [
       "[tensor([1., 1., 1., 1., 1., 1., 0.]),\n",
       " tensor([1.0000, 1.0000, 1.0000, 1.0000, 0.5000, 1.0000, 0.0000]),\n",
       " tensor([1.0000, 1.0000, 1.0000, 1.0000, 0.3333, 1.0000, 0.0000]),\n",
       " tensor([1.0000, 1.0000, 1.0000, 1.0000, 0.5000, 1.0000, 0.0000]),\n",
       " tensor([1.0000, 1.0000, 1.0000, 1.0000, 0.4000, 1.0000, 0.0000])]"
      ]
     },
     "execution_count": 55,
     "metadata": {},
     "output_type": "execute_result"
    }
   ],
   "source": [
    "calc_precision(candidates_acc_k_tensor, n_gt=n_gt, top_k=top_k)"
   ]
  }
 ],
 "metadata": {
  "kernelspec": {
   "display_name": "pytorch-gpu-2.0.1_py3.10.12",
   "language": "python",
   "name": "module-conda-env-pytorch-gpu-2.0.1_py3.10.12"
  },
  "language_info": {
   "codemirror_mode": {
    "name": "ipython",
    "version": 3
   },
   "file_extension": ".py",
   "mimetype": "text/x-python",
   "name": "python",
   "nbconvert_exporter": "python",
   "pygments_lexer": "ipython3",
   "version": "3.10.12"
  }
 },
 "nbformat": 4,
 "nbformat_minor": 5
}
