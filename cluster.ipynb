{
 "cells": [
  {
   "cell_type": "markdown",
   "id": "1bf42ffd-99c2-4ab1-b7b5-1cfb29b4d46d",
   "metadata": {},
   "source": [
    "# Clustering lynx"
   ]
  },
  {
   "cell_type": "code",
   "execution_count": 1,
   "id": "c78db62c-59d1-4202-aefe-edc7e760218e",
   "metadata": {
    "tags": []
   },
   "outputs": [
    {
     "name": "stderr",
     "output_type": "stream",
     "text": [
      "/gpfslocalsup/pub/anaconda-py3/2023.03/envs/pytorch-gpu-2.0.1+py3.10.12/lib/python3.10/site-packages/paramiko/transport.py:219: CryptographyDeprecationWarning: Blowfish has been deprecated\n",
      "  \"class\": algorithms.Blowfish,\n"
     ]
    }
   ],
   "source": [
    "import random\n",
    "import torch\n",
    "\n",
    "import pandas as pd\n",
    "import matplotlib.pyplot as plt\n",
    "import numpy as np\n",
    "\n",
    "from scipy.stats import norm\n",
    "from gensim.models import Word2Vec\n",
    "from sklearn.neighbors import NearestNeighbors\n",
    "from oml.functional.metrics import calc_cmc, calc_map, calc_precision"
   ]
  },
  {
   "cell_type": "code",
   "execution_count": 2,
   "id": "1bb2ce6e-f798-418e-a66f-798de64723d1",
   "metadata": {
    "tags": []
   },
   "outputs": [],
   "source": [
    "# !pip install -U open-metric-learning --user --no-cache-dir\n",
    "# !pip install gensim --user --no-cache-dir"
   ]
  },
  {
   "cell_type": "markdown",
   "id": "862b969b-d0a0-4cc0-aefc-f4b0d16a5cd2",
   "metadata": {},
   "source": [
    "## Load data"
   ]
  },
  {
   "cell_type": "code",
   "execution_count": 3,
   "id": "ef78cd90-c804-4657-becc-ce6e093af132",
   "metadata": {
    "tags": []
   },
   "outputs": [
    {
     "data": {
      "text/html": [
       "<div>\n",
       "<style scoped>\n",
       "    .dataframe tbody tr th:only-of-type {\n",
       "        vertical-align: middle;\n",
       "    }\n",
       "\n",
       "    .dataframe tbody tr th {\n",
       "        vertical-align: top;\n",
       "    }\n",
       "\n",
       "    .dataframe thead th {\n",
       "        text-align: right;\n",
       "    }\n",
       "</style>\n",
       "<table border=\"1\" class=\"dataframe\">\n",
       "  <thead>\n",
       "    <tr style=\"text-align: right;\">\n",
       "      <th></th>\n",
       "      <th>filepath</th>\n",
       "      <th>lynx_id</th>\n",
       "      <th>source</th>\n",
       "      <th>pattern</th>\n",
       "      <th>date</th>\n",
       "      <th>location</th>\n",
       "      <th>image_number</th>\n",
       "      <th>conf</th>\n",
       "      <th>x</th>\n",
       "      <th>y</th>\n",
       "      <th>width</th>\n",
       "      <th>height</th>\n",
       "    </tr>\n",
       "  </thead>\n",
       "  <tbody>\n",
       "    <tr>\n",
       "      <th>0</th>\n",
       "      <td>/gpfsscratch/rech/ads/commun/datasets/extracte...</td>\n",
       "      <td>Van-Gogh</td>\n",
       "      <td>OCS</td>\n",
       "      <td>NaN</td>\n",
       "      <td>2012-04-27</td>\n",
       "      <td>NaN</td>\n",
       "      <td>1</td>\n",
       "      <td>0.938</td>\n",
       "      <td>854.8416</td>\n",
       "      <td>1054.8000</td>\n",
       "      <td>558.8352</td>\n",
       "      <td>289.0000</td>\n",
       "    </tr>\n",
       "    <tr>\n",
       "      <th>1</th>\n",
       "      <td>/gpfsscratch/rech/ads/commun/datasets/extracte...</td>\n",
       "      <td>Van-Gogh</td>\n",
       "      <td>OCS</td>\n",
       "      <td>NaN</td>\n",
       "      <td>2012-05-05</td>\n",
       "      <td>NaN</td>\n",
       "      <td>2</td>\n",
       "      <td>0.894</td>\n",
       "      <td>906.8544</td>\n",
       "      <td>948.9312</td>\n",
       "      <td>997.7472</td>\n",
       "      <td>1628.8128</td>\n",
       "    </tr>\n",
       "    <tr>\n",
       "      <th>2</th>\n",
       "      <td>/gpfsscratch/rech/ads/commun/datasets/extracte...</td>\n",
       "      <td>Van-Gogh</td>\n",
       "      <td>OCS</td>\n",
       "      <td>NaN</td>\n",
       "      <td>2012-03-17</td>\n",
       "      <td>NaN</td>\n",
       "      <td>3</td>\n",
       "      <td>0.939</td>\n",
       "      <td>1192.8384</td>\n",
       "      <td>821.8000</td>\n",
       "      <td>743.9040</td>\n",
       "      <td>465.8000</td>\n",
       "    </tr>\n",
       "    <tr>\n",
       "      <th>3</th>\n",
       "      <td>/gpfsscratch/rech/ads/commun/datasets/extracte...</td>\n",
       "      <td>Van-Gogh</td>\n",
       "      <td>OCS</td>\n",
       "      <td>NaN</td>\n",
       "      <td>2012-03-16</td>\n",
       "      <td>NaN</td>\n",
       "      <td>4</td>\n",
       "      <td>0.965</td>\n",
       "      <td>834.8832</td>\n",
       "      <td>673.8000</td>\n",
       "      <td>594.8640</td>\n",
       "      <td>518.8000</td>\n",
       "    </tr>\n",
       "    <tr>\n",
       "      <th>4</th>\n",
       "      <td>/gpfsscratch/rech/ads/commun/datasets/extracte...</td>\n",
       "      <td>Van-Gogh</td>\n",
       "      <td>OCS</td>\n",
       "      <td>NaN</td>\n",
       "      <td>2012-03-05</td>\n",
       "      <td>NaN</td>\n",
       "      <td>5</td>\n",
       "      <td>0.970</td>\n",
       "      <td>765.9080</td>\n",
       "      <td>315.9860</td>\n",
       "      <td>568.8540</td>\n",
       "      <td>392.9500</td>\n",
       "    </tr>\n",
       "    <tr>\n",
       "      <th>...</th>\n",
       "      <td>...</td>\n",
       "      <td>...</td>\n",
       "      <td>...</td>\n",
       "      <td>...</td>\n",
       "      <td>...</td>\n",
       "      <td>...</td>\n",
       "      <td>...</td>\n",
       "      <td>...</td>\n",
       "      <td>...</td>\n",
       "      <td>...</td>\n",
       "      <td>...</td>\n",
       "      <td>...</td>\n",
       "    </tr>\n",
       "    <tr>\n",
       "      <th>3108</th>\n",
       "      <td>/gpfsscratch/rech/ads/commun/datasets/extracte...</td>\n",
       "      <td>679=L192</td>\n",
       "      <td>OFB</td>\n",
       "      <td>SPOTS</td>\n",
       "      <td>2015-07-21</td>\n",
       "      <td>Goumois</td>\n",
       "      <td>2</td>\n",
       "      <td>0.925</td>\n",
       "      <td>668.7360</td>\n",
       "      <td>1152.9216</td>\n",
       "      <td>3805.5744</td>\n",
       "      <td>2295.8208</td>\n",
       "    </tr>\n",
       "    <tr>\n",
       "      <th>3109</th>\n",
       "      <td>/gpfsscratch/rech/ads/commun/datasets/extracte...</td>\n",
       "      <td>679=L192</td>\n",
       "      <td>OFB</td>\n",
       "      <td>SPOTS</td>\n",
       "      <td>2015-07-21</td>\n",
       "      <td>Goumois</td>\n",
       "      <td>3</td>\n",
       "      <td>0.949</td>\n",
       "      <td>1276.8192</td>\n",
       "      <td>880.9344</td>\n",
       "      <td>3906.6624</td>\n",
       "      <td>2475.8784</td>\n",
       "    </tr>\n",
       "    <tr>\n",
       "      <th>3110</th>\n",
       "      <td>/gpfsscratch/rech/ads/commun/datasets/extracte...</td>\n",
       "      <td>679=L192</td>\n",
       "      <td>OFB</td>\n",
       "      <td>SPOTS</td>\n",
       "      <td>2015-07-21</td>\n",
       "      <td>Goumois</td>\n",
       "      <td>4</td>\n",
       "      <td>0.902</td>\n",
       "      <td>615.8804</td>\n",
       "      <td>767.9859</td>\n",
       "      <td>1334.8447</td>\n",
       "      <td>828.8511</td>\n",
       "    </tr>\n",
       "    <tr>\n",
       "      <th>3111</th>\n",
       "      <td>/gpfsscratch/rech/ads/commun/datasets/extracte...</td>\n",
       "      <td>1017</td>\n",
       "      <td>OFB</td>\n",
       "      <td>SPOTS</td>\n",
       "      <td>2017-08-08</td>\n",
       "      <td>Chaux-Neuve</td>\n",
       "      <td>1</td>\n",
       "      <td>0.959</td>\n",
       "      <td>1797.7904</td>\n",
       "      <td>835.8592</td>\n",
       "      <td>470.8928</td>\n",
       "      <td>251.9680</td>\n",
       "    </tr>\n",
       "    <tr>\n",
       "      <th>3112</th>\n",
       "      <td>/gpfsscratch/rech/ads/commun/datasets/extracte...</td>\n",
       "      <td>1017</td>\n",
       "      <td>OFB</td>\n",
       "      <td>SPOTS</td>\n",
       "      <td>2017-08-08</td>\n",
       "      <td>Chaux-Neuve</td>\n",
       "      <td>2</td>\n",
       "      <td>0.964</td>\n",
       "      <td>869.9152</td>\n",
       "      <td>1065.8048</td>\n",
       "      <td>345.9568</td>\n",
       "      <td>380.9280</td>\n",
       "    </tr>\n",
       "  </tbody>\n",
       "</table>\n",
       "<p>3113 rows × 12 columns</p>\n",
       "</div>"
      ],
      "text/plain": [
       "                                               filepath   lynx_id source  \\\n",
       "0     /gpfsscratch/rech/ads/commun/datasets/extracte...  Van-Gogh    OCS   \n",
       "1     /gpfsscratch/rech/ads/commun/datasets/extracte...  Van-Gogh    OCS   \n",
       "2     /gpfsscratch/rech/ads/commun/datasets/extracte...  Van-Gogh    OCS   \n",
       "3     /gpfsscratch/rech/ads/commun/datasets/extracte...  Van-Gogh    OCS   \n",
       "4     /gpfsscratch/rech/ads/commun/datasets/extracte...  Van-Gogh    OCS   \n",
       "...                                                 ...       ...    ...   \n",
       "3108  /gpfsscratch/rech/ads/commun/datasets/extracte...  679=L192    OFB   \n",
       "3109  /gpfsscratch/rech/ads/commun/datasets/extracte...  679=L192    OFB   \n",
       "3110  /gpfsscratch/rech/ads/commun/datasets/extracte...  679=L192    OFB   \n",
       "3111  /gpfsscratch/rech/ads/commun/datasets/extracte...      1017    OFB   \n",
       "3112  /gpfsscratch/rech/ads/commun/datasets/extracte...      1017    OFB   \n",
       "\n",
       "     pattern        date     location  image_number   conf          x  \\\n",
       "0        NaN  2012-04-27          NaN             1  0.938   854.8416   \n",
       "1        NaN  2012-05-05          NaN             2  0.894   906.8544   \n",
       "2        NaN  2012-03-17          NaN             3  0.939  1192.8384   \n",
       "3        NaN  2012-03-16          NaN             4  0.965   834.8832   \n",
       "4        NaN  2012-03-05          NaN             5  0.970   765.9080   \n",
       "...      ...         ...          ...           ...    ...        ...   \n",
       "3108   SPOTS  2015-07-21      Goumois             2  0.925   668.7360   \n",
       "3109   SPOTS  2015-07-21      Goumois             3  0.949  1276.8192   \n",
       "3110   SPOTS  2015-07-21      Goumois             4  0.902   615.8804   \n",
       "3111   SPOTS  2017-08-08  Chaux-Neuve             1  0.959  1797.7904   \n",
       "3112   SPOTS  2017-08-08  Chaux-Neuve             2  0.964   869.9152   \n",
       "\n",
       "              y      width     height  \n",
       "0     1054.8000   558.8352   289.0000  \n",
       "1      948.9312   997.7472  1628.8128  \n",
       "2      821.8000   743.9040   465.8000  \n",
       "3      673.8000   594.8640   518.8000  \n",
       "4      315.9860   568.8540   392.9500  \n",
       "...         ...        ...        ...  \n",
       "3108  1152.9216  3805.5744  2295.8208  \n",
       "3109   880.9344  3906.6624  2475.8784  \n",
       "3110   767.9859  1334.8447   828.8511  \n",
       "3111   835.8592   470.8928   251.9680  \n",
       "3112  1065.8048   345.9568   380.9280  \n",
       "\n",
       "[3113 rows x 12 columns]"
      ]
     },
     "execution_count": 3,
     "metadata": {},
     "output_type": "execute_result"
    }
   ],
   "source": [
    "data = pd.read_csv(\"/gpfsscratch/rech/ads/commun/datasets/extracted/lynx_dataset_france.csv\")\n",
    "data"
   ]
  },
  {
   "cell_type": "markdown",
   "id": "303d418d-f644-45f6-a50c-e160eb5c1a34",
   "metadata": {},
   "source": [
    "### Selection of individuals\n",
    "\n",
    "We are looking for individuals with around 10 images to test the evaluation metrics."
   ]
  },
  {
   "cell_type": "code",
   "execution_count": 4,
   "id": "903f1f8d-de64-48a3-8a6e-426faa506be3",
   "metadata": {
    "tags": []
   },
   "outputs": [
    {
     "data": {
      "text/plain": [
       "F25-069=J1-2019-1388    16\n",
       "1342                    16\n",
       "F25-030=B324            15\n",
       "704                     15\n",
       "1504                    14\n",
       "2208                    14\n",
       "1509                    14\n",
       "F25-059=1196=1385       14\n",
       "2446                    14\n",
       "F39-091=1724            13\n",
       "1350=B2011              13\n",
       "1324                    13\n",
       "F01-055=1363            13\n",
       "F25-037                 13\n",
       "1914                    12\n",
       "2358                    12\n",
       "2637                    12\n",
       "Oslo                    12\n",
       "2778                    12\n",
       "F25-039                 11\n",
       "Name: lynx_id, dtype: int64"
      ]
     },
     "execution_count": 4,
     "metadata": {},
     "output_type": "execute_result"
    }
   ],
   "source": [
    "lynx_id_counts = data['lynx_id'].value_counts()\n",
    "lynx_id_counts[50:70]"
   ]
  },
  {
   "cell_type": "code",
   "execution_count": 5,
   "id": "4ab3ca31-fae5-4db8-98a5-70dd57da6f90",
   "metadata": {
    "tags": []
   },
   "outputs": [],
   "source": [
    "selected_individuals = [\"Oslo\", \"2778\", \"1914\"]"
   ]
  },
  {
   "cell_type": "code",
   "execution_count": 6,
   "id": "56156d93-3295-447b-a765-13803be51571",
   "metadata": {
    "tags": []
   },
   "outputs": [],
   "source": [
    "data_selected_individuals = data[data[\"lynx_id\"].isin(selected_individuals)]\n",
    "data_selected_individuals = data_selected_individuals.copy()"
   ]
  },
  {
   "cell_type": "markdown",
   "id": "c6982b56-0b78-4337-8287-f4a8f7ca937d",
   "metadata": {},
   "source": [
    "### Generation of fake 2D image embeddings"
   ]
  },
  {
   "cell_type": "code",
   "execution_count": 7,
   "id": "f220ac94-b8d5-44bd-959f-e51818502b2b",
   "metadata": {
    "tags": []
   },
   "outputs": [],
   "source": [
    "def generate_embedding(lynx_id):\n",
    "    if lynx_id == \"Oslo\":\n",
    "        x = random.randint(0, 4)\n",
    "        y = random.randint(0, 4)\n",
    "    elif lynx_id == \"1914\":\n",
    "        x = random.randint(6, 10)\n",
    "        y = random.randint(6, 10)\n",
    "    else:\n",
    "        x = random.randint(0, 5)\n",
    "        y = random.randint(5, 10)\n",
    "        \n",
    "    return [x, y]"
   ]
  },
  {
   "cell_type": "code",
   "execution_count": 8,
   "id": "2755671c-cfa5-4486-b8db-57e31c148e41",
   "metadata": {
    "tags": []
   },
   "outputs": [],
   "source": [
    "data_selected_individuals[\"embedding\"] = data_selected_individuals[\"lynx_id\"].apply(generate_embedding)"
   ]
  },
  {
   "cell_type": "code",
   "execution_count": 9,
   "id": "5d9cd5dc-7e5f-4a90-8edd-b3acbdfd776a",
   "metadata": {
    "tags": []
   },
   "outputs": [],
   "source": [
    "data_selected_individuals[['embedding_x', 'embedding_y']] = pd.DataFrame(data_selected_individuals['embedding'].tolist(), index=data_selected_individuals.index)"
   ]
  },
  {
   "cell_type": "code",
   "execution_count": 10,
   "id": "cf893a3f-5a5d-4222-94dd-fdf343c933d1",
   "metadata": {
    "tags": []
   },
   "outputs": [
    {
     "data": {
      "text/html": [
       "<div>\n",
       "<style scoped>\n",
       "    .dataframe tbody tr th:only-of-type {\n",
       "        vertical-align: middle;\n",
       "    }\n",
       "\n",
       "    .dataframe tbody tr th {\n",
       "        vertical-align: top;\n",
       "    }\n",
       "\n",
       "    .dataframe thead th {\n",
       "        text-align: right;\n",
       "    }\n",
       "</style>\n",
       "<table border=\"1\" class=\"dataframe\">\n",
       "  <thead>\n",
       "    <tr style=\"text-align: right;\">\n",
       "      <th></th>\n",
       "      <th>filepath</th>\n",
       "      <th>lynx_id</th>\n",
       "      <th>source</th>\n",
       "      <th>pattern</th>\n",
       "      <th>date</th>\n",
       "      <th>location</th>\n",
       "      <th>image_number</th>\n",
       "      <th>conf</th>\n",
       "      <th>x</th>\n",
       "      <th>y</th>\n",
       "      <th>width</th>\n",
       "      <th>height</th>\n",
       "      <th>embedding</th>\n",
       "      <th>embedding_x</th>\n",
       "      <th>embedding_y</th>\n",
       "      <th>lynx_id_int</th>\n",
       "    </tr>\n",
       "  </thead>\n",
       "  <tbody>\n",
       "    <tr>\n",
       "      <th>0</th>\n",
       "      <td>/gpfsscratch/rech/ads/commun/datasets/extracte...</td>\n",
       "      <td>Oslo</td>\n",
       "      <td>OCS</td>\n",
       "      <td>NaN</td>\n",
       "      <td>2018-11-24</td>\n",
       "      <td>NaN</td>\n",
       "      <td>1</td>\n",
       "      <td>0.918</td>\n",
       "      <td>528.90</td>\n",
       "      <td>522.9640</td>\n",
       "      <td>295.95</td>\n",
       "      <td>168.9220</td>\n",
       "      <td>[3, 2]</td>\n",
       "      <td>3</td>\n",
       "      <td>2</td>\n",
       "      <td>0</td>\n",
       "    </tr>\n",
       "    <tr>\n",
       "      <th>1</th>\n",
       "      <td>/gpfsscratch/rech/ads/commun/datasets/extracte...</td>\n",
       "      <td>Oslo</td>\n",
       "      <td>OCS</td>\n",
       "      <td>NaN</td>\n",
       "      <td>2020-10-03</td>\n",
       "      <td>NaN</td>\n",
       "      <td>2</td>\n",
       "      <td>0.962</td>\n",
       "      <td>851.85</td>\n",
       "      <td>532.9170</td>\n",
       "      <td>255.90</td>\n",
       "      <td>171.9795</td>\n",
       "      <td>[2, 4]</td>\n",
       "      <td>2</td>\n",
       "      <td>4</td>\n",
       "      <td>0</td>\n",
       "    </tr>\n",
       "    <tr>\n",
       "      <th>2</th>\n",
       "      <td>/gpfsscratch/rech/ads/commun/datasets/extracte...</td>\n",
       "      <td>Oslo</td>\n",
       "      <td>OCS</td>\n",
       "      <td>NaN</td>\n",
       "      <td>2018-11-29</td>\n",
       "      <td>NaN</td>\n",
       "      <td>3</td>\n",
       "      <td>0.977</td>\n",
       "      <td>435.90</td>\n",
       "      <td>486.9813</td>\n",
       "      <td>378.00</td>\n",
       "      <td>244.9369</td>\n",
       "      <td>[3, 1]</td>\n",
       "      <td>3</td>\n",
       "      <td>1</td>\n",
       "      <td>0</td>\n",
       "    </tr>\n",
       "    <tr>\n",
       "      <th>3</th>\n",
       "      <td>/gpfsscratch/rech/ads/commun/datasets/extracte...</td>\n",
       "      <td>Oslo</td>\n",
       "      <td>OCS</td>\n",
       "      <td>NaN</td>\n",
       "      <td>2019-12-25</td>\n",
       "      <td>NaN</td>\n",
       "      <td>4</td>\n",
       "      <td>0.947</td>\n",
       "      <td>673.95</td>\n",
       "      <td>508.9643</td>\n",
       "      <td>277.95</td>\n",
       "      <td>147.9803</td>\n",
       "      <td>[2, 4]</td>\n",
       "      <td>2</td>\n",
       "      <td>4</td>\n",
       "      <td>0</td>\n",
       "    </tr>\n",
       "    <tr>\n",
       "      <th>4</th>\n",
       "      <td>/gpfsscratch/rech/ads/commun/datasets/extracte...</td>\n",
       "      <td>Oslo</td>\n",
       "      <td>OCS</td>\n",
       "      <td>NaN</td>\n",
       "      <td>2020-08-31</td>\n",
       "      <td>NaN</td>\n",
       "      <td>5</td>\n",
       "      <td>0.945</td>\n",
       "      <td>158.88</td>\n",
       "      <td>238.9500</td>\n",
       "      <td>181.92</td>\n",
       "      <td>99.9675</td>\n",
       "      <td>[1, 3]</td>\n",
       "      <td>1</td>\n",
       "      <td>3</td>\n",
       "      <td>0</td>\n",
       "    </tr>\n",
       "  </tbody>\n",
       "</table>\n",
       "</div>"
      ],
      "text/plain": [
       "                                            filepath lynx_id source pattern  \\\n",
       "0  /gpfsscratch/rech/ads/commun/datasets/extracte...    Oslo    OCS     NaN   \n",
       "1  /gpfsscratch/rech/ads/commun/datasets/extracte...    Oslo    OCS     NaN   \n",
       "2  /gpfsscratch/rech/ads/commun/datasets/extracte...    Oslo    OCS     NaN   \n",
       "3  /gpfsscratch/rech/ads/commun/datasets/extracte...    Oslo    OCS     NaN   \n",
       "4  /gpfsscratch/rech/ads/commun/datasets/extracte...    Oslo    OCS     NaN   \n",
       "\n",
       "         date location  image_number   conf       x         y   width  \\\n",
       "0  2018-11-24      NaN             1  0.918  528.90  522.9640  295.95   \n",
       "1  2020-10-03      NaN             2  0.962  851.85  532.9170  255.90   \n",
       "2  2018-11-29      NaN             3  0.977  435.90  486.9813  378.00   \n",
       "3  2019-12-25      NaN             4  0.947  673.95  508.9643  277.95   \n",
       "4  2020-08-31      NaN             5  0.945  158.88  238.9500  181.92   \n",
       "\n",
       "     height embedding  embedding_x  embedding_y  lynx_id_int  \n",
       "0  168.9220    [3, 2]            3            2            0  \n",
       "1  171.9795    [2, 4]            2            4            0  \n",
       "2  244.9369    [3, 1]            3            1            0  \n",
       "3  147.9803    [2, 4]            2            4            0  \n",
       "4   99.9675    [1, 3]            1            3            0  "
      ]
     },
     "execution_count": 10,
     "metadata": {},
     "output_type": "execute_result"
    }
   ],
   "source": [
    "data_selected_individuals.reset_index(drop=True, inplace=True)\n",
    "data_selected_individuals['lynx_id_int'], _ = pd.factorize(data_selected_individuals[\"lynx_id\"])\n",
    "\n",
    "data_selected_individuals.head()"
   ]
  },
  {
   "cell_type": "code",
   "execution_count": 11,
   "id": "3a00084c-ffa9-44ee-a0ce-27234a63234b",
   "metadata": {
    "tags": []
   },
   "outputs": [
    {
     "name": "stdout",
     "output_type": "stream",
     "text": [
      "{0: 'Oslo', 1: '1914', 2: '2778'}\n",
      "{'Oslo': 0, '1914': 1, '2778': 2}\n"
     ]
    }
   ],
   "source": [
    "lynx_int_to_str = pd.Series(data_selected_individuals['lynx_id'].values, index=data_selected_individuals['lynx_id_int'].values).to_dict()\n",
    "print(lynx_int_to_str)\n",
    "\n",
    "lynx_str_to_int = {v: k for k, v in lynx_int_to_str.items()}\n",
    "print(lynx_str_to_int)"
   ]
  },
  {
   "cell_type": "markdown",
   "id": "ee2db95a-8e5e-4e79-8e9c-d8c802e10d1c",
   "metadata": {},
   "source": [
    "### Viewing individuals with their embeddings"
   ]
  },
  {
   "cell_type": "code",
   "execution_count": 12,
   "id": "6f9ff862-0801-4dd7-b438-cdc2184dde8c",
   "metadata": {
    "tags": []
   },
   "outputs": [
    {
     "data": {
      "text/plain": [
       "Text(0.5, 1.0, 'Scatter plot des embeddings avec coloration par lynx_id')"
      ]
     },
     "execution_count": 12,
     "metadata": {},
     "output_type": "execute_result"
    },
    {
     "data": {
      "image/png": "[encoded data removed]",
      "text/plain": [
       "<Figure size 640x480 with 2 Axes>"
      ]
     },
     "metadata": {},
     "output_type": "display_data"
    }
   ],
   "source": [
    "fig, ax = plt.subplots()\n",
    "\n",
    "scatter = plt.scatter(data_selected_individuals['embedding_x'], data_selected_individuals['embedding_y'], c=data_selected_individuals['lynx_id_int'])\n",
    "\n",
    "legend = ax.legend(*scatter.legend_elements(), loc=\"lower left\", title=\"lynx_id\")\n",
    "\n",
    "plt.colorbar(label=\"Lynx ID\")\n",
    "plt.xlabel(\"X\")\n",
    "plt.ylabel(\"Y\")\n",
    "plt.title(\"Scatter plot des embeddings avec coloration par lynx_id\")"
   ]
  },
  {
   "cell_type": "markdown",
   "id": "83b1cbc6-47c4-48c1-a039-5b680c6eb03a",
   "metadata": {},
   "source": [
    "## Reception of the image of a new candidate\n",
    "\n",
    "The image is passed to the model and then we obtain an embedding (here 2D). Now, let's run a search using a candidate and a NearestNeighbors."
   ]
  },
  {
   "cell_type": "code",
   "execution_count": 61,
   "id": "eb5ab143-5415-44ad-a768-aa9d268615c4",
   "metadata": {
    "tags": []
   },
   "outputs": [],
   "source": [
    "candidat_1 = [6, 6]"
   ]
  },
  {
   "cell_type": "code",
   "execution_count": 62,
   "id": "b3ede5ff-033d-4573-897e-1c53eff0a24c",
   "metadata": {
    "tags": []
   },
   "outputs": [],
   "source": [
    "neighbors = NearestNeighbors(n_neighbors=5, algorithm='brute', metric=\"minkowski\").fit(data_selected_individuals[\"embedding\"].values.tolist())"
   ]
  },
  {
   "cell_type": "code",
   "execution_count": 63,
   "id": "bc212c4e-8dc5-4733-a63b-951dd32eda51",
   "metadata": {
    "tags": []
   },
   "outputs": [
    {
     "data": {
      "text/plain": [
       "(array([[1.        , 1.        , 1.        , 1.41421356, 1.41421356]]),\n",
       " array([20, 13, 12, 26, 19]))"
      ]
     },
     "execution_count": 63,
     "metadata": {},
     "output_type": "execute_result"
    }
   ],
   "source": [
    "distances, indices = neighbors.kneighbors([candidat_1])\n",
    "distances, indices[0]"
   ]
  },
  {
   "cell_type": "code",
   "execution_count": 64,
   "id": "002e5d0c-33b9-4958-a13d-b43ccc0e13e5",
   "metadata": {
    "tags": []
   },
   "outputs": [
    {
     "data": {
      "text/plain": [
       "20    1914\n",
       "13    1914\n",
       "12    1914\n",
       "26    2778\n",
       "19    1914\n",
       "Name: lynx_id, dtype: object"
      ]
     },
     "execution_count": 64,
     "metadata": {},
     "output_type": "execute_result"
    }
   ],
   "source": [
    "individual_id = data_selected_individuals.loc[indices[0], \"lynx_id\"]\n",
    "individual_id"
   ]
  },
  {
   "cell_type": "code",
   "execution_count": 65,
   "id": "e330b96d-7b13-45a1-8af5-9bfe73afd964",
   "metadata": {},
   "outputs": [
    {
     "data": {
      "text/plain": [
       "'1914'"
      ]
     },
     "execution_count": 65,
     "metadata": {},
     "output_type": "execute_result"
    }
   ],
   "source": [
    "individual_predicted_n_knn = individual_id.value_counts().idxmax()\n",
    "individual_predicted_n_knn"
   ]
  },
  {
   "cell_type": "code",
   "execution_count": 66,
   "id": "dd33d098-5012-4364-9de8-ea03c94c858a",
   "metadata": {
    "tags": []
   },
   "outputs": [
    {
     "name": "stdout",
     "output_type": "stream",
     "text": [
      "1914 1\n"
     ]
    }
   ],
   "source": [
    "individual_predicted_1_knn = individual_id.iloc[0]\n",
    "individual_predicted_1_knn_index = lynx_str_to_int[individual_predicted_1_knn]\n",
    "print(individual_predicted_1_knn, individual_predicted_1_knn_index)"
   ]
  },
  {
   "cell_type": "markdown",
   "id": "1aa81588-dc9a-4fce-81d6-17d869c56fda",
   "metadata": {},
   "source": [
    "#### Should we reject the individual prediction? Is it a new individual?"
   ]
  },
  {
   "cell_type": "code",
   "execution_count": 67,
   "id": "04a654ef-c422-4fde-a469-fa9241bdcbc9",
   "metadata": {
    "tags": []
   },
   "outputs": [
    {
     "data": {
      "text/plain": [
       "{0: array([1.90972222, 1.57638889]),\n",
       " 1: array([1.74305556, 2.07638889]),\n",
       " 2: array([2.13888889, 0.72222222])}"
      ]
     },
     "execution_count": 67,
     "metadata": {},
     "output_type": "execute_result"
    }
   ],
   "source": [
    "cluster_variances = {cluster_indices: np.var(data_selected_individuals[data_selected_individuals['lynx_id_int'] == cluster_indices]['embedding'].to_list(), axis=0) for cluster_indices in [0, 1, 2]}\n",
    "cluster_variances"
   ]
  },
  {
   "cell_type": "code",
   "execution_count": 68,
   "id": "058fcd8e-d474-455e-bcbe-b4d39e8a8c9a",
   "metadata": {
    "tags": []
   },
   "outputs": [
    {
     "data": {
      "text/plain": [
       "{0: array([1.58333333, 2.58333333]),\n",
       " 1: array([7.58333333, 8.08333333]),\n",
       " 2: array([2.83333333, 6.66666667])}"
      ]
     },
     "execution_count": 68,
     "metadata": {},
     "output_type": "execute_result"
    }
   ],
   "source": [
    "cluster_means = {cluster_indices: np.mean(data_selected_individuals[data_selected_individuals['lynx_id_int'] == cluster_indices]['embedding'].to_list(), axis=0) for cluster_indices in [0, 1, 2]}\n",
    "cluster_means"
   ]
  },
  {
   "cell_type": "code",
   "execution_count": 69,
   "id": "536f0089-7c17-4537-bdd1-02418d41de81",
   "metadata": {
    "tags": []
   },
   "outputs": [
    {
     "data": {
      "text/plain": [
       "[(array([-1.12519381,  4.29186047]), array([0.12251375, 5.04415291])),\n",
       " (array([ 4.99569423, 10.17097244]), array([ 5.25908787, 10.90757879])),\n",
       " (array([-0.03310236,  5.69976903]), array([5.00101757, 8.33231577]))]"
      ]
     },
     "execution_count": 69,
     "metadata": {},
     "output_type": "execute_result"
    }
   ],
   "source": [
    "confidence_level = 0.95\n",
    "\n",
    "confidence_intervals = []\n",
    "for mean, variance in zip(cluster_means.values(), cluster_variances.values()):\n",
    "    interval = norm.interval(confidence_level, loc=mean, scale=np.sqrt(variance))\n",
    "    confidence_intervals.append((np.array([interval[0][0], interval[1][0]]), np.array([interval[0][1], interval[1][1]])))\n",
    "    \n",
    "confidence_intervals"
   ]
  },
  {
   "cell_type": "code",
   "execution_count": 70,
   "id": "486dff3b-daac-4d4c-bc9c-6bf9238b2e85",
   "metadata": {
    "tags": []
   },
   "outputs": [
    {
     "data": {
      "text/plain": [
       "True"
      ]
     },
     "execution_count": 70,
     "metadata": {},
     "output_type": "execute_result"
    }
   ],
   "source": [
    "in_confidence_interval = all(\n",
    "    interval[0] <= candidat_1[i] <= interval[1]\n",
    "    for i, interval in enumerate(confidence_intervals[individual_predicted_1_knn_index])\n",
    ")\n",
    "in_confidence_interval"
   ]
  },
  {
   "cell_type": "markdown",
   "id": "f35c39c6-4001-43fb-9085-a57678be69db",
   "metadata": {},
   "source": [
    "### Compute the metrics\n",
    "\n",
    "Now let's calculate the metrics. To do this, we use the `open-metric-learning` module, which offers ready-made implementations of **CMC@k**, **mAP@k** and **Precision@k**. "
   ]
  },
  {
   "cell_type": "code",
   "execution_count": 23,
   "id": "0b8126c8-f747-403f-97d2-a87f096bbdf9",
   "metadata": {
    "tags": []
   },
   "outputs": [],
   "source": [
    "true_id = \"1914\""
   ]
  },
  {
   "cell_type": "code",
   "execution_count": 24,
   "id": "4be554c3-21c1-456d-a52e-31ade864a38c",
   "metadata": {
    "tags": []
   },
   "outputs": [],
   "source": [
    "def acc_k_list(nearest_individuals, true_individual):\n",
    "    return nearest_individuals.apply(lambda x: x == true_individual).tolist()"
   ]
  },
  {
   "cell_type": "code",
   "execution_count": 25,
   "id": "e3548803-0a8c-4ffc-8002-0e4b2f3553d6",
   "metadata": {
    "tags": []
   },
   "outputs": [
    {
     "name": "stdout",
     "output_type": "stream",
     "text": [
      "tensor([[False, False, False, False, False]])\n",
      "tensor([5])\n"
     ]
    }
   ],
   "source": [
    "gt_tops = torch.tensor([\n",
    "                        acc_k_list(individual_id, true_id)\n",
    "], dtype=torch.bool)\n",
    "\n",
    "n_gt = torch.tensor([5])\n",
    "\n",
    "top_k=(1,2,3,4,5)\n",
    "\n",
    "print(gt_tops)\n",
    "print(n_gt)"
   ]
  },
  {
   "cell_type": "markdown",
   "id": "eda7928c-9f49-4646-b8e1-a301b59318ab",
   "metadata": {},
   "source": [
    "#### CMC@k (Cumulative Matching Characteristics) "
   ]
  },
  {
   "cell_type": "code",
   "execution_count": 26,
   "id": "97bf8894-ec8e-4ac0-a9cb-c536e2f01d3b",
   "metadata": {
    "tags": []
   },
   "outputs": [
    {
     "data": {
      "text/plain": [
       "[tensor([0.]), tensor([0.]), tensor([0.]), tensor([0.]), tensor([0.])]"
      ]
     },
     "execution_count": 26,
     "metadata": {},
     "output_type": "execute_result"
    }
   ],
   "source": [
    "calc_cmc(gt_tops, top_k)"
   ]
  },
  {
   "cell_type": "markdown",
   "id": "45a5c1a8-5fb9-438a-b55f-a5d0f08d1d12",
   "metadata": {},
   "source": [
    "#### mAP@k (mean Average Precision)"
   ]
  },
  {
   "cell_type": "code",
   "execution_count": 27,
   "id": "38f177e5-d9c4-4fd6-b53c-140f5ea56d3a",
   "metadata": {
    "tags": []
   },
   "outputs": [
    {
     "data": {
      "text/plain": [
       "[tensor([0.]), tensor([0.]), tensor([0.]), tensor([0.]), tensor([0.])]"
      ]
     },
     "execution_count": 27,
     "metadata": {},
     "output_type": "execute_result"
    }
   ],
   "source": [
    "calc_map(gt_tops=gt_tops, n_gt=n_gt, top_k=top_k)"
   ]
  },
  {
   "cell_type": "markdown",
   "id": "320d12c0-3089-4480-bf0b-05c9f13115e1",
   "metadata": {},
   "source": [
    "#### Precision@k"
   ]
  },
  {
   "cell_type": "code",
   "execution_count": 28,
   "id": "a95cea9e-449b-47a5-a0a7-cfaf27df353d",
   "metadata": {
    "tags": []
   },
   "outputs": [
    {
     "data": {
      "text/plain": [
       "[tensor([0.]), tensor([0.]), tensor([0.]), tensor([0.]), tensor([0.])]"
      ]
     },
     "execution_count": 28,
     "metadata": {},
     "output_type": "execute_result"
    }
   ],
   "source": [
    "calc_precision(gt_tops=gt_tops, n_gt=n_gt, top_k=top_k)"
   ]
  }
 ],
 "metadata": {
  "kernelspec": {
   "display_name": "pytorch-gpu-2.0.1_py3.10.12",
   "language": "python",
   "name": "module-conda-env-pytorch-gpu-2.0.1_py3.10.12"
  },
  "language_info": {
   "codemirror_mode": {
    "name": "ipython",
    "version": 3
   },
   "file_extension": ".py",
   "mimetype": "text/x-python",
   "name": "python",
   "nbconvert_exporter": "python",
   "pygments_lexer": "ipython3",
   "version": "3.10.12"
  }
 },
 "nbformat": 4,
 "nbformat_minor": 5
}
