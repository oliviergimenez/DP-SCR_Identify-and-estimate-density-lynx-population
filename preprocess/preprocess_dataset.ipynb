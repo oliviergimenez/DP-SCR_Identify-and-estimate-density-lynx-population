{
 "cells": [
  {
   "cell_type": "markdown",
   "id": "00874846-1084-4f83-b8ed-94be45415e7a",
   "metadata": {},
   "source": [
    "# Generate CSV dataset file"
   ]
  },
  {
   "cell_type": "code",
   "execution_count": 11,
   "id": "3012f906-950b-401b-9854-58707597c679",
   "metadata": {
    "tags": []
   },
   "outputs": [],
   "source": [
    "import os\n",
    "import pandas as pd"
   ]
  },
  {
   "cell_type": "code",
   "execution_count": 12,
   "id": "b4240f5f-38bf-4185-82fe-fccad5ede221",
   "metadata": {
    "tags": []
   },
   "outputs": [
    {
     "data": {
      "text/plain": [
       "'/gpfsdswork/projects/rech/ads/uxp55sd/DP-SCR_Identify-and-estimate-density-lynx-population/preprocess'"
      ]
     },
     "execution_count": 12,
     "metadata": {},
     "output_type": "execute_result"
    }
   ],
   "source": [
    "os.getcwd()"
   ]
  },
  {
   "cell_type": "code",
   "execution_count": 13,
   "id": "74243144-0e1d-41a0-8167-6f942706e8f8",
   "metadata": {
    "tags": []
   },
   "outputs": [],
   "source": [
    "DATASET_PATH = \"/gpfsscratch/rech/ads/commun/datasets/extracted/Deep learning lynx - data/0_dataset_raw\""
   ]
  },
  {
   "cell_type": "code",
   "execution_count": 14,
   "id": "2943f6cc-bd1e-4d50-935b-f830ea727f77",
   "metadata": {
    "tags": []
   },
   "outputs": [],
   "source": [
    "individual_folders = os.listdir(DATASET_PATH)"
   ]
  },
  {
   "cell_type": "code",
   "execution_count": 15,
   "id": "20a8c925-92d1-477e-8fbb-b8bea4b2dd2d",
   "metadata": {
    "tags": []
   },
   "outputs": [],
   "source": [
    "dataset_dict = {\n",
    "    \"filepath\": [],\n",
    "    \"lynx_id\": [],\n",
    "    \"source\": [],\n",
    "    \"pattern\": [],\n",
    "    \"date\": [],\n",
    "    \"location\": [],\n",
    "    \"image_number\": []\n",
    "}"
   ]
  },
  {
   "cell_type": "code",
   "execution_count": 16,
   "id": "6540d468-ffbe-4c1e-81a3-3c919cb828dd",
   "metadata": {
    "tags": []
   },
   "outputs": [],
   "source": [
    "def parse_filename(filename):\n",
    "    filename = filename.split(\".\")[0]\n",
    "    parts = filename.split(\"_\")\n",
    "    \n",
    "    return {\"id_lynx\": parts[0], \"source\": parts[1], \"pattern\": parts[2], \"date\": parts[3], \"location\": parts[4], \"image_number\": parts[5]}"
   ]
  },
  {
   "cell_type": "code",
   "execution_count": 17,
   "id": "ba223c02",
   "metadata": {
    "tags": []
   },
   "outputs": [
    {
     "name": "stdout",
     "output_type": "stream",
     "text": [
      "/gpfsscratch/rech/ads/commun/datasets/extracted/Deep learning lynx - data/0_dataset_raw/0_dataset_Marie_OFB_ocelles/OFB_OCELLES_F01-047=922/FDC01_point_36.2_evosges_le_col_2018_09_01_flanc_droit.JPG\n",
      "/gpfsscratch/rech/ads/commun/datasets/extracted/Deep learning lynx - data/0_dataset_raw/0_dataset_Marie_OFB_ocelles/OFB_OCELLES_F01-047=922/FDC01_point_15.2_corlier_montlier_2019_02_10_flanc_droit_erreur date-F01_047.JPG\n",
      "/gpfsscratch/rech/ads/commun/datasets/extracted/Deep learning lynx - data/0_dataset_raw/0_dataset_Marie_OFB_ocelles/OFB_OCELLES_F39-095=1556/1556_FD_2021-05-26-21_100_1-FDC39-Mont-sur-Monnet.jpg\n",
      "/gpfsscratch/rech/ads/commun/datasets/extracted/Deep learning lynx - data/0_dataset_raw/0_dataset_Marie_OFB_ocelles/OFB_OCELLES_F39-095=1556/300_2021-05-02-100_1-FDC39-Mont-sur-Monnet.jpg\n",
      "/gpfsscratch/rech/ads/commun/datasets/extracted/Deep learning lynx - data/0_dataset_raw/0_dataset_Marie_OFB_ocelles/OFB_OCELLES_F39-095=1556/1556_FD_2021-07-04-21_100_1-FDC39-Mont-sur-Monnet (2).jpg\n"
     ]
    }
   ],
   "source": [
    "for current_directory, _, files in os.walk(DATASET_PATH):\n",
    "    if \"0_dataset_Marie_3_individus\" in current_directory :\n",
    "        continue\n",
    "\n",
    "    for file in files:\n",
    "        absolute_path = os.path.abspath(os.path.join(current_directory, file))\n",
    "        if file.endswith((\".txt\", \".xlsx\", \".db\")):\n",
    "            continue\n",
    "            \n",
    "        try:\n",
    "            parsed_filename = parse_filename(file)\n",
    "        except:\n",
    "            print(absolute_path)  # TODO: problem with these filenames\n",
    "            continue  # skip them\n",
    "            \n",
    "        dataset_dict[\"filepath\"].append(absolute_path)\n",
    "        dataset_dict[\"lynx_id\"].append(parsed_filename[\"id_lynx\"])\n",
    "        dataset_dict[\"source\"].append(parsed_filename[\"source\"])\n",
    "        dataset_dict[\"pattern\"].append(parsed_filename[\"pattern\"])\n",
    "        dataset_dict[\"date\"].append(parsed_filename[\"date\"])\n",
    "        dataset_dict[\"location\"].append(parsed_filename[\"location\"])\n",
    "        dataset_dict[\"image_number\"].append(parsed_filename[\"image_number\"])"
   ]
  },
  {
   "cell_type": "code",
   "execution_count": 18,
   "id": "cdffa44c-07f6-4469-a705-af2fbb8a184e",
   "metadata": {
    "tags": []
   },
   "outputs": [
    {
     "data": {
      "text/html": [
       "<div>\n",
       "<style scoped>\n",
       "    .dataframe tbody tr th:only-of-type {\n",
       "        vertical-align: middle;\n",
       "    }\n",
       "\n",
       "    .dataframe tbody tr th {\n",
       "        vertical-align: top;\n",
       "    }\n",
       "\n",
       "    .dataframe thead th {\n",
       "        text-align: right;\n",
       "    }\n",
       "</style>\n",
       "<table border=\"1\" class=\"dataframe\">\n",
       "  <thead>\n",
       "    <tr style=\"text-align: right;\">\n",
       "      <th></th>\n",
       "      <th>filepath</th>\n",
       "      <th>lynx_id</th>\n",
       "      <th>source</th>\n",
       "      <th>pattern</th>\n",
       "      <th>date</th>\n",
       "      <th>location</th>\n",
       "      <th>image_number</th>\n",
       "    </tr>\n",
       "  </thead>\n",
       "  <tbody>\n",
       "    <tr>\n",
       "      <th>0</th>\n",
       "      <td>/gpfsscratch/rech/ads/commun/datasets/extracte...</td>\n",
       "      <td>Van-Gogh</td>\n",
       "      <td>OCS</td>\n",
       "      <td>NA</td>\n",
       "      <td>2012-04-27</td>\n",
       "      <td>NA</td>\n",
       "      <td>5</td>\n",
       "    </tr>\n",
       "    <tr>\n",
       "      <th>1</th>\n",
       "      <td>/gpfsscratch/rech/ads/commun/datasets/extracte...</td>\n",
       "      <td>Van-Gogh</td>\n",
       "      <td>OCS</td>\n",
       "      <td>NA</td>\n",
       "      <td>2012-05-05</td>\n",
       "      <td>NA</td>\n",
       "      <td>1</td>\n",
       "    </tr>\n",
       "    <tr>\n",
       "      <th>2</th>\n",
       "      <td>/gpfsscratch/rech/ads/commun/datasets/extracte...</td>\n",
       "      <td>Van-Gogh</td>\n",
       "      <td>OCS</td>\n",
       "      <td>NA</td>\n",
       "      <td>2012-03-17</td>\n",
       "      <td>NA</td>\n",
       "      <td>3</td>\n",
       "    </tr>\n",
       "    <tr>\n",
       "      <th>3</th>\n",
       "      <td>/gpfsscratch/rech/ads/commun/datasets/extracte...</td>\n",
       "      <td>Van-Gogh</td>\n",
       "      <td>OCS</td>\n",
       "      <td>NA</td>\n",
       "      <td>2012-03-16</td>\n",
       "      <td>NA</td>\n",
       "      <td>6</td>\n",
       "    </tr>\n",
       "    <tr>\n",
       "      <th>4</th>\n",
       "      <td>/gpfsscratch/rech/ads/commun/datasets/extracte...</td>\n",
       "      <td>Van-Gogh</td>\n",
       "      <td>OCS</td>\n",
       "      <td>NA</td>\n",
       "      <td>2012-03-05</td>\n",
       "      <td>NA</td>\n",
       "      <td>7</td>\n",
       "    </tr>\n",
       "    <tr>\n",
       "      <th>...</th>\n",
       "      <td>...</td>\n",
       "      <td>...</td>\n",
       "      <td>...</td>\n",
       "      <td>...</td>\n",
       "      <td>...</td>\n",
       "      <td>...</td>\n",
       "      <td>...</td>\n",
       "    </tr>\n",
       "    <tr>\n",
       "      <th>3325</th>\n",
       "      <td>/gpfsscratch/rech/ads/commun/datasets/extracte...</td>\n",
       "      <td>679=L192</td>\n",
       "      <td>OFB</td>\n",
       "      <td>SPOTS</td>\n",
       "      <td>2015-07-21</td>\n",
       "      <td>Goumois</td>\n",
       "      <td>4</td>\n",
       "    </tr>\n",
       "    <tr>\n",
       "      <th>3326</th>\n",
       "      <td>/gpfsscratch/rech/ads/commun/datasets/extracte...</td>\n",
       "      <td>679=L192</td>\n",
       "      <td>OFB</td>\n",
       "      <td>SPOTS</td>\n",
       "      <td>2015-07-21</td>\n",
       "      <td>Goumois</td>\n",
       "      <td>3</td>\n",
       "    </tr>\n",
       "    <tr>\n",
       "      <th>3327</th>\n",
       "      <td>/gpfsscratch/rech/ads/commun/datasets/extracte...</td>\n",
       "      <td>679=L192</td>\n",
       "      <td>OFB</td>\n",
       "      <td>SPOTS</td>\n",
       "      <td>2015-07-21</td>\n",
       "      <td>Goumois</td>\n",
       "      <td>1</td>\n",
       "    </tr>\n",
       "    <tr>\n",
       "      <th>3328</th>\n",
       "      <td>/gpfsscratch/rech/ads/commun/datasets/extracte...</td>\n",
       "      <td>1017</td>\n",
       "      <td>OFB</td>\n",
       "      <td>SPOTS</td>\n",
       "      <td>2017-08-08</td>\n",
       "      <td>Chaux-Neuve</td>\n",
       "      <td>2</td>\n",
       "    </tr>\n",
       "    <tr>\n",
       "      <th>3329</th>\n",
       "      <td>/gpfsscratch/rech/ads/commun/datasets/extracte...</td>\n",
       "      <td>1017</td>\n",
       "      <td>OFB</td>\n",
       "      <td>SPOTS</td>\n",
       "      <td>2017-08-08</td>\n",
       "      <td>Chaux-Neuve</td>\n",
       "      <td>1</td>\n",
       "    </tr>\n",
       "  </tbody>\n",
       "</table>\n",
       "<p>3330 rows × 7 columns</p>\n",
       "</div>"
      ],
      "text/plain": [
       "                                               filepath   lynx_id source  \\\n",
       "0     /gpfsscratch/rech/ads/commun/datasets/extracte...  Van-Gogh    OCS   \n",
       "1     /gpfsscratch/rech/ads/commun/datasets/extracte...  Van-Gogh    OCS   \n",
       "2     /gpfsscratch/rech/ads/commun/datasets/extracte...  Van-Gogh    OCS   \n",
       "3     /gpfsscratch/rech/ads/commun/datasets/extracte...  Van-Gogh    OCS   \n",
       "4     /gpfsscratch/rech/ads/commun/datasets/extracte...  Van-Gogh    OCS   \n",
       "...                                                 ...       ...    ...   \n",
       "3325  /gpfsscratch/rech/ads/commun/datasets/extracte...  679=L192    OFB   \n",
       "3326  /gpfsscratch/rech/ads/commun/datasets/extracte...  679=L192    OFB   \n",
       "3327  /gpfsscratch/rech/ads/commun/datasets/extracte...  679=L192    OFB   \n",
       "3328  /gpfsscratch/rech/ads/commun/datasets/extracte...      1017    OFB   \n",
       "3329  /gpfsscratch/rech/ads/commun/datasets/extracte...      1017    OFB   \n",
       "\n",
       "     pattern        date     location image_number  \n",
       "0         NA  2012-04-27           NA            5  \n",
       "1         NA  2012-05-05           NA            1  \n",
       "2         NA  2012-03-17           NA            3  \n",
       "3         NA  2012-03-16           NA            6  \n",
       "4         NA  2012-03-05           NA            7  \n",
       "...      ...         ...          ...          ...  \n",
       "3325   SPOTS  2015-07-21      Goumois            4  \n",
       "3326   SPOTS  2015-07-21      Goumois            3  \n",
       "3327   SPOTS  2015-07-21      Goumois            1  \n",
       "3328   SPOTS  2017-08-08  Chaux-Neuve            2  \n",
       "3329   SPOTS  2017-08-08  Chaux-Neuve            1  \n",
       "\n",
       "[3330 rows x 7 columns]"
      ]
     },
     "execution_count": 18,
     "metadata": {},
     "output_type": "execute_result"
    }
   ],
   "source": [
    "dataset_df = pd.DataFrame(dataset_dict)\n",
    "dataset_df"
   ]
  },
  {
   "cell_type": "code",
   "execution_count": 19,
   "id": "7e1c37d8-7dc4-4976-8b6f-36ce5d150ca4",
   "metadata": {
    "tags": []
   },
   "outputs": [
    {
     "data": {
      "text/plain": [
       "OCELLES    2393\n",
       "SPOTS       803\n",
       "NA          131\n",
       "OCS           1\n",
       "              1\n",
       "OFB           1\n",
       "Name: pattern, dtype: int64"
      ]
     },
     "execution_count": 19,
     "metadata": {},
     "output_type": "execute_result"
    }
   ],
   "source": [
    "dataset_df[\"pattern\"].value_counts()"
   ]
  },
  {
   "cell_type": "code",
   "execution_count": 20,
   "id": "b247fa15-3858-4bc9-bb0b-f25b7d55dcb8",
   "metadata": {
    "tags": []
   },
   "outputs": [],
   "source": [
    "dataset_df.to_csv(\"/gpfsscratch/rech/ads/commun/datasets/extracted/lynx_dataset.csv\", index=False)"
   ]
  }
 ],
 "metadata": {
  "kernelspec": {
   "display_name": "pytorch-gpu-2.0.0_py3.10.9",
   "language": "python",
   "name": "module-conda-env-pytorch-gpu-2.0.0_py3.10.9"
  },
  "language_info": {
   "codemirror_mode": {
    "name": "ipython",
    "version": 3
   },
   "file_extension": ".py",
   "mimetype": "text/x-python",
   "name": "python",
   "nbconvert_exporter": "python",
   "pygments_lexer": "ipython3",
   "version": "3.10.9"
  }
 },
 "nbformat": 4,
 "nbformat_minor": 5
}
