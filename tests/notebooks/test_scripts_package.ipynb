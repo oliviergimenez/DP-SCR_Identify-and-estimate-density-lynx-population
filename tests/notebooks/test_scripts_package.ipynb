{
 "cells": [
  {
   "cell_type": "markdown",
   "id": "13818c50-3263-44ea-8ce8-494483a2de11",
   "metadata": {
    "tags": []
   },
   "source": [
    "# Tests to check lynx_ids scripts from pip install package"
   ]
  },
  {
   "cell_type": "code",
   "execution_count": 5,
   "id": "446c53f9-7101-404a-8ac6-ea07e4a83ee5",
   "metadata": {
    "tags": []
   },
   "outputs": [
    {
     "name": "stdout",
     "output_type": "stream",
     "text": [
      "r6i3n0\n",
      "Thu Mar 28 16:52:13 2024       \n",
      "+---------------------------------------------------------------------------------------+\n",
      "| NVIDIA-SMI 535.129.03             Driver Version: 535.129.03   CUDA Version: 12.2     |\n",
      "|-----------------------------------------+----------------------+----------------------+\n",
      "| GPU  Name                 Persistence-M | Bus-Id        Disp.A | Volatile Uncorr. ECC |\n",
      "| Fan  Temp   Perf          Pwr:Usage/Cap |         Memory-Usage | GPU-Util  Compute M. |\n",
      "|                                         |                      |               MIG M. |\n",
      "|=========================================+======================+======================|\n",
      "|   0  Tesla V100-SXM2-32GB           On  | 00000000:1A:00.0 Off |                    0 |\n",
      "| N/A   46C    P0              45W / 300W |      0MiB / 32768MiB |      0%      Default |\n",
      "|                                         |                      |                  N/A |\n",
      "+-----------------------------------------+----------------------+----------------------+\n",
      "                                                                                         \n",
      "+---------------------------------------------------------------------------------------+\n",
      "| Processes:                                                                            |\n",
      "|  GPU   GI   CI        PID   Type   Process name                            GPU Memory |\n",
      "|        ID   ID                                                             Usage      |\n",
      "|=======================================================================================|\n",
      "|  No running processes found                                                           |\n",
      "+---------------------------------------------------------------------------------------+\n"
     ]
    }
   ],
   "source": [
    "!hostname\n",
    "!nvidia-smi"
   ]
  },
  {
   "cell_type": "markdown",
   "id": "f632e800-8a95-4189-a4a8-270e4cbbf6e1",
   "metadata": {},
   "source": [
    "## Checking config usage"
   ]
  },
  {
   "cell_type": "code",
   "execution_count": 7,
   "id": "e24c0bb9-81fa-4943-8682-0d7de55a14fa",
   "metadata": {
    "tags": []
   },
   "outputs": [
    {
     "name": "stdout",
     "output_type": "stream",
     "text": [
      "Overwriting lynx_id_config.yaml\n"
     ]
    }
   ],
   "source": [
    "%%writefile lynx_id_config.yaml\n",
    "command: check_relative_imports\n",
    "model-path: xyz_config\n",
    "input-data: zyx_config\n",
    "output-path: yzx_config\n"
   ]
  },
  {
   "cell_type": "code",
   "execution_count": 4,
   "id": "2aa7849b-051a-4b4e-b40d-267c8f0be530",
   "metadata": {
    "tags": []
   },
   "outputs": [
    {
     "name": "stdout",
     "output_type": "stream",
     "text": [
      "Running train_triplets with arguments: Namespace(model_path='xyz_config', input_data='zyx_config', output_path='yzx')\n",
      "This is the infer script.\n",
      "Model path: xyz_config\n",
      "Input data: zyx_config\n",
      "Output path: yzx\n",
      "Compose([\n",
      "  LongestMaxSize(always_apply=False, p=1, max_size=224, interpolation=1),\n",
      "  PadIfNeeded(always_apply=False, p=1, min_height=224, min_width=224, pad_height_divisor=None, pad_width_divisor=None, border_mode=4, value=None, mask_value=None),\n",
      "  ToTensorV2(always_apply=True, p=1.0, transpose_mask=False),\n",
      "], p=1.0, bbox_params=None, keypoint_params=None, additional_targets={}, is_check_shapes=True)\n"
     ]
    }
   ],
   "source": [
    "!python -m lynx_id check_relative_imports --config @lynx_id/ressources/configs/config_test.yaml --output-path yzx"
   ]
  },
  {
   "cell_type": "markdown",
   "id": "cfd2f830-2658-49ae-bb5c-9a6e87ee4379",
   "metadata": {},
   "source": [
    "## Through __main__.py wrapper"
   ]
  },
  {
   "cell_type": "markdown",
   "id": "ee12ae58-1e99-409c-8bd1-be7000161a3b",
   "metadata": {},
   "source": [
    "### Train triplets"
   ]
  },
  {
   "cell_type": "code",
   "execution_count": null,
   "id": "638cbede-e85b-4ecc-bdd6-b41080c1d732",
   "metadata": {
    "tags": []
   },
   "outputs": [],
   "source": [
    "import os\n",
    "# Path for saving models and TensorBoard logs\n",
    "root_dir = os.environ.get('ALL_CCFRSCRATCH')\n",
    "csv = os.path.join(root_dir, \"datasets/extracted/lynx_dataset_full.csv\")\n",
    "model_weights = os.path.join(root_dir, \"models/resnet50/pretrained_weights.pt\")\n",
    "save_path = os.path.join(root_dir, \"models/triplet_embeddings\")\n",
    "load_path = os.path.join(root_dir, \"precompute/triplet_precompute.npz\")\n",
    "device = \"auto\"\n",
    "\n",
    "\n",
    "experiment_name = \"kg_tests\"\n",
    "experiment_path = os.path.join(os.environ.get('ALL_CCFRWORK'), experiment_name)\n",
    "\n",
    "!python -m lynx_id train_triplets --csv {csv} --model_weights {model_weights} --save_path {save_path} --load_path {load_path} --experiment_path {experiment_path}"
   ]
  },
  {
   "cell_type": "markdown",
   "id": "36f415b6-ecc9-4dae-a127-94f0df4350dc",
   "metadata": {
    "tags": []
   },
   "source": [
    "\n",
    "### upcoming scripts"
   ]
  },
  {
   "cell_type": "code",
   "execution_count": null,
   "id": "e397e4fa-1553-4c82-9b85-7fb5dce85274",
   "metadata": {
    "tags": []
   },
   "outputs": [],
   "source": [
    "!python -m lynx_id train"
   ]
  },
  {
   "cell_type": "code",
   "execution_count": null,
   "id": "51e934ad-2c7d-46ee-a243-864dc8583782",
   "metadata": {
    "tags": []
   },
   "outputs": [],
   "source": [
    "!python -m lynx_id infer --model-path xyz --input-data zyx --output-path yzx"
   ]
  },
  {
   "cell_type": "code",
   "execution_count": null,
   "id": "742b959a-f113-4e1d-8c89-1d296cc28be7",
   "metadata": {
    "tags": []
   },
   "outputs": [],
   "source": [
    "!python -m lynx_id eval --model-path xyz --input-data zyx --output-path yzx"
   ]
  },
  {
   "cell_type": "markdown",
   "id": "4fc4015f-70f7-4aa1-9e8b-c0475f977965",
   "metadata": {},
   "source": [
    "## Calling the scripts direcyly"
   ]
  },
  {
   "cell_type": "code",
   "execution_count": null,
   "id": "bc3446b2-cca7-47a2-b8d1-1d2372f1b765",
   "metadata": {
    "tags": []
   },
   "outputs": [],
   "source": [
    "!python -m lynx_id.scripts.infer --model-path xyz --input-data zyx --output-path yzx"
   ]
  }
 ],
 "metadata": {
  "kernelspec": {
   "display_name": "pytorch-gpu-2.2.0_py3.11.7",
   "language": "python",
   "name": "module-conda-env-pytorch-gpu-2.2.0_py3.11.7"
  },
  "language_info": {
   "codemirror_mode": {
    "name": "ipython",
    "version": 3
   },
   "file_extension": ".py",
   "mimetype": "text/x-python",
   "name": "python",
   "nbconvert_exporter": "python",
   "pygments_lexer": "ipython3",
   "version": "3.11.7"
  }
 },
 "nbformat": 4,
 "nbformat_minor": 5
}
