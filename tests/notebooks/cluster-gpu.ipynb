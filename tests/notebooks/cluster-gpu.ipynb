{
 "cells": [
  {
   "cell_type": "markdown",
   "id": "1bf42ffd-99c2-4ab1-b7b5-1cfb29b4d46d",
   "metadata": {},
   "source": [
    "# **Clustering lynx**"
   ]
  },
  {
   "cell_type": "code",
   "execution_count": 1,
   "id": "2791c1a5-f797-406e-899a-2b08a4e7ca95",
   "metadata": {
    "tags": []
   },
   "outputs": [],
   "source": [
    "# Allow reloading of libraries without restarting the kernel\n",
    "%load_ext autoreload\n",
    "%autoreload 2"
   ]
  },
  {
   "cell_type": "code",
   "execution_count": 2,
   "id": "c78db62c-59d1-4202-aefe-edc7e760218e",
   "metadata": {
    "tags": []
   },
   "outputs": [
    {
     "name": "stderr",
     "output_type": "stream",
     "text": [
      "/gpfslocalsup/pub/anaconda-py3/2023.03/envs/pytorch-gpu-2.0.1+py3.10.12/lib/python3.10/site-packages/torchvision-0.15.2a0+fa99a53-py3.10-linux-x86_64.egg/torchvision/io/image.py:13: UserWarning: Failed to load image Python extension: '/gpfs7kro/gpfslocalsup/pub/anaconda-py3/2023.03/envs/pytorch-gpu-2.0.1+py3.10.12/lib/python3.10/site-packages/torchvision-0.15.2a0+fa99a53-py3.10-linux-x86_64.egg/torchvision/image.so: undefined symbol: _ZN5torch3jit17parseSchemaOrNameERKNSt7__cxx1112basic_stringIcSt11char_traitsIcESaIcEEE'If you don't plan on using image functionality from `torchvision.io`, you can ignore this warning. Otherwise, there might be something wrong with your environment. Did you have `libjpeg` or `libpng` installed before building `torchvision` from source?\n",
      "  warn(\n",
      "/gpfslocalsup/pub/anaconda-py3/2023.03/envs/pytorch-gpu-2.0.1+py3.10.12/lib/python3.10/site-packages/paramiko/transport.py:219: CryptographyDeprecationWarning: Blowfish has been deprecated and will be removed in a future release\n",
      "  \"class\": algorithms.Blowfish,\n"
     ]
    }
   ],
   "source": [
    "import random\n",
    "import matplotlib.pyplot as plt\n",
    "from collections import Counter\n",
    "from pathlib import Path\n",
    "from scipy.stats import norm\n",
    "\n",
    "import pandas as pd\n",
    "import torch\n",
    "import torch.nn as nn\n",
    "import numpy as np\n",
    "from oml.functional.metrics import calc_cmc, calc_map, calc_precision\n",
    "from sklearn.neighbors import NearestNeighbors\n",
    "from torch.utils.data import DataLoader\n",
    "from torchvision import models\n",
    "from tqdm import tqdm\n",
    "\n",
    "from lynx_id.data.dataset import LynxDataset\n",
    "from lynx_id.data.transformations_and_augmentations import transforms\n",
    "from lynx_id.data.collate import collate_single\n",
    "\n",
    "plt.rcParams['figure.figsize'] = [20, 5]"
   ]
  },
  {
   "cell_type": "code",
   "execution_count": 3,
   "id": "634a7e81-ecf9-4223-982c-10ee7dad0947",
   "metadata": {
    "tags": []
   },
   "outputs": [
    {
     "name": "stdout",
     "output_type": "stream",
     "text": [
      "DEVICE='cuda'\n"
     ]
    }
   ],
   "source": [
    "DEVICE = \"cuda\" if torch.cuda.is_available() else \"cpu\"\n",
    "print(f\"{DEVICE=}\")"
   ]
  },
  {
   "cell_type": "code",
   "execution_count": 4,
   "id": "a598f168-1e00-418f-a575-d55e2ef52fd1",
   "metadata": {
    "tags": []
   },
   "outputs": [],
   "source": [
    "random.seed(42)"
   ]
  },
  {
   "cell_type": "markdown",
   "id": "862b969b-d0a0-4cc0-aefc-f4b0d16a5cd2",
   "metadata": {
    "tags": []
   },
   "source": [
    "## **Load data**"
   ]
  },
  {
   "cell_type": "markdown",
   "id": "29e7a651-b20d-4bd4-8489-9af46c0ebbb9",
   "metadata": {
    "tags": []
   },
   "source": [
    "### Load our best model to get embeddings from image"
   ]
  },
  {
   "cell_type": "code",
   "execution_count": 5,
   "id": "b183ea1b-8ef6-4551-b1a0-fbd0c4bb2e3d",
   "metadata": {
    "tags": []
   },
   "outputs": [
    {
     "name": "stderr",
     "output_type": "stream",
     "text": [
      "/gpfslocalsup/pub/anaconda-py3/2023.03/envs/pytorch-gpu-2.0.1+py3.10.12/lib/python3.10/site-packages/torchvision-0.15.2a0+fa99a53-py3.10-linux-x86_64.egg/torchvision/models/_utils.py:208: UserWarning: The parameter 'pretrained' is deprecated since 0.13 and may be removed in the future, please use 'weights' instead.\n",
      "  warnings.warn(\n",
      "/gpfslocalsup/pub/anaconda-py3/2023.03/envs/pytorch-gpu-2.0.1+py3.10.12/lib/python3.10/site-packages/torchvision-0.15.2a0+fa99a53-py3.10-linux-x86_64.egg/torchvision/models/_utils.py:223: UserWarning: Arguments other than a weight enum or `None` for 'weights' are deprecated since 0.13 and may be removed in the future. The current behavior is equivalent to passing `weights=None`.\n",
      "  warnings.warn(msg)\n"
     ]
    }
   ],
   "source": [
    "model_weights = torch.load(\"/gpfswork/rech/ads/commun/kg_tests/model_best_0.512.pth\")\n",
    "model = models.resnet50(pretrained=False)\n",
    "model.fc = nn.Identity()\n",
    "model.load_state_dict(model_weights)\n",
    "model = model.to(DEVICE)"
   ]
  },
  {
   "cell_type": "markdown",
   "id": "a7c14cbd-feed-4f5c-a2a8-6ed650c1d618",
   "metadata": {},
   "source": [
    "### Load dataset"
   ]
  },
  {
   "cell_type": "code",
   "execution_count": 6,
   "id": "312a987d-8762-40ec-8feb-3035836a2591",
   "metadata": {
    "tags": []
   },
   "outputs": [],
   "source": [
    "# load dataset\n",
    "\n",
    "from lynx_id.data.dataset import LynxDataset\n",
    "from pathlib import Path\n",
    "from lynx_id.data.transformations_and_augmentations import transforms\n",
    "\n",
    "lynxDataset = LynxDataset(dataset_csv=Path(\"/gpfsscratch/rech/ads/commun/datasets/extracted/lynx_dataset_france.csv\"), \n",
    "                      loader=\"pil\",\n",
    "                      transform=transforms,  # Define 'preprocess' earlier in your script\n",
    "                      augmentation=None,\n",
    "                      probabilities=[1, 0, 0],\n",
    "                      mode='single',\n",
    "                      device=\"auto\")"
   ]
  },
  {
   "cell_type": "code",
   "execution_count": 7,
   "id": "10fea8f2-3674-4287-8ff7-44f8a3f87566",
   "metadata": {
    "tags": []
   },
   "outputs": [
    {
     "name": "stdout",
     "output_type": "stream",
     "text": [
      "3081\n"
     ]
    }
   ],
   "source": [
    "print(f\"{len(lynxDataset)}\")"
   ]
  },
  {
   "cell_type": "code",
   "execution_count": 8,
   "id": "f7a014a0-9095-46b1-907f-380c5fde7415",
   "metadata": {
    "tags": []
   },
   "outputs": [
    {
     "name": "stderr",
     "output_type": "stream",
     "text": [
      "/linkhome/rech/genini01/uxp55sd/.local/lib/python3.10/site-packages/torch/utils/data/dataloader.py:560: UserWarning: This DataLoader will create 4 worker processes in total. Our suggested max number of worker in current system is 2, which is smaller than what this DataLoader is going to create. Please be aware that excessive worker creation might get DataLoader running slow or even freeze, lower the worker number to avoid potential slowness/freeze if necessary.\n",
      "  warnings.warn(_create_warning_msg(\n"
     ]
    }
   ],
   "source": [
    "dataloader = DataLoader(\n",
    "    lynxDataset,\n",
    "    batch_size=32,\n",
    "    shuffle=False,\n",
    "    num_workers=4,\n",
    "    collate_fn=collate_single\n",
    ")"
   ]
  },
  {
   "cell_type": "code",
   "execution_count": 9,
   "id": "fc74aeb8-0727-4846-8657-82095df9122f",
   "metadata": {
    "tags": []
   },
   "outputs": [
    {
     "name": "stderr",
     "output_type": "stream",
     "text": [
      "100%|██████████| 97/97 [02:18<00:00,  1.43s/it]\n"
     ]
    }
   ],
   "source": [
    "# Compute all embeddings\n",
    "embeddings = None\n",
    "model.eval()\n",
    "for i, batch in enumerate(tqdm(dataloader, total=len(dataloader))):\n",
    "    batch_tensor = torch.stack(batch[0]['image']).to(DEVICE).float()\n",
    "\n",
    "    with torch.no_grad():\n",
    "        batch_embeddings = model(batch_tensor)\n",
    "\n",
    "        if embeddings is None:\n",
    "            embeddings = batch_embeddings\n",
    "        else:\n",
    "            embeddings = torch.cat((embeddings, batch_embeddings), dim=0)"
   ]
  },
  {
   "cell_type": "code",
   "execution_count": 10,
   "id": "8314ff68-0e4e-4d61-8553-43a94704771d",
   "metadata": {
    "tags": []
   },
   "outputs": [
    {
     "name": "stdout",
     "output_type": "stream",
     "text": [
      "Number of individuals: 3081 | Embedding shape: 2048\n"
     ]
    }
   ],
   "source": [
    "print(f\"Number of individuals: {embeddings.shape[0]} | Embedding shape: {embeddings.shape[1]}\")"
   ]
  },
  {
   "cell_type": "markdown",
   "id": "303d418d-f644-45f6-a50c-e160eb5c1a34",
   "metadata": {},
   "source": [
    "### Selection of individuals"
   ]
  },
  {
   "cell_type": "code",
   "execution_count": 128,
   "id": "3117d55b-1dc0-4b00-bc2c-9b09fbb0ffd8",
   "metadata": {
    "tags": []
   },
   "outputs": [],
   "source": [
    "# Select n images (index) from the dataset. The individual associated with the images must have at least `min_img_per_individual` images\n",
    "# (threshold set experimentally).\n",
    "# New individuals will then be defined\n",
    "n = 100\n",
    "min_img_per_individual = 1\n",
    "\n",
    "candidates_indices = set()\n",
    "data = pd.read_csv(\"/gpfsscratch/rech/ads/commun/datasets/extracted/lynx_dataset_france.csv\")\n",
    "lynx_id_counts = data['lynx_id'].value_counts()\n",
    "\n",
    "while len(candidates_indices) < n:\n",
    "    indice = random.randint(0, len(lynxDataset)-1)\n",
    "    if lynx_id_counts[lynxDataset[indice][1]['lynx_id']] >= min_img_per_individual:\n",
    "        candidates_indices.add(indice)\n",
    "candidates_indices = torch.tensor(list(candidates_indices))"
   ]
  },
  {
   "cell_type": "markdown",
   "id": "de8ce1a0-7069-4ac1-a2e2-1fc217d5dd1f",
   "metadata": {
    "tags": []
   },
   "source": [
    "#### Candidates true lynx_id"
   ]
  },
  {
   "cell_type": "code",
   "execution_count": 129,
   "id": "e298e356-8368-4860-b88b-ea4e54012db8",
   "metadata": {
    "tags": []
   },
   "outputs": [],
   "source": [
    "# True lynx_id\n",
    "candidates_lynx_id = data.loc[candidates_indices.tolist(), 'lynx_id'].tolist()"
   ]
  },
  {
   "cell_type": "code",
   "execution_count": 130,
   "id": "f2eb9102-ea49-4aa9-8180-76a228ce15b1",
   "metadata": {
    "tags": []
   },
   "outputs": [],
   "source": [
    "# Among our N candidates, we count the number of images per `lynx_id`.\n",
    "count_true_label = Counter(candidates_lynx_id)"
   ]
  },
  {
   "cell_type": "code",
   "execution_count": 131,
   "id": "befaaa85-b423-4129-b11d-4968e02ace79",
   "metadata": {
    "tags": []
   },
   "outputs": [
    {
     "name": "stdout",
     "output_type": "stream",
     "text": [
      "Among our 100 images, we have 63 different lynx_ids\n"
     ]
    }
   ],
   "source": [
    "print(f\"Among our {n} images, we have {len(count_true_label)} different lynx_ids\")"
   ]
  },
  {
   "cell_type": "markdown",
   "id": "53f77407-323d-4d93-a80e-da37768d79f8",
   "metadata": {},
   "source": [
    "#### New individuals"
   ]
  },
  {
   "cell_type": "code",
   "execution_count": 132,
   "id": "1877e8a2-75d8-4535-a14d-7aea82568a74",
   "metadata": {
    "tags": []
   },
   "outputs": [
    {
     "data": {
      "text/plain": [
       "['1265', 'F25-037', 'F01-062=1725=1897', '1376', '1376', '970']"
      ]
     },
     "execution_count": 132,
     "metadata": {},
     "output_type": "execute_result"
    }
   ],
   "source": [
    "# Select N individuals to remove from knowledge embeddings (10%)\n",
    "n_individuals_to_rm = int(0.1 *len(count_true_label))\n",
    "\n",
    "individuals_to_rm = random.choices(list(count_true_label.keys()), k=n_individuals_to_rm)\n",
    "individuals_to_rm"
   ]
  },
  {
   "cell_type": "code",
   "execution_count": 166,
   "id": "f8fcde22-7223-4e42-b17a-a871270b6ff9",
   "metadata": {
    "tags": []
   },
   "outputs": [
    {
     "name": "stdout",
     "output_type": "stream",
     "text": [
      "len(indices_individuals_to_rm)=66\n"
     ]
    }
   ],
   "source": [
    "# Get the indices associated with these individuals in the db of all images\n",
    "# We'll delete them completely from our knowledge base so that they really are new individuals.\n",
    "indices_individuals_to_rm = data.loc[data['lynx_id'].isin(individuals_to_rm)].index.tolist()\n",
    "print(f\"{len(indices_individuals_to_rm)=}\")"
   ]
  },
  {
   "cell_type": "code",
   "execution_count": 134,
   "id": "1604c527-87ac-4d59-bdc0-adda4b5d287d",
   "metadata": {
    "tags": []
   },
   "outputs": [
    {
     "name": "stderr",
     "output_type": "stream",
     "text": [
      "100%|██████████| 100/100 [00:00<00:00, 803506.51it/s]"
     ]
    },
    {
     "name": "stdout",
     "output_type": "stream",
     "text": [
      "count_new=5\n"
     ]
    },
    {
     "name": "stderr",
     "output_type": "stream",
     "text": [
      "\n"
     ]
    }
   ],
   "source": [
    "# Update of true `lynx_id` data \n",
    "count_new = 0\n",
    "for i, element in enumerate(tqdm(candidates_lynx_id)):\n",
    "    if element in individuals_to_rm:\n",
    "        candidates_lynx_id[i] = \"New\"\n",
    "        count_new += 1\n",
    "\n",
    "print(f\"{count_new=}\")"
   ]
  },
  {
   "cell_type": "code",
   "execution_count": 135,
   "id": "9a8af453-5192-4316-b1cc-b68acc24a61c",
   "metadata": {
    "tags": []
   },
   "outputs": [],
   "source": [
    "# Check that we have new individuals\n",
    "assert \"New\" in candidates_lynx_id"
   ]
  },
  {
   "cell_type": "markdown",
   "id": "e447b6ac-ec4e-43f7-9492-151767910dc8",
   "metadata": {},
   "source": [
    "#### Get knowledge and candidate embeddings"
   ]
  },
  {
   "cell_type": "code",
   "execution_count": 167,
   "id": "2cee3985-d152-43f6-8276-d6cf36ad9d0a",
   "metadata": {
    "tags": []
   },
   "outputs": [
    {
     "name": "stdout",
     "output_type": "stream",
     "text": [
      "Embedding candidates: torch.Size([100, 2048])\n",
      "Embedding knowledge images: torch.Size([2920, 2048])\n"
     ]
    }
   ],
   "source": [
    "# Get their associated embeddings\n",
    "embeddings_candidates = embeddings[candidates_indices].to(\"cpu\")\n",
    "print(f\"Embedding candidates: {embeddings_candidates.shape}\")\n",
    "\n",
    "mask_knowledge = torch.ones(embeddings.size(0), dtype=torch.bool)\n",
    "mask_knowledge[torch.cat((candidates_indices, torch.tensor(indices_individuals_to_rm)))] = False\n",
    "embeddings_knowledge = embeddings[mask_knowledge].to(\"cpu\")\n",
    "print(f\"Embedding knowledge images: {embeddings_knowledge.shape}\")"
   ]
  },
  {
   "cell_type": "code",
   "execution_count": 168,
   "id": "cd52219c-7683-4ff9-ae5a-cf1f536cc354",
   "metadata": {
    "tags": []
   },
   "outputs": [
    {
     "data": {
      "text/plain": [
       "2920"
      ]
     },
     "execution_count": 168,
     "metadata": {},
     "output_type": "execute_result"
    }
   ],
   "source": [
    "indices_knowledge = torch.nonzero(mask_knowledge).squeeze()\n",
    "len(indices_knowledge)"
   ]
  },
  {
   "cell_type": "code",
   "execution_count": 169,
   "id": "6b016782-63c1-49c6-8ef7-d4fe36e17d36",
   "metadata": {
    "tags": []
   },
   "outputs": [
    {
     "name": "stdout",
     "output_type": "stream",
     "text": [
      "2920\n"
     ]
    }
   ],
   "source": [
    "# Get all the `lynx_id` in our knowledge base\n",
    "knowledge_lynx_id = data.loc[indices_knowledge.tolist(), 'lynx_id'].to_list()\n",
    "print(f\"{len(knowledge_lynx_id)}\")"
   ]
  },
  {
   "cell_type": "code",
   "execution_count": 170,
   "id": "8456086a-8df6-4b0e-be68-f49503737def",
   "metadata": {
    "tags": []
   },
   "outputs": [
    {
     "name": "stdout",
     "output_type": "stream",
     "text": [
      "In the knowledge base, we have 264 lynx.\n"
     ]
    }
   ],
   "source": [
    "unique_knowledge_lynx_id = set(knowledge_lynx_id)\n",
    "print(f\"In the knowledge base, we have {len(unique_knowledge_lynx_id)} lynx.\")"
   ]
  },
  {
   "cell_type": "code",
   "execution_count": 140,
   "id": "8a29b99a-c6f6-44c0-94be-9b18ce0e3881",
   "metadata": {
    "tags": []
   },
   "outputs": [
    {
     "data": {
      "text/plain": [
       "[('F39-060', 234),\n",
       " ('F39-054', 73),\n",
       " ('163', 73),\n",
       " ('F39-095=1556', 68),\n",
       " ('F25-008', 60),\n",
       " ('F39-061', 56),\n",
       " ('F25-067=1376', 53),\n",
       " ('F01-053=997', 52),\n",
       " ('F25-022=B285', 51),\n",
       " ('F01-047=922', 49),\n",
       " ('F39-093=2217=2218', 48),\n",
       " ('F39-086=1474=1478', 47),\n",
       " ('F25-063=1239=1240=B683', 46),\n",
       " ('F39-038', 41),\n",
       " ('F39-036', 39),\n",
       " ('F01-011=933', 38),\n",
       " ('F39-098=J1-2019-F39-059', 38),\n",
       " ('F25-055=1019=1377=R298', 37),\n",
       " ('F01-007', 36),\n",
       " ('F39-063', 35)]"
      ]
     },
     "execution_count": 140,
     "metadata": {},
     "output_type": "execute_result"
    }
   ],
   "source": [
    "count_knowledge_lynx_id = Counter(knowledge_lynx_id)\n",
    "count_knowledge_lynx_id.most_common(20)"
   ]
  },
  {
   "cell_type": "markdown",
   "id": "92a821ea-be75-489e-984b-ce26ed7af19c",
   "metadata": {},
   "source": [
    "## **KNN**"
   ]
  },
  {
   "cell_type": "code",
   "execution_count": 141,
   "id": "ea817ba1-da73-4c11-9f0a-77b6be422148",
   "metadata": {
    "tags": []
   },
   "outputs": [],
   "source": [
    "# Nearest Neighbors\n",
    "n_neighbors = 5\n",
    "neighbors = NearestNeighbors(n_neighbors=n_neighbors, algorithm='brute', metric=\"minkowski\").fit(embeddings_knowledge)\n",
    "distances, indices = neighbors.kneighbors(embeddings_candidates)"
   ]
  },
  {
   "cell_type": "markdown",
   "id": "b57d8538-de43-4636-a4e4-ba0277a01e78",
   "metadata": {},
   "source": [
    "### Get predictions"
   ]
  },
  {
   "cell_type": "code",
   "execution_count": 142,
   "id": "a54f64b5-9868-4eec-ab51-a116b4337e90",
   "metadata": {
    "tags": []
   },
   "outputs": [],
   "source": [
    "# For each candidate, obtain the nearest `n_neighbors` `lynx_id`.\n",
    "candidates_nearest_neighbors = [\n",
    "    [knowledge_lynx_id[indice] for indice in nearest_indices]\n",
    "    for nearest_indices in indices\n",
    "]"
   ]
  },
  {
   "cell_type": "markdown",
   "id": "8930e7fd-f27c-47f4-a271-6772346f75ad",
   "metadata": {},
   "source": [
    "### n-knn"
   ]
  },
  {
   "cell_type": "code",
   "execution_count": 143,
   "id": "43c23292-93a4-4344-b6f6-33d615892f60",
   "metadata": {
    "tags": []
   },
   "outputs": [],
   "source": [
    "# n-knn\n",
    "candidates_predicted_n_knn = [Counter(candidate).most_common(1)[0][0] for candidate in candidates_nearest_neighbors]"
   ]
  },
  {
   "cell_type": "markdown",
   "id": "fb117b8b-f563-4e5e-9bef-183b8db5a3f8",
   "metadata": {},
   "source": [
    "### 1-knn"
   ]
  },
  {
   "cell_type": "code",
   "execution_count": 144,
   "id": "09847a20-4a2b-48a4-b4a6-846822619308",
   "metadata": {
    "tags": []
   },
   "outputs": [],
   "source": [
    "# 1-knn\n",
    "candidates_predicted_1_knn = [candidate[0] for candidate in candidates_nearest_neighbors]"
   ]
  },
  {
   "cell_type": "markdown",
   "id": "8362daca-dbad-442d-a856-ecbf989be24c",
   "metadata": {},
   "source": [
    "### Detecting new candidates\n",
    "\n",
    "In this notebook, we use both a **simple threshold** defined manually and a method **based on the Gaussian distribution of the clusters**."
   ]
  },
  {
   "cell_type": "code",
   "execution_count": 145,
   "id": "cc3c2338-7237-433a-a3dc-4abb5dbd7d72",
   "metadata": {
    "tags": []
   },
   "outputs": [
    {
     "name": "stderr",
     "output_type": "stream",
     "text": [
      "100%|██████████| 264/264 [00:00<00:00, 753.59it/s]\n"
     ]
    }
   ],
   "source": [
    "# unique_knowledge_lynx_id, knowledge_lynx_id, embeddings_knowledge\n",
    "cluster_variances = {}\n",
    "cluster_means = {}\n",
    "for lynx in tqdm(unique_knowledge_lynx_id):\n",
    "    # get all embeddings for this lynx\n",
    "    lynx_idx = [i for i in range(len(knowledge_lynx_id)) if knowledge_lynx_id[i] == lynx]\n",
    "    cluster_variances[lynx] = torch.var(embeddings_knowledge[lynx_idx], dim=0).tolist()\n",
    "    cluster_means[lynx] = torch.mean(embeddings_knowledge[lynx_idx], dim=0).tolist()"
   ]
  },
  {
   "cell_type": "code",
   "execution_count": 171,
   "id": "ac1e5bc5-f7e2-4554-a12c-0a329ac8e65e",
   "metadata": {
    "tags": []
   },
   "outputs": [],
   "source": [
    "def compute_confidence_intervals(confidence, means, variances):\n",
    "    intervals = {}\n",
    "    for (lynx, mean), variance in zip(tqdm(means.items(), desc=\"compute_confidence_intervals\"), variances.values()):  # N clusters (lynx) in our knowledge base\n",
    "        interval = norm.interval(confidence, loc=mean, scale=np.sqrt(variance))\n",
    "        interval_formatted = tuple((element[0], element[1]) for element in zip(interval[0], interval[1]))\n",
    "        intervals[lynx] = interval_formatted\n",
    "    \n",
    "    return intervals"
   ]
  },
  {
   "cell_type": "code",
   "execution_count": 172,
   "id": "d67d9edf-f328-47b2-a197-1cd37ee5c49b",
   "metadata": {
    "tags": []
   },
   "outputs": [],
   "source": [
    "def check_new_individual(candidates_dots, candidates_predicted, candidates_id, success_percentage_threshold=100, threshold=None, distances=None):\n",
    "    candidates_predicted_local = candidates_predicted.copy()\n",
    "    # Threshold\n",
    "    if threshold is not None and distances is not None:\n",
    "        candidates_predicted_local = [\n",
    "            \"New\" if distance > threshold else candidate \n",
    "            for candidate, distance in zip(candidates_predicted, distances)\n",
    "        ]\n",
    "    \n",
    "    # Gaussian\n",
    "    else:\n",
    "        for index, (candidate_dot, candidate_predicted) in enumerate(zip(candidates_dots, candidates_predicted)):\n",
    "\n",
    "            if candidate_predicted in confidence_intervals.keys():\n",
    "                confidence_intervals_for_candidate = confidence_intervals[candidate_predicted]\n",
    "\n",
    "                in_confidence_interval = all(\n",
    "                    interval[0] <= dot <= interval[1]\n",
    "                    for dot, interval in zip(candidate_dot, confidence_intervals_for_candidate)\n",
    "                )\n",
    "                num_successful_cases = sum(\n",
    "                    interval[0] <= dot <= interval[1]\n",
    "                    for dot, interval in zip(candidate_dot, confidence_intervals_for_candidate)\n",
    "                )\n",
    "                min_successful_cases = int((candidate_dot.shape[0] * success_percentage_threshold) / 100)\n",
    "                in_confidence_interval = num_successful_cases >= min_successful_cases\n",
    "\n",
    "            else:\n",
    "                in_confidence_interval=True\n",
    "\n",
    "            if in_confidence_interval.item() is False:\n",
    "                candidates_predicted_local[index] = \"New\"\n",
    "        \n",
    "    return candidates_predicted_local"
   ]
  },
  {
   "cell_type": "markdown",
   "id": "d9ae3e6f-81ad-45f1-91e0-101d9683b4fb",
   "metadata": {},
   "source": [
    "### Compute metrics\n",
    "\n",
    "#### Accuracy"
   ]
  },
  {
   "cell_type": "code",
   "execution_count": 149,
   "id": "f0cca00c-abb4-48ea-b976-b96f9a70cb80",
   "metadata": {
    "tags": []
   },
   "outputs": [],
   "source": [
    "# Compute some metrics\n",
    "def compute_accuracy(candidates_predicted, candidates_refs, verbose=False):\n",
    "    correct_predictions = 0\n",
    "\n",
    "    for i, (p, r) in enumerate(zip(candidates_predicted, candidates_refs)):\n",
    "        output = f\"Candidate {i} | Prediction: {p} | True label: {r} ({count_knowledge_lynx_id[r]})\"\n",
    "        if p == r:\n",
    "            correct_predictions += 1\n",
    "            output = \"\\x1b[6;30;42m\" + output + \"\\x1b[0m\"\n",
    "            \n",
    "        if verbose:\n",
    "            print(output)\n",
    "        \n",
    "    total_predictions = len(candidates_predicted)\n",
    "    accuracy = correct_predictions / total_predictions\n",
    "\n",
    "    return accuracy"
   ]
  },
  {
   "cell_type": "markdown",
   "id": "400ccfc4-acf3-410f-aa45-96c5ff626443",
   "metadata": {},
   "source": [
    "#### CMC@k, mAP@k\n",
    "We use the `open-metric-learning` module, which offers ready-made implementations of **CMC@k** and **mAP@k**.\n",
    "\n",
    "Before calculating the metrics, we need to **adapt `candidates_nearest_neighbors` to the detection of new individuals after our calculation with confidence intervals**. Candidate i, if detected as new, will have \"New\" as its nearest neighbour, then its neighbours calculated via KNN will be shifted by 1. The last one is therefore forgotten.  \n",
    "\n",
    "Example:  \n",
    "candidate i: `[\"A\", \"B\", \"C\", \"D\"]` detected as New -> `[\"New\", \"A\", \"B\", \"C\", \"D\"]`"
   ]
  },
  {
   "cell_type": "code",
   "execution_count": 150,
   "id": "e116cd34-add7-434f-8e71-9d606d2504a7",
   "metadata": {
    "tags": []
   },
   "outputs": [],
   "source": [
    "def update_candidates_nearest_neighbors_new(candidates_nearest_neighbors, candidates_predicted_new_individual):\n",
    "    return [\n",
    "            [\"New\"] + neighbors[0:-1] if candidate == \"New\" else neighbors\n",
    "            for candidate, neighbors in zip(candidates_predicted_new_individual, candidates_nearest_neighbors)\n",
    "    ]"
   ]
  },
  {
   "cell_type": "code",
   "execution_count": 151,
   "id": "9c39c722-7f7d-4737-863d-0cadf0b152df",
   "metadata": {
    "tags": []
   },
   "outputs": [],
   "source": [
    "def compute_tensor_matching_candidates(candidates_nearest_neighbors, candidates_lynx_id):\n",
    "    candidates_acc_k_list = [\n",
    "        [1 if candidate == candidate_id else 0 for candidate in candidates_row] for \n",
    "        candidates_row, candidate_id in zip(candidates_nearest_neighbors, candidates_lynx_id)\n",
    "    ]\n",
    "    return torch.tensor(candidates_acc_k_list, dtype=torch.bool)"
   ]
  },
  {
   "cell_type": "code",
   "execution_count": 152,
   "id": "a02af97d-b640-4c2e-9a49-f73692eee101",
   "metadata": {
    "tags": []
   },
   "outputs": [],
   "source": [
    "def compute_mean_per_top_k(metric_output):\n",
    "    metric_mean = torch.mean(torch.stack(metric_output), dim=1)\n",
    "    return {k: round(v.item(), 3) for k, v in zip(top_k, metric_mean)}"
   ]
  },
  {
   "cell_type": "code",
   "execution_count": 153,
   "id": "9a3429ee-ec02-48d3-bd48-7f8435b5f5db",
   "metadata": {
    "tags": []
   },
   "outputs": [],
   "source": [
    "def compute_cmc_map_metrics(candidates_nearest_neighbors, candidates_predicted, lynx_id, top_k):\n",
    "    # CMC@k + mAP@k\n",
    "    updated_candidates_nearest_neighbors = update_candidates_nearest_neighbors_new(candidates_nearest_neighbors, candidates_predicted)\n",
    "    candidates_acc_k_tensor = compute_tensor_matching_candidates(updated_candidates_nearest_neighbors, lynx_id)\n",
    "\n",
    "    # CMC@k\n",
    "    cmc_k = calc_cmc(candidates_acc_k_tensor, top_k)\n",
    "    cmc_k_mean = compute_mean_per_top_k(cmc_k)\n",
    "\n",
    "    # mAP@k\n",
    "    map_k = calc_map(candidates_acc_k_tensor, n_gt=None, top_k=top_k)\n",
    "    map_k_mean = compute_mean_per_top_k(map_k)\n",
    "    \n",
    "    return cmc_k_mean, map_k_mean"
   ]
  },
  {
   "cell_type": "code",
   "execution_count": 160,
   "id": "bf21584e-5a96-4041-b520-ad6a0363e577",
   "metadata": {
    "tags": []
   },
   "outputs": [],
   "source": [
    "top_k = (1, 2, 3, 4, 5)\n",
    "confidence_levels = [0.68, 0.95, 0.997]"
   ]
  },
  {
   "cell_type": "markdown",
   "id": "48542f47-d2f2-467d-afaa-9e0125cf3784",
   "metadata": {},
   "source": [
    "### Compute results"
   ]
  },
  {
   "cell_type": "code",
   "execution_count": 161,
   "id": "36e48732-bff7-4716-9be3-46b661a98bbb",
   "metadata": {
    "tags": []
   },
   "outputs": [
    {
     "name": "stdout",
     "output_type": "stream",
     "text": [
      "-------------------------------------------------- New individual based on threshold --------------------------------------------------\n",
      "Accuracy threshold: 0.51\n",
      "cmc_k_mean={1: 0.51, 2: 0.59, 3: 0.66, 4: 0.68, 5: 0.69}\n",
      "map_k_mean={1: 0.51, 2: 0.55, 3: 0.573, 4: 0.579, 5: 0.573}\n",
      "\n",
      " -------------------------------------------------- New individual based on gaussian --------------------------------------------------\n",
      "************************************************** 0.68 **************************************************\n"
     ]
    },
    {
     "name": "stderr",
     "output_type": "stream",
     "text": [
      "compute_confidence_intervals:   0%|          | 0/264 [00:00<?, ?it/s]/gpfslocalsup/pub/anaconda-py3/2023.03/envs/pytorch-gpu-2.0.1+py3.10.12/lib/python3.10/site-packages/scipy/stats/_distn_infrastructure.py:2241: RuntimeWarning: invalid value encountered in multiply\n",
      "  lower_bound = _a * scale + loc\n",
      "/gpfslocalsup/pub/anaconda-py3/2023.03/envs/pytorch-gpu-2.0.1+py3.10.12/lib/python3.10/site-packages/scipy/stats/_distn_infrastructure.py:2242: RuntimeWarning: invalid value encountered in multiply\n",
      "  upper_bound = _b * scale + loc\n",
      "compute_confidence_intervals: 100%|██████████| 264/264 [00:00<00:00, 613.66it/s]\n"
     ]
    },
    {
     "name": "stdout",
     "output_type": "stream",
     "text": [
      "Accuracy 1_knn: 0.29\n",
      "cmc_k_mean={1: 0.29, 2: 0.6, 3: 0.68, 4: 0.7, 5: 0.72}\n",
      "map_k_mean={1: 0.29, 2: 0.445, 3: 0.483, 4: 0.495, 5: 0.499}\n",
      "Accuracy 5_knn: 0.26\n",
      "cmc_k_mean={1: 0.28, 2: 0.59, 3: 0.68, 4: 0.7, 5: 0.72}\n",
      "map_k_mean={1: 0.28, 2: 0.435, 3: 0.477, 4: 0.488, 5: 0.493}\n",
      "************************************************** 0.95 **************************************************\n"
     ]
    },
    {
     "name": "stderr",
     "output_type": "stream",
     "text": [
      "compute_confidence_intervals: 100%|██████████| 264/264 [00:00<00:00, 575.49it/s]\n"
     ]
    },
    {
     "name": "stdout",
     "output_type": "stream",
     "text": [
      "Accuracy 1_knn: 0.51\n",
      "cmc_k_mean={1: 0.51, 2: 0.61, 3: 0.67, 4: 0.68, 5: 0.7}\n",
      "map_k_mean={1: 0.51, 2: 0.56, 3: 0.577, 4: 0.58, 5: 0.576}\n",
      "Accuracy 5_knn: 0.45\n",
      "cmc_k_mean={1: 0.52, 2: 0.63, 3: 0.67, 4: 0.69, 5: 0.71}\n",
      "map_k_mean={1: 0.52, 2: 0.575, 3: 0.586, 4: 0.591, 5: 0.587}\n",
      "************************************************** 0.997 **************************************************\n"
     ]
    },
    {
     "name": "stderr",
     "output_type": "stream",
     "text": [
      "compute_confidence_intervals: 100%|██████████| 264/264 [00:00<00:00, 574.78it/s]\n"
     ]
    },
    {
     "name": "stdout",
     "output_type": "stream",
     "text": [
      "Accuracy 1_knn: 0.53\n",
      "cmc_k_mean={1: 0.53, 2: 0.6, 3: 0.66, 4: 0.67, 5: 0.69}\n",
      "map_k_mean={1: 0.53, 2: 0.565, 3: 0.582, 4: 0.584, 5: 0.579}\n",
      "Accuracy 5_knn: 0.46\n",
      "cmc_k_mean={1: 0.54, 2: 0.62, 3: 0.66, 4: 0.68, 5: 0.7}\n",
      "map_k_mean={1: 0.54, 2: 0.58, 3: 0.59, 4: 0.595, 5: 0.59}\n"
     ]
    }
   ],
   "source": [
    "accuracy_list = []\n",
    "accuracy_threshold = 0\n",
    "\n",
    "cmc_values = {}\n",
    "map_values = {}\n",
    "\n",
    "### Threshold ###\n",
    "print(\"-\"*50, \"New individual based on threshold\", \"-\"*50)\n",
    "candidates_predicted_new_individual = check_new_individual(\n",
    "    candidates_dots=embeddings_candidates,\n",
    "    candidates_predicted=candidates_predicted_1_knn,\n",
    "    candidates_id=candidates_lynx_id,\n",
    "    threshold=0.5,\n",
    "    distances=distances[:, 0],\n",
    ")\n",
    "\n",
    "accuracy = compute_accuracy(\n",
    "    candidates_predicted=candidates_predicted_new_individual,\n",
    "    candidates_refs=candidates_lynx_id,\n",
    "    verbose=False\n",
    ")\n",
    "print(f\"Accuracy threshold: {accuracy}\")\n",
    "accuracy_threshold = accuracy\n",
    "\n",
    "# CMC@k + mAP@k\n",
    "cmc_k_mean, map_k_mean = compute_cmc_map_metrics(candidates_nearest_neighbors, candidates_predicted_new_individual, candidates_lynx_id, top_k)\n",
    "print(f\"{cmc_k_mean=}\")\n",
    "print(f\"{map_k_mean=}\")\n",
    "cmc_values['threshold'] = list(cmc_k_mean.values())\n",
    "map_values['threshold'] = list(map_k_mean.values())\n",
    "    \n",
    "\n",
    "### Gaussian ###\n",
    "print(\"\\n\", \"-\"*50, \"New individual based on gaussian\", \"-\"*50)\n",
    "for confidence in confidence_levels:\n",
    "    print(\"*\"*50, confidence, \"*\"*50)\n",
    "    confidence_intervals = compute_confidence_intervals(\n",
    "        confidence=confidence,\n",
    "        means=cluster_means,\n",
    "        variances=cluster_variances\n",
    "    )\n",
    "    results = []\n",
    "    for k, prediction in {\"1_knn\": candidates_predicted_1_knn, f\"{n_neighbors}_knn\": candidates_predicted_n_knn}.items():\n",
    "        candidates_predicted_new_individual = check_new_individual(\n",
    "            candidates_dots=embeddings_candidates,\n",
    "            candidates_predicted=prediction,\n",
    "            candidates_id=candidates_lynx_id,\n",
    "            success_percentage_threshold=80,\n",
    "        )\n",
    "        \n",
    "        accuracy = compute_accuracy(\n",
    "            candidates_predicted=candidates_predicted_new_individual,\n",
    "            candidates_refs=candidates_lynx_id,\n",
    "            verbose=False\n",
    "        )\n",
    "        print(f\"Accuracy {k}: {accuracy}\")\n",
    "        results.append(accuracy)\n",
    "    \n",
    "        # CMC@k + mAP@k\n",
    "        cmc_k_mean, map_k_mean = compute_cmc_map_metrics(candidates_nearest_neighbors, candidates_predicted_new_individual, candidates_lynx_id, top_k)\n",
    "        print(f\"{cmc_k_mean=}\")\n",
    "        print(f\"{map_k_mean=}\")\n",
    "        \n",
    "        if k == \"1_knn\":\n",
    "            cmc_values[confidence] = list(cmc_k_mean.values())\n",
    "            map_values[confidence] = list(map_k_mean.values())\n",
    "\n",
    "    \n",
    "    accuracy_list.append(results)"
   ]
  },
  {
   "cell_type": "markdown",
   "id": "55615f21-60a1-415a-9c6c-5ba225516da5",
   "metadata": {},
   "source": [
    "### Plot results"
   ]
  },
  {
   "cell_type": "code",
   "execution_count": 173,
   "id": "bef7132c-b18c-4d29-bc67-e7d270d5eccf",
   "metadata": {
    "tags": []
   },
   "outputs": [],
   "source": [
    "def plot_cmc_or_map(values, axes, ylabel, title):\n",
    "    fig, ax = plt.subplots(layout='constrained')\n",
    "    x = np.arange(len(axes))\n",
    "    width = 0.2\n",
    "    multiplier = 0\n",
    "\n",
    "    for attribute, measurement in values.items():\n",
    "        offset = width * multiplier\n",
    "        rects = ax.bar(x + offset, measurement, width, label=attribute)\n",
    "        ax.bar_label(rects, padding=4)\n",
    "        multiplier += 1\n",
    "\n",
    "    ax.set_ylabel(ylabel)\n",
    "    ax.set_xlabel('k')\n",
    "    ax.set_title(title)\n",
    "    ax.set_xticks(x + (width * 1.5), axes)\n",
    "    ax.legend(loc='upper left', ncols=4)\n",
    "    plt.show()"
   ]
  },
  {
   "cell_type": "markdown",
   "id": "a6d06394-9e3a-46ad-84e5-96c095887878",
   "metadata": {},
   "source": [
    "#### CMC@k"
   ]
  },
  {
   "cell_type": "code",
   "execution_count": 163,
   "id": "e9285b20-d160-4766-9dca-16a3febbed68",
   "metadata": {
    "tags": []
   },
   "outputs": [
    {
     "data": {
      "image/png": "[encoded data removed]",
      "text/plain": [
       "<Figure size 1500x500 with 1 Axes>"
      ]
     },
     "metadata": {},
     "output_type": "display_data"
    }
   ],
   "source": [
    "# CMC@k\n",
    "plot_cmc_or_map(cmc_values, top_k, 'Score', 'CMC@k')"
   ]
  },
  {
   "cell_type": "markdown",
   "id": "d93e50eb-51b4-442d-8c61-215411aaeee0",
   "metadata": {},
   "source": [
    "#### mAP@k"
   ]
  },
  {
   "cell_type": "code",
   "execution_count": 164,
   "id": "f334fd83-5601-4d3f-93fd-0959689e01c6",
   "metadata": {
    "tags": []
   },
   "outputs": [
    {
     "data": {
      "image/png": "[encoded data removed]",
      "text/plain": [
       "<Figure size 1500x500 with 1 Axes>"
      ]
     },
     "metadata": {},
     "output_type": "display_data"
    }
   ],
   "source": [
    "# mAP@k\n",
    "plot_cmc_or_map(map_values, top_k, 'Score', 'mAP@k')"
   ]
  },
  {
   "cell_type": "markdown",
   "id": "4acfb81c-24dd-43ba-b293-1be1fd512e5b",
   "metadata": {},
   "source": [
    "#### Accuracy"
   ]
  },
  {
   "cell_type": "code",
   "execution_count": 165,
   "id": "486656da-ed78-48e3-bba5-5525cc8defca",
   "metadata": {
    "tags": []
   },
   "outputs": [
    {
     "data": {
      "image/png": "[encoded data removed]",
      "text/plain": [
       "<Figure size 1500x500 with 1 Axes>"
      ]
     },
     "metadata": {},
     "output_type": "display_data"
    }
   ],
   "source": [
    "# Accuracy plot\n",
    "accuracy_list_t = list(zip(*accuracy_list))\n",
    "\n",
    "plt.rcParams[\"figure.figsize\"] = (15,5)\n",
    "fig, ax = plt.subplots()\n",
    "\n",
    "width = 0.35\n",
    "\n",
    "# Gaussian\n",
    "bar1 = ax.bar(range(len(accuracy_list)), accuracy_list_t[0], width=width, label='1-knn')\n",
    "bar2 = ax.bar([x + width for x in range(len(accuracy_list))], accuracy_list_t[1], width=width, label=f'{n_neighbors}-knn')\n",
    "\n",
    "# Classic threshold\n",
    "ax.axhline(y=accuracy_threshold, color='r', linestyle='--', label=f'Accuracy Threshold ({accuracy_threshold:.2f})')\n",
    "ax.legend()\n",
    "\n",
    "ax.set_xticks([x + width / 2 for x in range(len(accuracy_list))])\n",
    "ax.set_xticklabels(confidence_levels)\n",
    "ax.set_xlabel('Confidence level')\n",
    "ax.set_ylabel('Accuracy')\n",
    "ax.set_title('Accuracy as a function of sigma standard deviations')\n",
    "\n",
    "ax.legend()\n",
    "\n",
    "def add_text_labels(bars):\n",
    "    for bar in bars:\n",
    "        height = bar.get_height()\n",
    "        ax.text(bar.get_x() + bar.get_width() / 2, height, f'{height:.2f}', ha='center', va='bottom')\n",
    "\n",
    "add_text_labels(bar1)\n",
    "add_text_labels(bar2)\n",
    "\n",
    "plt.show()"
   ]
  },
  {
   "cell_type": "code",
   "execution_count": null,
   "id": "d292043a-af82-4c90-af8c-747c4b3594d8",
   "metadata": {},
   "outputs": [],
   "source": []
  }
 ],
 "metadata": {
  "kernelspec": {
   "display_name": "pytorch-gpu-2.0.1_py3.10.12",
   "language": "python",
   "name": "module-conda-env-pytorch-gpu-2.0.1_py3.10.12"
  },
  "language_info": {
   "codemirror_mode": {
    "name": "ipython",
    "version": 3
   },
   "file_extension": ".py",
   "mimetype": "text/x-python",
   "name": "python",
   "nbconvert_exporter": "python",
   "pygments_lexer": "ipython3",
   "version": "3.10.12"
  }
 },
 "nbformat": 4,
 "nbformat_minor": 5
}
