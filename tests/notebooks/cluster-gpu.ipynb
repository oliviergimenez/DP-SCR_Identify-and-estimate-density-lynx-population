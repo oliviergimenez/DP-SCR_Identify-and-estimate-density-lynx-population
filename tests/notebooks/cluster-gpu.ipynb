{
 "cells": [
  {
   "cell_type": "markdown",
   "id": "1bf42ffd-99c2-4ab1-b7b5-1cfb29b4d46d",
   "metadata": {},
   "source": [
    "# **Clustering lynx**"
   ]
  },
  {
   "cell_type": "code",
   "execution_count": 1,
   "id": "2791c1a5-f797-406e-899a-2b08a4e7ca95",
   "metadata": {
    "tags": []
   },
   "outputs": [],
   "source": [
    "# Allow reloading of libraries without restarting the kernel\n",
    "%load_ext autoreload\n",
    "%autoreload 2"
   ]
  },
  {
   "cell_type": "code",
   "execution_count": 2,
   "id": "c78db62c-59d1-4202-aefe-edc7e760218e",
   "metadata": {
    "tags": []
   },
   "outputs": [],
   "source": [
    "import random\n",
    "import matplotlib.pyplot as plt\n",
    "from collections import Counter\n",
    "from pathlib import Path\n",
    "from scipy.stats import norm\n",
    "from safetensors import safe_open\n",
    "\n",
    "import pandas as pd\n",
    "import torch\n",
    "import torch.nn as nn\n",
    "import numpy as np\n",
    "from oml.functional.metrics import calc_cmc, calc_map, calc_precision\n",
    "from sklearn.neighbors import NearestNeighbors\n",
    "from torch.utils.data import DataLoader\n",
    "from torchvision import models\n",
    "from tqdm import tqdm\n",
    "\n",
    "from lynx_id.data.dataset import LynxDataset\n",
    "from lynx_id.data.transformations_and_augmentations import transforms\n",
    "from lynx_id.data.collate import collate_single\n",
    "from lynx_id.model.embeddings import EmbeddingModel\n",
    "from lynx_id.model.clustering import ClusteringModel\n",
    "\n",
    "plt.rcParams['figure.figsize'] = [20, 5]"
   ]
  },
  {
   "cell_type": "code",
   "execution_count": 3,
   "id": "634a7e81-ecf9-4223-982c-10ee7dad0947",
   "metadata": {
    "tags": []
   },
   "outputs": [
    {
     "name": "stdout",
     "output_type": "stream",
     "text": [
      "DEVICE='cuda'\n"
     ]
    }
   ],
   "source": [
    "DEVICE = \"cuda\" if torch.cuda.is_available() else \"cpu\"\n",
    "print(f\"{DEVICE=}\")"
   ]
  },
  {
   "cell_type": "code",
   "execution_count": 4,
   "id": "a598f168-1e00-418f-a575-d55e2ef52fd1",
   "metadata": {
    "tags": []
   },
   "outputs": [],
   "source": [
    "random.seed(42)"
   ]
  },
  {
   "cell_type": "markdown",
   "id": "862b969b-d0a0-4cc0-aefc-f4b0d16a5cd2",
   "metadata": {
    "tags": []
   },
   "source": [
    "## **Load data**"
   ]
  },
  {
   "cell_type": "markdown",
   "id": "29e7a651-b20d-4bd4-8489-9af46c0ebbb9",
   "metadata": {
    "tags": []
   },
   "source": [
    "### Load our best model to get embeddings from image"
   ]
  },
  {
   "cell_type": "code",
   "execution_count": 5,
   "id": "de73491b-4f3f-42d0-acf9-a80a8816cab2",
   "metadata": {
    "tags": []
   },
   "outputs": [
    {
     "name": "stderr",
     "output_type": "stream",
     "text": [
      "/gpfslocalsup/pub/anaconda-py3/2023.09/envs/pytorch-gpu-2.1.1+py3.11.5/lib/python3.11/site-packages/torchvision-0.16.1+fdea156-py3.11-linux-x86_64.egg/torchvision/models/_utils.py:208: UserWarning: The parameter 'pretrained' is deprecated since 0.13 and may be removed in the future, please use 'weights' instead.\n",
      "  warnings.warn(\n",
      "/gpfslocalsup/pub/anaconda-py3/2023.09/envs/pytorch-gpu-2.1.1+py3.11.5/lib/python3.11/site-packages/torchvision-0.16.1+fdea156-py3.11-linux-x86_64.egg/torchvision/models/_utils.py:223: UserWarning: Arguments other than a weight enum or `None` for 'weights' are deprecated since 0.13 and may be removed in the future. The current behavior is equivalent to passing `weights=None`.\n",
      "  warnings.warn(msg)\n"
     ]
    }
   ],
   "source": [
    "embedding_model = EmbeddingModel(\n",
    "    model_path=\"/gpfswork/rech/ads/uxp55sd/downloaded_model/model_best_0.512.pth\",\n",
    "    device=DEVICE\n",
    ")"
   ]
  },
  {
   "cell_type": "markdown",
   "id": "a7c14cbd-feed-4f5c-a2a8-6ed650c1d618",
   "metadata": {},
   "source": [
    "### Load dataset"
   ]
  },
  {
   "cell_type": "code",
   "execution_count": 6,
   "id": "312a987d-8762-40ec-8feb-3035836a2591",
   "metadata": {
    "tags": []
   },
   "outputs": [],
   "source": [
    "# load dataset\n",
    "from lynx_id.data.dataset import LynxDataset\n",
    "from pathlib import Path\n",
    "from lynx_id.data.transformations_and_augmentations import transforms\n",
    "\n",
    "lynxDataset = LynxDataset(dataset_csv=Path(\"/gpfsscratch/rech/ads/commun/datasets/extracted/france/lynx_dataset_france.csv\"), \n",
    "                      loader=\"pil\",\n",
    "                      transform=transforms,  # Define 'preprocess' earlier in your script\n",
    "                      augmentation=None,\n",
    "                      probabilities=[1, 0, 0],\n",
    "                      mode='single',\n",
    "                      device=\"auto\")"
   ]
  },
  {
   "cell_type": "code",
   "execution_count": 7,
   "id": "10fea8f2-3674-4287-8ff7-44f8a3f87566",
   "metadata": {
    "tags": []
   },
   "outputs": [
    {
     "name": "stdout",
     "output_type": "stream",
     "text": [
      "3081\n"
     ]
    }
   ],
   "source": [
    "print(f\"{len(lynxDataset)}\")"
   ]
  },
  {
   "cell_type": "code",
   "execution_count": 8,
   "id": "7698c6d5-a9a5-4ed6-8210-eaeea1c58c05",
   "metadata": {
    "tags": []
   },
   "outputs": [],
   "source": [
    "train_lynxDataset, valid_lynxDataset, eval_lynxDataset = lynxDataset.split()"
   ]
  },
  {
   "cell_type": "code",
   "execution_count": 9,
   "id": "d4c9d341-3868-4c3b-9c35-1ceae0eed542",
   "metadata": {
    "tags": []
   },
   "outputs": [
    {
     "name": "stdout",
     "output_type": "stream",
     "text": [
      "len(train_lynxDataset)=2342 images\n",
      "len(valid_lynxDataset)=280 images\n",
      "len(eval_lynxDataset)=459 images\n"
     ]
    }
   ],
   "source": [
    "print(f\"{len(train_lynxDataset)=} images\")\n",
    "print(f\"{len(valid_lynxDataset)=} images\")\n",
    "print(f\"{len(eval_lynxDataset)=} images\")"
   ]
  },
  {
   "cell_type": "code",
   "execution_count": 10,
   "id": "82bb218c-e810-4f9f-a5b6-ae3ee684a686",
   "metadata": {
    "tags": []
   },
   "outputs": [
    {
     "name": "stdout",
     "output_type": "stream",
     "text": [
      "TRAIN | Number of individuals: 255\n",
      "EVAL  | Number of individuals: 267\n"
     ]
    }
   ],
   "source": [
    "train_lynx_id_counts = train_lynxDataset.dataframe['lynx_id'].value_counts()\n",
    "eval_lynx_id_counts = eval_lynxDataset.dataframe['lynx_id'].value_counts()\n",
    "\n",
    "\n",
    "print(f\"TRAIN | Number of individuals: {len(train_lynx_id_counts)}\")\n",
    "print(f\"EVAL  | Number of individuals: {len(eval_lynx_id_counts)}\")"
   ]
  },
  {
   "cell_type": "code",
   "execution_count": 11,
   "id": "07974a78-a41c-4403-ac60-038f56b83bd1",
   "metadata": {
    "tags": []
   },
   "outputs": [
    {
     "name": "stdout",
     "output_type": "stream",
     "text": [
      "The train and eval set share 253 individuals in common.\n",
      "Compared to the training set, the eval set has 14 new individuals.\n"
     ]
    }
   ],
   "source": [
    "set_individuals_train = set(train_lynx_id_counts.index)\n",
    "set_individuals_eval = set(eval_lynx_id_counts.index)\n",
    "\n",
    "print(f\"The train and eval set share {len(set_individuals_train.intersection(set_individuals_eval))} individuals in common.\")\n",
    "print(f\"Compared to the training set, the eval set has {len(set_individuals_eval - set_individuals_train)} new individuals.\")"
   ]
  },
  {
   "cell_type": "code",
   "execution_count": 12,
   "id": "12fa77b0-2679-40b3-a3fb-d180943057b6",
   "metadata": {
    "tags": []
   },
   "outputs": [],
   "source": [
    "new_lynx_id = set_individuals_eval - set_individuals_train"
   ]
  },
  {
   "cell_type": "code",
   "execution_count": 13,
   "id": "f7a014a0-9095-46b1-907f-380c5fde7415",
   "metadata": {
    "tags": []
   },
   "outputs": [],
   "source": [
    "train_dataloader = DataLoader(\n",
    "    train_lynxDataset,\n",
    "    batch_size=32,\n",
    "    shuffle=False,\n",
    "    num_workers=4,\n",
    "    collate_fn=collate_single\n",
    ")\n",
    "\n",
    "eval_dataloader = DataLoader(\n",
    "    eval_lynxDataset,\n",
    "    batch_size=32,\n",
    "    shuffle=False,\n",
    "    num_workers=4,\n",
    "    collate_fn=collate_single\n",
    ")"
   ]
  },
  {
   "cell_type": "code",
   "execution_count": 14,
   "id": "fc74aeb8-0727-4846-8657-82095df9122f",
   "metadata": {
    "tags": []
   },
   "outputs": [
    {
     "name": "stderr",
     "output_type": "stream",
     "text": [
      "100%|██████████| 74/74 [00:41<00:00,  1.78it/s]\n",
      "100%|██████████| 15/15 [00:09<00:00,  1.65it/s]\n"
     ]
    }
   ],
   "source": [
    "# Compute all embeddings\n",
    "train_embeddings = embedding_model.compute_embeddings(\n",
    "    train_dataloader, \n",
    "    # save_embeddings_path=\"/gpfswork/rech/ads/uxp55sd/DP-SCR_Identify-and-estimate-density-lynx-population/test_scripts/embeddings/embeddings.safetensors\",\n",
    "    # save_lynx_id_path=\"/gpfswork/rech/ads/uxp55sd/DP-SCR_Identify-and-estimate-density-lynx-population/test_scripts/embeddings/embeddings_lynx_ids.csv\"\n",
    ")\n",
    "\n",
    "eval_embeddings = embedding_model.compute_embeddings(\n",
    "    eval_dataloader, \n",
    "    # save_embeddings_path=\"\",\n",
    "    # save_lynx_id_path=\"\"\n",
    ")"
   ]
  },
  {
   "cell_type": "code",
   "execution_count": 15,
   "id": "8314ff68-0e4e-4d61-8553-43a94704771d",
   "metadata": {
    "tags": []
   },
   "outputs": [
    {
     "name": "stdout",
     "output_type": "stream",
     "text": [
      "TRAIN | Number of images: 2342 | Embedding shape: 2048\n",
      "EVAL  | Number of images: 459 | Embedding shape: 2048\n"
     ]
    }
   ],
   "source": [
    "train_embeddings = train_embeddings.to(\"cpu\")\n",
    "eval_embeddings = eval_embeddings.to(\"cpu\")\n",
    "\n",
    "print(f\"TRAIN | Number of images: {train_embeddings.shape[0]} | Embedding shape: {train_embeddings.shape[1]}\")\n",
    "print(f\"EVAL  | Number of images: {eval_embeddings.shape[0]} | Embedding shape: {eval_embeddings.shape[1]}\")"
   ]
  },
  {
   "cell_type": "code",
   "execution_count": 16,
   "id": "e298e356-8368-4860-b88b-ea4e54012db8",
   "metadata": {
    "tags": []
   },
   "outputs": [
    {
     "name": "stderr",
     "output_type": "stream",
     "text": [
      "100%|██████████| 459/459 [00:00<00:00, 2063435.73it/s]"
     ]
    },
    {
     "name": "stdout",
     "output_type": "stream",
     "text": [
      "count_new=14\n"
     ]
    },
    {
     "name": "stderr",
     "output_type": "stream",
     "text": [
      "\n"
     ]
    }
   ],
   "source": [
    "# True lynx_id\n",
    "eval_lynx_id = eval_lynxDataset.dataframe['lynx_id'].tolist()\n",
    "train_lynx_id = train_lynxDataset.dataframe['lynx_id'].to_list()\n",
    "\n",
    "# Update of true `lynx_id` data \n",
    "count_new = 0\n",
    "for i, element in enumerate(tqdm(eval_lynx_id)):\n",
    "    if element in new_lynx_id:\n",
    "        eval_lynx_id[i] = \"New\"\n",
    "        count_new += 1\n",
    "\n",
    "print(f\"{count_new=}\")"
   ]
  },
  {
   "cell_type": "code",
   "execution_count": 17,
   "id": "9a8af453-5192-4316-b1cc-b68acc24a61c",
   "metadata": {
    "tags": []
   },
   "outputs": [],
   "source": [
    "# Check that we have new individuals\n",
    "assert \"New\" in eval_lynx_id"
   ]
  },
  {
   "cell_type": "markdown",
   "id": "92a821ea-be75-489e-984b-ce26ed7af19c",
   "metadata": {},
   "source": [
    "## **KNN**"
   ]
  },
  {
   "cell_type": "code",
   "execution_count": 18,
   "id": "dbd4ba01-6fd2-4dd4-96db-a4c727f8f074",
   "metadata": {
    "tags": []
   },
   "outputs": [],
   "source": [
    "clustering_model = ClusteringModel(\n",
    "    embeddings_knowledge=train_embeddings,\n",
    "    lynx_ids_knowledge=train_lynx_id,\n",
    "    n_neighbors=5,\n",
    "    algorithm=\"brute\",\n",
    "    metric=\"minkowski\"\n",
    ")"
   ]
  },
  {
   "cell_type": "code",
   "execution_count": 33,
   "id": "3edf6165-a458-4fb2-873a-1ad45420168d",
   "metadata": {
    "tags": []
   },
   "outputs": [
    {
     "data": {
      "text/plain": [
       "(459, 5)"
      ]
     },
     "execution_count": 33,
     "metadata": {},
     "output_type": "execute_result"
    }
   ],
   "source": [
    "# Nearest Neighbors\n",
    "clustering_model.clustering(eval_embeddings)\n",
    "indices = clustering_model.indices\n",
    "distances = clustering_model.distances\n",
    "indices.shape"
   ]
  },
  {
   "cell_type": "markdown",
   "id": "8362daca-dbad-442d-a856-ecbf989be24c",
   "metadata": {},
   "source": [
    "### Detecting new candidates\n",
    "\n",
    "In this notebook, we use both a **simple threshold** defined manually and a method **based on the Gaussian distribution of the clusters**."
   ]
  },
  {
   "cell_type": "markdown",
   "id": "d9ae3e6f-81ad-45f1-91e0-101d9683b4fb",
   "metadata": {},
   "source": [
    "### Compute metrics\n",
    "\n",
    "#### Accuracy"
   ]
  },
  {
   "cell_type": "code",
   "execution_count": 34,
   "id": "f0cca00c-abb4-48ea-b976-b96f9a70cb80",
   "metadata": {
    "tags": []
   },
   "outputs": [],
   "source": [
    "# Compute some metrics\n",
    "def compute_accuracy(candidates_predicted, candidates_refs, verbose=False):\n",
    "    correct_predictions = 0\n",
    "\n",
    "    for i, (p, r) in enumerate(zip(candidates_predicted, candidates_refs)):\n",
    "        output = f\"Candidate {i} | Prediction: {p}\"\n",
    "        if p == r:\n",
    "            correct_predictions += 1\n",
    "            output = \"\\x1b[6;30;42m\" + output + \"\\x1b[0m\"\n",
    "            \n",
    "        if verbose:\n",
    "            print(output)\n",
    "        \n",
    "    total_predictions = len(candidates_predicted)\n",
    "    accuracy = correct_predictions / total_predictions\n",
    "\n",
    "    return accuracy"
   ]
  },
  {
   "cell_type": "markdown",
   "id": "400ccfc4-acf3-410f-aa45-96c5ff626443",
   "metadata": {},
   "source": [
    "#### CMC@k, mAP@k\n",
    "We use the `open-metric-learning` module, which offers ready-made implementations of **CMC@k** and **mAP@k**.\n",
    "\n",
    "Before calculating the metrics, we need to **adapt `candidates_nearest_neighbors` to the detection of new individuals after our calculation with confidence intervals**. Candidate i, if detected as new, will have \"New\" as its nearest neighbour, then its neighbours calculated via KNN will be shifted by 1. The last one is therefore forgotten.  \n",
    "\n",
    "Example:  \n",
    "candidate i: `[\"A\", \"B\", \"C\", \"D\"]` detected as New -> `[\"New\", \"A\", \"B\", \"C\", \"D\"]`"
   ]
  },
  {
   "cell_type": "code",
   "execution_count": 35,
   "id": "9c39c722-7f7d-4737-863d-0cadf0b152df",
   "metadata": {
    "tags": []
   },
   "outputs": [],
   "source": [
    "def compute_tensor_matching_candidates(candidates_nearest_neighbors, candidates_lynx_id):\n",
    "    candidates_acc_k_list = [\n",
    "        [1 if candidate == candidate_id else 0 for candidate in candidates_row] for \n",
    "        candidates_row, candidate_id in zip(candidates_nearest_neighbors, candidates_lynx_id)\n",
    "    ]\n",
    "    return torch.tensor(candidates_acc_k_list, dtype=torch.bool)"
   ]
  },
  {
   "cell_type": "code",
   "execution_count": 36,
   "id": "a02af97d-b640-4c2e-9a49-f73692eee101",
   "metadata": {
    "tags": []
   },
   "outputs": [],
   "source": [
    "def compute_mean_per_top_k(metric_output):\n",
    "    metric_mean = torch.mean(torch.stack(metric_output), dim=1)\n",
    "    return {k: round(v.item(), 3) for k, v in zip(top_k, metric_mean)}"
   ]
  },
  {
   "cell_type": "code",
   "execution_count": 37,
   "id": "9a3429ee-ec02-48d3-bd48-7f8435b5f5db",
   "metadata": {
    "tags": []
   },
   "outputs": [],
   "source": [
    "def compute_cmc_map_metrics(candidates_nearest_neighbors, lynx_id, top_k):\n",
    "    # CMC@k + mAP@k\n",
    "    candidates_acc_k_tensor = compute_tensor_matching_candidates(candidates_nearest_neighbors, lynx_id)\n",
    "\n",
    "    # CMC@k\n",
    "    cmc_k = calc_cmc(candidates_acc_k_tensor, top_k)\n",
    "    cmc_k_mean = compute_mean_per_top_k(cmc_k)\n",
    "\n",
    "    # mAP@k\n",
    "    map_k = calc_map(candidates_acc_k_tensor, n_gt=None, top_k=top_k)\n",
    "    map_k_mean = compute_mean_per_top_k(map_k)\n",
    "    \n",
    "    return cmc_k_mean, map_k_mean"
   ]
  },
  {
   "cell_type": "code",
   "execution_count": 38,
   "id": "bf21584e-5a96-4041-b520-ad6a0363e577",
   "metadata": {
    "tags": []
   },
   "outputs": [],
   "source": [
    "top_k = (1, 2, 3, 4, 5)\n",
    "confidence_levels = [0.68, 0.95, 0.997]"
   ]
  },
  {
   "cell_type": "markdown",
   "id": "48542f47-d2f2-467d-afaa-9e0125cf3784",
   "metadata": {},
   "source": [
    "### Compute results"
   ]
  },
  {
   "cell_type": "code",
   "execution_count": 47,
   "id": "36e48732-bff7-4716-9be3-46b661a98bbb",
   "metadata": {
    "tags": []
   },
   "outputs": [
    {
     "name": "stdout",
     "output_type": "stream",
     "text": [
      "-------------------------------------------------- New individual based on threshold --------------------------------------------------\n",
      "Accuracy threshold: 0.42483660130718953\n",
      "cmc_k_mean={1: 0.425, 2: 0.582, 3: 0.63, 4: 0.647, 5: 0.662}\n",
      "map_k_mean={1: 0.425, 2: 0.503, 3: 0.522, 4: 0.524, 5: 0.523}\n",
      "\n",
      " -------------------------------------------------- New individual based on gaussian --------------------------------------------------\n",
      "************************************************** 0.68 **************************************************\n"
     ]
    },
    {
     "name": "stderr",
     "output_type": "stream",
     "text": [
      "100%|██████████| 255/255 [00:00<00:00, 875.95it/s]\n",
      "compute_confidence_intervals:   0%|          | 0/255 [00:00<?, ?it/s]/gpfslocalsup/pub/anaconda-py3/2023.09/envs/pytorch-gpu-2.1.1+py3.11.5/lib/python3.11/site-packages/scipy/stats/_distn_infrastructure.py:2241: RuntimeWarning: invalid value encountered in multiply\n",
      "  lower_bound = _a * scale + loc\n",
      "/gpfslocalsup/pub/anaconda-py3/2023.09/envs/pytorch-gpu-2.1.1+py3.11.5/lib/python3.11/site-packages/scipy/stats/_distn_infrastructure.py:2242: RuntimeWarning: invalid value encountered in multiply\n",
      "  upper_bound = _b * scale + loc\n",
      "compute_confidence_intervals: 100%|██████████| 255/255 [00:00<00:00, 709.67it/s]\n"
     ]
    },
    {
     "name": "stdout",
     "output_type": "stream",
     "text": [
      "Accuracy 1_knn: 0.2113289760348584\n",
      "cmc_k_mean={1: 0.211, 2: 0.562, 3: 0.627, 4: 0.651, 5: 0.664}\n",
      "map_k_mean={1: 0.211, 2: 0.387, 3: 0.421, 4: 0.433, 5: 0.435}\n"
     ]
    },
    {
     "name": "stderr",
     "output_type": "stream",
     "text": [
      "100%|██████████| 255/255 [00:00<00:00, 914.98it/s]\n",
      "compute_confidence_intervals:   0%|          | 0/255 [00:00<?, ?it/s]/gpfslocalsup/pub/anaconda-py3/2023.09/envs/pytorch-gpu-2.1.1+py3.11.5/lib/python3.11/site-packages/scipy/stats/_distn_infrastructure.py:2241: RuntimeWarning: invalid value encountered in multiply\n",
      "  lower_bound = _a * scale + loc\n",
      "/gpfslocalsup/pub/anaconda-py3/2023.09/envs/pytorch-gpu-2.1.1+py3.11.5/lib/python3.11/site-packages/scipy/stats/_distn_infrastructure.py:2242: RuntimeWarning: invalid value encountered in multiply\n",
      "  upper_bound = _b * scale + loc\n",
      "compute_confidence_intervals: 100%|██████████| 255/255 [00:00<00:00, 710.68it/s]\n"
     ]
    },
    {
     "name": "stdout",
     "output_type": "stream",
     "text": [
      "Accuracy 5_knn: 0.21568627450980393\n",
      "cmc_k_mean={1: 0.24, 2: 0.558, 3: 0.623, 4: 0.649, 5: 0.662}\n",
      "map_k_mean={1: 0.24, 2: 0.399, 3: 0.431, 4: 0.442, 5: 0.443}\n",
      "************************************************** 0.95 **************************************************\n"
     ]
    },
    {
     "name": "stderr",
     "output_type": "stream",
     "text": [
      "100%|██████████| 255/255 [00:00<00:00, 896.46it/s]\n",
      "compute_confidence_intervals:   0%|          | 0/255 [00:00<?, ?it/s]/gpfslocalsup/pub/anaconda-py3/2023.09/envs/pytorch-gpu-2.1.1+py3.11.5/lib/python3.11/site-packages/scipy/stats/_distn_infrastructure.py:2241: RuntimeWarning: invalid value encountered in multiply\n",
      "  lower_bound = _a * scale + loc\n",
      "/gpfslocalsup/pub/anaconda-py3/2023.09/envs/pytorch-gpu-2.1.1+py3.11.5/lib/python3.11/site-packages/scipy/stats/_distn_infrastructure.py:2242: RuntimeWarning: invalid value encountered in multiply\n",
      "  upper_bound = _b * scale + loc\n",
      "compute_confidence_intervals: 100%|██████████| 255/255 [00:00<00:00, 627.66it/s]\n"
     ]
    },
    {
     "name": "stdout",
     "output_type": "stream",
     "text": [
      "Accuracy 1_knn: 0.23529411764705882\n",
      "cmc_k_mean={1: 0.235, 2: 0.558, 3: 0.623, 4: 0.649, 5: 0.662}\n",
      "map_k_mean={1: 0.235, 2: 0.397, 3: 0.428, 4: 0.44, 5: 0.441}\n"
     ]
    },
    {
     "name": "stderr",
     "output_type": "stream",
     "text": [
      "100%|██████████| 255/255 [00:00<00:00, 915.29it/s]\n",
      "compute_confidence_intervals:   0%|          | 0/255 [00:00<?, ?it/s]/gpfslocalsup/pub/anaconda-py3/2023.09/envs/pytorch-gpu-2.1.1+py3.11.5/lib/python3.11/site-packages/scipy/stats/_distn_infrastructure.py:2241: RuntimeWarning: invalid value encountered in multiply\n",
      "  lower_bound = _a * scale + loc\n",
      "/gpfslocalsup/pub/anaconda-py3/2023.09/envs/pytorch-gpu-2.1.1+py3.11.5/lib/python3.11/site-packages/scipy/stats/_distn_infrastructure.py:2242: RuntimeWarning: invalid value encountered in multiply\n",
      "  upper_bound = _b * scale + loc\n",
      "compute_confidence_intervals: 100%|██████████| 255/255 [00:00<00:00, 648.69it/s]\n"
     ]
    },
    {
     "name": "stdout",
     "output_type": "stream",
     "text": [
      "Accuracy 5_knn: 0.37037037037037035\n",
      "cmc_k_mean={1: 0.41, 2: 0.586, 3: 0.623, 4: 0.636, 5: 0.654}\n",
      "map_k_mean={1: 0.41, 2: 0.498, 3: 0.511, 4: 0.511, 5: 0.508}\n",
      "************************************************** 0.997 **************************************************\n"
     ]
    },
    {
     "name": "stderr",
     "output_type": "stream",
     "text": [
      "100%|██████████| 255/255 [00:00<00:00, 476.69it/s]\n",
      "compute_confidence_intervals:   0%|          | 0/255 [00:00<?, ?it/s]/gpfslocalsup/pub/anaconda-py3/2023.09/envs/pytorch-gpu-2.1.1+py3.11.5/lib/python3.11/site-packages/scipy/stats/_distn_infrastructure.py:2241: RuntimeWarning: invalid value encountered in multiply\n",
      "  lower_bound = _a * scale + loc\n",
      "/gpfslocalsup/pub/anaconda-py3/2023.09/envs/pytorch-gpu-2.1.1+py3.11.5/lib/python3.11/site-packages/scipy/stats/_distn_infrastructure.py:2242: RuntimeWarning: invalid value encountered in multiply\n",
      "  upper_bound = _b * scale + loc\n",
      "compute_confidence_intervals: 100%|██████████| 255/255 [00:00<00:00, 629.70it/s]\n"
     ]
    },
    {
     "name": "stdout",
     "output_type": "stream",
     "text": [
      "Accuracy 1_knn: 0.4008714596949891\n",
      "cmc_k_mean={1: 0.401, 2: 0.586, 3: 0.625, 4: 0.638, 5: 0.656}\n",
      "map_k_mean={1: 0.401, 2: 0.493, 3: 0.507, 4: 0.507, 5: 0.505}\n"
     ]
    },
    {
     "name": "stderr",
     "output_type": "stream",
     "text": [
      "100%|██████████| 255/255 [00:00<00:00, 842.50it/s]\n",
      "compute_confidence_intervals:   0%|          | 0/255 [00:00<?, ?it/s]/gpfslocalsup/pub/anaconda-py3/2023.09/envs/pytorch-gpu-2.1.1+py3.11.5/lib/python3.11/site-packages/scipy/stats/_distn_infrastructure.py:2241: RuntimeWarning: invalid value encountered in multiply\n",
      "  lower_bound = _a * scale + loc\n",
      "/gpfslocalsup/pub/anaconda-py3/2023.09/envs/pytorch-gpu-2.1.1+py3.11.5/lib/python3.11/site-packages/scipy/stats/_distn_infrastructure.py:2242: RuntimeWarning: invalid value encountered in multiply\n",
      "  upper_bound = _b * scale + loc\n",
      "compute_confidence_intervals: 100%|██████████| 255/255 [00:00<00:00, 599.98it/s]\n"
     ]
    },
    {
     "name": "stdout",
     "output_type": "stream",
     "text": [
      "Accuracy 5_knn: 0.3877995642701525\n",
      "cmc_k_mean={1: 0.434, 2: 0.586, 3: 0.623, 4: 0.636, 5: 0.656}\n",
      "map_k_mean={1: 0.434, 2: 0.51, 3: 0.521, 4: 0.519, 5: 0.517}\n"
     ]
    }
   ],
   "source": [
    "accuracy_list = []\n",
    "accuracy_threshold = 0\n",
    "n_neighbors=5\n",
    "\n",
    "cmc_values = {}\n",
    "map_values = {}\n",
    "\n",
    "### Threshold ###\n",
    "print(\"-\"*50, \"New individual based on threshold\", \"-\"*50)\n",
    "candidates_predicted_new_individual = clustering_model.check_new_individual(\n",
    "    embeddings=eval_embeddings,\n",
    "    candidates_predicted=clustering_model.one_knn(),\n",
    "    threshold=0.5,\n",
    ")\n",
    "\n",
    "accuracy = compute_accuracy(\n",
    "    candidates_predicted=candidates_predicted_new_individual,\n",
    "    candidates_refs=eval_lynx_id,\n",
    "    verbose=False\n",
    ")\n",
    "print(f\"Accuracy threshold: {accuracy}\")\n",
    "accuracy_threshold = accuracy\n",
    "\n",
    "clustering_model.update_candidates_nearest_neighbors_new(candidates_predicted_new_individual=candidates_predicted_new_individual)\n",
    "\n",
    "# CMC@k + mAP@k\n",
    "cmc_k_mean, map_k_mean = compute_cmc_map_metrics(clustering_model.candidates_nearest_neighbors, eval_lynx_id, top_k)\n",
    "print(f\"{cmc_k_mean=}\")\n",
    "print(f\"{map_k_mean=}\")\n",
    "cmc_values['threshold'] = list(cmc_k_mean.values())\n",
    "map_values['threshold'] = list(map_k_mean.values())\n",
    "    \n",
    "\n",
    "### Gaussian ###\n",
    "print(\"\\n\", \"-\"*50, \"New individual based on gaussian\", \"-\"*50)\n",
    "for confidence in confidence_levels:\n",
    "    print(\"*\"*50, confidence, \"*\"*50)\n",
    "    results = []\n",
    "    for k, prediction in {\"1_knn\": clustering_model.one_knn(), f\"{n_neighbors}_knn\": clustering_model.n_knn()}.items():\n",
    "        candidates_predicted_new_individual = clustering_model.check_new_individual(\n",
    "            embeddings=eval_embeddings,\n",
    "            candidates_predicted=prediction,\n",
    "            success_percentage_threshold=80,\n",
    "            confidence=confidence\n",
    "        )\n",
    "        \n",
    "        clustering_model.clustering(eval_embeddings)\n",
    "        clustering_model.update_candidates_nearest_neighbors_new(candidates_predicted_new_individual=candidates_predicted_new_individual)\n",
    "        \n",
    "        accuracy = compute_accuracy(\n",
    "            candidates_predicted=candidates_predicted_new_individual,\n",
    "            candidates_refs=eval_lynx_id,\n",
    "            verbose=False\n",
    "        )\n",
    "        print(f\"Accuracy {k}: {accuracy}\")\n",
    "        results.append(accuracy)\n",
    "    \n",
    "        # CMC@k + mAP@k\n",
    "        cmc_k_mean, map_k_mean = compute_cmc_map_metrics(clustering_model.candidates_nearest_neighbors, eval_lynx_id, top_k)\n",
    "        print(f\"{cmc_k_mean=}\")\n",
    "        print(f\"{map_k_mean=}\")\n",
    "        \n",
    "        if k == \"1_knn\":\n",
    "            cmc_values[confidence] = list(cmc_k_mean.values())\n",
    "            map_values[confidence] = list(map_k_mean.values())\n",
    "\n",
    "    \n",
    "    accuracy_list.append(results)"
   ]
  },
  {
   "cell_type": "markdown",
   "id": "55615f21-60a1-415a-9c6c-5ba225516da5",
   "metadata": {},
   "source": [
    "### Plot results"
   ]
  },
  {
   "cell_type": "code",
   "execution_count": 48,
   "id": "bef7132c-b18c-4d29-bc67-e7d270d5eccf",
   "metadata": {
    "tags": []
   },
   "outputs": [],
   "source": [
    "def plot_cmc_or_map(values, axes, ylabel, title):\n",
    "    fig, ax = plt.subplots(layout='constrained')\n",
    "    x = np.arange(len(axes))\n",
    "    width = 0.2\n",
    "    multiplier = 0\n",
    "\n",
    "    for attribute, measurement in values.items():\n",
    "        offset = width * multiplier\n",
    "        rects = ax.bar(x + offset, measurement, width, label=attribute)\n",
    "        ax.bar_label(rects, padding=4)\n",
    "        multiplier += 1\n",
    "\n",
    "    ax.set_ylabel(ylabel)\n",
    "    ax.set_xlabel('k')\n",
    "    ax.set_title(title)\n",
    "    ax.set_xticks(x + (width * 1.5), axes)\n",
    "    ax.legend(loc='upper left', ncols=4)\n",
    "    plt.show()"
   ]
  },
  {
   "cell_type": "markdown",
   "id": "a6d06394-9e3a-46ad-84e5-96c095887878",
   "metadata": {},
   "source": [
    "#### CMC@k"
   ]
  },
  {
   "cell_type": "code",
   "execution_count": 49,
   "id": "e9285b20-d160-4766-9dca-16a3febbed68",
   "metadata": {
    "tags": []
   },
   "outputs": [
    {
     "data": {
      "image/png": "[encoded data removed]",
      "text/plain": [
       "<Figure size 1500x500 with 1 Axes>"
      ]
     },
     "metadata": {},
     "output_type": "display_data"
    }
   ],
   "source": [
    "# CMC@k\n",
    "plot_cmc_or_map(cmc_values, top_k, 'Score', 'CMC@k')"
   ]
  },
  {
   "cell_type": "markdown",
   "id": "d93e50eb-51b4-442d-8c61-215411aaeee0",
   "metadata": {},
   "source": [
    "#### mAP@k"
   ]
  },
  {
   "cell_type": "code",
   "execution_count": 50,
   "id": "f334fd83-5601-4d3f-93fd-0959689e01c6",
   "metadata": {
    "tags": []
   },
   "outputs": [
    {
     "data": {
      "image/png": "[encoded data removed]",
      "text/plain": [
       "<Figure size 1500x500 with 1 Axes>"
      ]
     },
     "metadata": {},
     "output_type": "display_data"
    }
   ],
   "source": [
    "# mAP@k\n",
    "plot_cmc_or_map(map_values, top_k, 'Score', 'mAP@k')"
   ]
  },
  {
   "cell_type": "markdown",
   "id": "4acfb81c-24dd-43ba-b293-1be1fd512e5b",
   "metadata": {},
   "source": [
    "#### Accuracy\n",
    "\n",
    "To compare the candidate's choice between 1-knn and n-knn. If n-knn, the lynx_id of the current image will be the one found most often among the neighbours."
   ]
  },
  {
   "cell_type": "code",
   "execution_count": 51,
   "id": "486656da-ed78-48e3-bba5-5525cc8defca",
   "metadata": {
    "tags": []
   },
   "outputs": [
    {
     "data": {
      "image/png": "[encoded data removed]",
      "text/plain": [
       "<Figure size 1500x500 with 1 Axes>"
      ]
     },
     "metadata": {},
     "output_type": "display_data"
    }
   ],
   "source": [
    "# Accuracy plot\n",
    "accuracy_list_t = list(zip(*accuracy_list))\n",
    "\n",
    "plt.rcParams[\"figure.figsize\"] = (15,5)\n",
    "fig, ax = plt.subplots()\n",
    "\n",
    "width = 0.35\n",
    "\n",
    "# Gaussian\n",
    "bar1 = ax.bar(range(len(accuracy_list)), accuracy_list_t[0], width=width, label='1-knn')\n",
    "bar2 = ax.bar([x + width for x in range(len(accuracy_list))], accuracy_list_t[1], width=width, label=f'{n_neighbors}-knn')\n",
    "\n",
    "# Classic threshold\n",
    "ax.axhline(y=accuracy_threshold, color='r', linestyle='--', label=f'Accuracy Threshold ({accuracy_threshold:.2f})')\n",
    "ax.legend()\n",
    "\n",
    "ax.set_xticks([x + width / 2 for x in range(len(accuracy_list))])\n",
    "ax.set_xticklabels(confidence_levels)\n",
    "ax.set_xlabel('Confidence level')\n",
    "ax.set_ylabel('Accuracy')\n",
    "ax.set_title('Accuracy as a function of sigma standard deviations')\n",
    "\n",
    "ax.legend()\n",
    "\n",
    "def add_text_labels(bars):\n",
    "    for bar in bars:\n",
    "        height = bar.get_height()\n",
    "        ax.text(bar.get_x() + bar.get_width() / 2, height, f'{height:.2f}', ha='center', va='bottom')\n",
    "\n",
    "add_text_labels(bar1)\n",
    "add_text_labels(bar2)\n",
    "\n",
    "plt.show()"
   ]
  },
  {
   "cell_type": "code",
   "execution_count": null,
   "id": "abb0aa23-7c91-4bd9-b121-cf4746f673a9",
   "metadata": {},
   "outputs": [],
   "source": []
  }
 ],
 "metadata": {
  "kernelspec": {
   "display_name": "pytorch-gpu-2.1.1_py3.11.5",
   "language": "python",
   "name": "module-conda-env-pytorch-gpu-2.1.1_py3.11.5"
  },
  "language_info": {
   "codemirror_mode": {
    "name": "ipython",
    "version": 3
   },
   "file_extension": ".py",
   "mimetype": "text/x-python",
   "name": "python",
   "nbconvert_exporter": "python",
   "pygments_lexer": "ipython3",
   "version": "3.11.6"
  }
 },
 "nbformat": 4,
 "nbformat_minor": 5
}
