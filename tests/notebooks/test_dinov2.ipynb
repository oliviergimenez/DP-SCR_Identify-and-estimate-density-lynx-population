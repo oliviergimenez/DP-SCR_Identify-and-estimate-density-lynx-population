{
 "cells": [
  {
   "cell_type": "markdown",
   "id": "92d2fdbb-27b5-419c-b7c1-a00a4b1b0ba4",
   "metadata": {
    "tags": []
   },
   "source": [
    "# Tests on dinov2 embeddings"
   ]
  },
  {
   "cell_type": "markdown",
   "id": "0c14d35d-aa91-4f62-ad40-ad1275fa28b1",
   "metadata": {
    "tags": []
   },
   "source": [
    "## Imports"
   ]
  },
  {
   "cell_type": "code",
   "execution_count": 1,
   "id": "330fa7b5-288c-4106-a487-7088eecb069e",
   "metadata": {
    "tags": []
   },
   "outputs": [],
   "source": [
    "import os\n",
    "import torch"
   ]
  },
  {
   "cell_type": "code",
   "execution_count": 2,
   "id": "699fac67-bf9d-4498-b816-ba87a1615a26",
   "metadata": {
    "tags": []
   },
   "outputs": [],
   "source": [
    "device = torch.device('cuda' if torch.cuda.is_available() else 'cpu')"
   ]
  },
  {
   "cell_type": "markdown",
   "id": "f7a2d656-893a-4089-bb4f-c90fcaff532d",
   "metadata": {},
   "source": [
    "# Checking torch cache dir\n",
    "Warning : make sure to set torch hub cache dir to reuse downloade"
   ]
  },
  {
   "cell_type": "code",
   "execution_count": 3,
   "id": "5ffa21a9-99c7-4d91-bb55-1afc0f5458c2",
   "metadata": {
    "tags": []
   },
   "outputs": [
    {
     "data": {
      "text/plain": [
       "'/linkhome/idris/genidr/ssos023/.cache/torch/hub'"
      ]
     },
     "execution_count": 3,
     "metadata": {},
     "output_type": "execute_result"
    }
   ],
   "source": [
    "torch.hub.get_dir()"
   ]
  },
  {
   "cell_type": "markdown",
   "id": "fa5997de-a1f7-42f8-b188-6e6621d13317",
   "metadata": {},
   "source": [
    "## Setting torch cache dir for download"
   ]
  },
  {
   "cell_type": "code",
   "execution_count": 7,
   "id": "039ef011-42c9-4455-b3e4-dcd75b5a823d",
   "metadata": {
    "tags": []
   },
   "outputs": [],
   "source": [
    "# Assuming $ALL_CCFRWORK is an environment variable that stores the desired path\n",
    "hub_dir = os.path.join('/gpfswork/rech/ads/commun','models')\n",
    "\n",
    "if hub_dir is not None:\n",
    "    torch.hub.set_dir(hub_dir)\n",
    "else:\n",
    "    print(\"Environment variable 'ALL_CCFRWORK' is not set.\")\n"
   ]
  },
  {
   "cell_type": "markdown",
   "id": "a32803d4-bb44-4a44-a4c9-2ffec26f49c4",
   "metadata": {
    "tags": []
   },
   "source": [
    "## Download dinov2 weights"
   ]
  },
  {
   "cell_type": "raw",
   "id": "8413a4e4-bcc1-4437-80fc-118777241698",
   "metadata": {},
   "source": [
    "# DINOv2 with registers\n",
    "dinov2_vits14_reg = torch.hub.load('facebookresearch/dinov2', 'dinov2_vits14_reg')\n",
    "dinov2_vitb14_reg = torch.hub.load('facebookresearch/dinov2', 'dinov2_vitb14_reg')\n",
    "dinov2_vitl14_reg = torch.hub.load('facebookresearch/dinov2', 'dinov2_vitl14_reg')\n",
    "#dinov2_vitg14_reg = torch.hub.load('facebookresearch/dinov2', 'dinov2_vitg14_reg')"
   ]
  },
  {
   "cell_type": "markdown",
   "id": "cb15db02-4f2f-48e1-9006-5a9c3f432c91",
   "metadata": {},
   "source": [
    "## Loading a dinov2"
   ]
  },
  {
   "cell_type": "code",
   "execution_count": 8,
   "id": "f4b78502-a277-4535-82f4-dd3509ae15ce",
   "metadata": {
    "tags": []
   },
   "outputs": [
    {
     "name": "stderr",
     "output_type": "stream",
     "text": [
      "Using cache found in /gpfswork/rech/ads/commun/models/facebookresearch_dinov2_main\n",
      "/gpfswork/rech/ads/commun/models/facebookresearch_dinov2_main/dinov2/layers/swiglu_ffn.py:43: UserWarning: xFormers is available (SwiGLU)\n",
      "  warnings.warn(\"xFormers is available (SwiGLU)\")\n",
      "/gpfswork/rech/ads/commun/models/facebookresearch_dinov2_main/dinov2/layers/attention.py:27: UserWarning: xFormers is available (Attention)\n",
      "  warnings.warn(\"xFormers is available (Attention)\")\n",
      "/gpfswork/rech/ads/commun/models/facebookresearch_dinov2_main/dinov2/layers/block.py:33: UserWarning: xFormers is available (Block)\n",
      "  warnings.warn(\"xFormers is available (Block)\")\n"
     ]
    }
   ],
   "source": [
    "dinov2_vitg14_reg = torch.hub.load(repo_or_dir='facebookresearch/dinov2', model='dinov2_vitg14_reg').to(device)"
   ]
  },
  {
   "cell_type": "code",
   "execution_count": 14,
   "id": "3c15d177-54c6-42ad-b8cb-8efcfa2f6f6d",
   "metadata": {
    "tags": []
   },
   "outputs": [],
   "source": [
    "random_image = torch.randn(1, 3, 224, 224).to(device)  # Batch size of 1\n",
    "\n",
    "output = dinov2_vitg14_reg(random_image)"
   ]
  },
  {
   "cell_type": "code",
   "execution_count": 18,
   "id": "8ab9cece-5c2d-4437-9166-dd198c1b14a9",
   "metadata": {
    "tags": []
   },
   "outputs": [
    {
     "data": {
      "text/plain": [
       "torch.Size([1, 1536])"
      ]
     },
     "execution_count": 18,
     "metadata": {},
     "output_type": "execute_result"
    }
   ],
   "source": [
    "output.shape"
   ]
  },
  {
   "cell_type": "code",
   "execution_count": 17,
   "id": "434145f2-3208-481c-8318-50dc86129bd2",
   "metadata": {
    "tags": []
   },
   "outputs": [
    {
     "data": {
      "text/plain": [
       "DinoVisionTransformer(\n",
       "  (patch_embed): PatchEmbed(\n",
       "    (proj): Conv2d(3, 1536, kernel_size=(14, 14), stride=(14, 14))\n",
       "    (norm): Identity()\n",
       "  )\n",
       "  (blocks): ModuleList(\n",
       "    (0-39): 40 x NestedTensorBlock(\n",
       "      (norm1): LayerNorm((1536,), eps=1e-06, elementwise_affine=True)\n",
       "      (attn): MemEffAttention(\n",
       "        (qkv): Linear(in_features=1536, out_features=4608, bias=True)\n",
       "        (attn_drop): Dropout(p=0.0, inplace=False)\n",
       "        (proj): Linear(in_features=1536, out_features=1536, bias=True)\n",
       "        (proj_drop): Dropout(p=0.0, inplace=False)\n",
       "      )\n",
       "      (ls1): LayerScale()\n",
       "      (drop_path1): Identity()\n",
       "      (norm2): LayerNorm((1536,), eps=1e-06, elementwise_affine=True)\n",
       "      (mlp): SwiGLUFFNFused(\n",
       "        (w12): Linear(in_features=1536, out_features=8192, bias=True)\n",
       "        (w3): Linear(in_features=4096, out_features=1536, bias=True)\n",
       "      )\n",
       "      (ls2): LayerScale()\n",
       "      (drop_path2): Identity()\n",
       "    )\n",
       "  )\n",
       "  (norm): LayerNorm((1536,), eps=1e-06, elementwise_affine=True)\n",
       "  (head): Identity()\n",
       ")"
      ]
     },
     "execution_count": 17,
     "metadata": {},
     "output_type": "execute_result"
    }
   ],
   "source": [
    "dinov2_vitg14_reg"
   ]
  },
  {
   "cell_type": "code",
   "execution_count": null,
   "id": "b0542000-3242-4f9b-95a1-edd7be75bd73",
   "metadata": {},
   "outputs": [],
   "source": []
  }
 ],
 "metadata": {
  "kernelspec": {
   "display_name": "pytorch-gpu-2.1.1_py3.11.5",
   "language": "python",
   "name": "module-conda-env-pytorch-gpu-2.1.1_py3.11.5"
  },
  "language_info": {
   "codemirror_mode": {
    "name": "ipython",
    "version": 3
   },
   "file_extension": ".py",
   "mimetype": "text/x-python",
   "name": "python",
   "nbconvert_exporter": "python",
   "pygments_lexer": "ipython3",
   "version": "3.11.6"
  }
 },
 "nbformat": 4,
 "nbformat_minor": 5
}
